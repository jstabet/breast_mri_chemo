{
 "cells": [
  {
   "cell_type": "markdown",
   "id": "5db39ad1",
   "metadata": {},
   "source": [
    "# load dataset"
   ]
  },
  {
   "cell_type": "code",
   "execution_count": 1,
   "id": "cd4bbfee",
   "metadata": {},
   "outputs": [
    {
     "name": "stderr",
     "output_type": "stream",
     "text": [
      "/home/jstabet/miniforge3/envs/dicom/lib/python3.13/site-packages/tqdm/auto.py:21: TqdmWarning: IProgress not found. Please update jupyter and ipywidgets. See https://ipywidgets.readthedocs.io/en/stable/user_install.html\n",
      "  from .autonotebook import tqdm as notebook_tqdm\n",
      "WARNING: In /home/jstabet/miniforge3/envs/dicom/include/ITK-5.4/itkImageSeriesReader.hxx, line WARNING: In /home/jstabet/miniforge3/envs/dicom/include/ITK-5.4/itkImageSeriesReader.hxx, line "
     ]
    },
    {
     "name": "stdout",
     "output_type": "stream",
     "text": [
      "0 torch.Size([10, 1, 512, 512, 60]) torch.Size([10])\n"
     ]
    },
    {
     "data": {
      "text/plain": [
       "(290, 203, 87)"
      ]
     },
     "execution_count": 1,
     "metadata": {},
     "output_type": "execute_result"
    }
   ],
   "source": [
    "import os\n",
    "import torch\n",
    "import torchio as tio\n",
    "\n",
    "dataset = torch.load('../data/preproc.pt', weights_only=False)\n",
    "\n",
    "# split into train and test\n",
    "BATCH_SIZE = 10\n",
    "\n",
    "train_data, test_data = torch.utils.data.random_split(dataset, [0.7, 0.3])\n",
    "\n",
    "train_loader = torch.utils.data.DataLoader(train_data, batch_size=BATCH_SIZE, shuffle=True)\n",
    "test_loader = torch.utils.data.DataLoader(test_data, batch_size=BATCH_SIZE, shuffle=False)\n",
    "\n",
    "# check loaders\n",
    "for i, batch in enumerate(train_loader):\n",
    "    inputs = batch['mri'][tio.DATA] # shape: (B, 1, D, H, W)\n",
    "    labels = batch['label']\n",
    "    print(i, inputs.shape, labels.shape)\n",
    "    break\n",
    "\n",
    "train_N = len(train_loader.dataset)\n",
    "test_N = len(test_loader.dataset)\n",
    "len(dataset), train_N, test_N"
   ]
  },
  {
   "cell_type": "markdown",
   "id": "09445798",
   "metadata": {},
   "source": [
    "# model"
   ]
  },
  {
   "cell_type": "code",
   "execution_count": 2,
   "id": "979dfe76",
   "metadata": {},
   "outputs": [],
   "source": [
    "import torch.nn as nn\n",
    "import torch.nn.functional as F\n",
    "\n",
    "class MRIClassifier(nn.Module):\n",
    "    def __init__(self, in_channels=1, num_classes=2):\n",
    "        super(MRIClassifier, self).__init__()\n",
    "        self.conv1 = nn.Conv3d(in_channels, 32, kernel_size=3, padding=1)\n",
    "        self.bn1 = nn.BatchNorm3d(32)\n",
    "        self.pool1 = nn.MaxPool3d(kernel_size=2)\n",
    "\n",
    "        self.conv2 = nn.Conv3d(32, 64, kernel_size=3, padding=1)\n",
    "        self.bn2 = nn.BatchNorm3d(64)\n",
    "        self.pool2 = nn.MaxPool3d(kernel_size=2)\n",
    "\n",
    "        self.global_pool = nn.AdaptiveAvgPool3d((1, 1, 1))\n",
    "        self.fc = nn.Linear(64, num_classes)\n",
    "\n",
    "    def forward(self, x):\n",
    "        x = self.pool1(F.relu(self.bn1(self.conv1(x))))\n",
    "        x = self.pool2(F.relu(self.bn2(self.conv2(x))))\n",
    "        x = self.global_pool(x) # shape: (B, 64, 1, 1, 1)\n",
    "        x = x.view(x.size(0), -1) # shape: (B, 64)\n",
    "        return self.fc(x)"
   ]
  },
  {
   "cell_type": "markdown",
   "id": "edf34858",
   "metadata": {},
   "source": [
    "# train"
   ]
  },
  {
   "cell_type": "code",
   "execution_count": null,
   "id": "09981211",
   "metadata": {},
   "outputs": [
    {
     "name": "stderr",
     "output_type": "stream",
     "text": [
      "WARNING: In /home/jstabet/miniforge3/envs/dicom/include/ITK-5.4/itkImageSeriesReader.hxx, line WARNING: In /home/jstabet/miniforge3/envs/dicom/include/ITK-5.4/itkImageSeriesReader.hxx, line WARNING: In /home/jstabet/miniforge3/envs/dicom/include/ITK-5.4/itkImageSeriesReader.hxx, line WARNING: In /home/jstabet/miniforge3/envs/dicom/include/ITK-5.4/itkImageSeriesReader.hxx, line WARNING: In /home/jstabet/miniforge3/envs/dicom/include/ITK-5.4/itkImageSeriesReader.hxx, line WARNING: In /home/jstabet/miniforge3/envs/dicom/include/ITK-5.4/itkImageSeriesReader.hxx, line WARNING: In /home/jstabet/miniforge3/envs/dicom/include/ITK-5.4/itkImageSeriesReader.hxx, line WARNING: In /home/jstabet/miniforge3/envs/dicom/include/ITK-5.4/itkImageSeriesReader.hxx, line WARNING: In /home/jstabet/miniforge3/envs/dicom/include/ITK-5.4/itkImageSeriesReader.hxx, line WARNING: In /home/jstabet/miniforge3/envs/dicom/include/ITK-5.4/itkImageSeriesReader.hxx, line WARNING: In /home/jstabet/miniforge3/envs/dicom/include/ITK-5.4/itkImageSeriesReader.hxx, line WARNING: In /home/jstabet/miniforge3/envs/dicom/include/ITK-5.4/itkImageSeriesReader.hxx, line WARNING: In /home/jstabet/miniforge3/envs/dicom/include/ITK-5.4/itkImageSeriesReader.hxx, line WARNING: In /home/jstabet/miniforge3/envs/dicom/include/ITK-5.4/itkImageSeriesReader.hxx, line WARNING: In /home/jstabet/miniforge3/envs/dicom/include/ITK-5.4/itkImageSeriesReader.hxx, line WARNING: In /home/jstabet/miniforge3/envs/dicom/include/ITK-5.4/itkImageSeriesReader.hxx, line WARNING: In /home/jstabet/miniforge3/envs/dicom/include/ITK-5.4/itkImageSeriesReader.hxx, line WARNING: In /home/jstabet/miniforge3/envs/dicom/include/ITK-5.4/itkImageSeriesReader.hxx, line WARNING: In /home/jstabet/miniforge3/envs/dicom/include/ITK-5.4/itkImageSeriesReader.hxx, line WARNING: In /home/jstabet/miniforge3/envs/dicom/include/ITK-5.4/itkImageSeriesReader.hxx, line WARNING: In /home/jstabet/miniforge3/envs/dicom/include/ITK-5.4/itkImageSeriesReader.hxx, line WARNING: In /home/jstabet/miniforge3/envs/dicom/include/ITK-5.4/itkImageSeriesReader.hxx, line WARNING: In /home/jstabet/miniforge3/envs/dicom/include/ITK-5.4/itkImageSeriesReader.hxx, line WARNING: In /home/jstabet/miniforge3/envs/dicom/include/ITK-5.4/itkImageSeriesReader.hxx, line WARNING: In /home/jstabet/miniforge3/envs/dicom/include/ITK-5.4/itkImageSeriesReader.hxx, line "
     ]
    },
    {
     "name": "stdout",
     "output_type": "stream",
     "text": [
      "Epoch 1/100\tTrain Loss: 0.0699 | Train Acc: 0.6108\n"
     ]
    },
    {
     "name": "stderr",
     "output_type": "stream",
     "text": [
      "WARNING: In /home/jstabet/miniforge3/envs/dicom/include/ITK-5.4/itkImageSeriesReader.hxx, line WARNING: In /home/jstabet/miniforge3/envs/dicom/include/ITK-5.4/itkImageSeriesReader.hxx, line WARNING: In /home/jstabet/miniforge3/envs/dicom/include/ITK-5.4/itkImageSeriesReader.hxx, line WARNING: In /home/jstabet/miniforge3/envs/dicom/include/ITK-5.4/itkImageSeriesReader.hxx, line WARNING: In /home/jstabet/miniforge3/envs/dicom/include/ITK-5.4/itkImageSeriesReader.hxx, line WARNING: In /home/jstabet/miniforge3/envs/dicom/include/ITK-5.4/itkImageSeriesReader.hxx, line WARNING: In /home/jstabet/miniforge3/envs/dicom/include/ITK-5.4/itkImageSeriesReader.hxx, line WARNING: In /home/jstabet/miniforge3/envs/dicom/include/ITK-5.4/itkImageSeriesReader.hxx, line WARNING: In /home/jstabet/miniforge3/envs/dicom/include/ITK-5.4/itkImageSeriesReader.hxx, line WARNING: In /home/jstabet/miniforge3/envs/dicom/include/ITK-5.4/itkImageSeriesReader.hxx, line WARNING: In /home/jstabet/miniforge3/envs/dicom/include/ITK-5.4/itkImageSeriesReader.hxx, line WARNING: In /home/jstabet/miniforge3/envs/dicom/include/ITK-5.4/itkImageSeriesReader.hxx, line WARNING: In /home/jstabet/miniforge3/envs/dicom/include/ITK-5.4/itkImageSeriesReader.hxx, line WARNING: In /home/jstabet/miniforge3/envs/dicom/include/ITK-5.4/itkImageSeriesReader.hxx, line WARNING: In /home/jstabet/miniforge3/envs/dicom/include/ITK-5.4/itkImageSeriesReader.hxx, line WARNING: In /home/jstabet/miniforge3/envs/dicom/include/ITK-5.4/itkImageSeriesReader.hxx, line WARNING: In /home/jstabet/miniforge3/envs/dicom/include/ITK-5.4/itkImageSeriesReader.hxx, line WARNING: In /home/jstabet/miniforge3/envs/dicom/include/ITK-5.4/itkImageSeriesReader.hxx, line WARNING: In /home/jstabet/miniforge3/envs/dicom/include/ITK-5.4/itkImageSeriesReader.hxx, line WARNING: In /home/jstabet/miniforge3/envs/dicom/include/ITK-5.4/itkImageSeriesReader.hxx, line WARNING: In /home/jstabet/miniforge3/envs/dicom/include/ITK-5.4/itkImageSeriesReader.hxx, line WARNING: In /home/jstabet/miniforge3/envs/dicom/include/ITK-5.4/itkImageSeriesReader.hxx, line WARNING: In /home/jstabet/miniforge3/envs/dicom/include/ITK-5.4/itkImageSeriesReader.hxx, line WARNING: In /home/jstabet/miniforge3/envs/dicom/include/ITK-5.4/itkImageSeriesReader.hxx, line WARNING: In /home/jstabet/miniforge3/envs/dicom/include/ITK-5.4/itkImageSeriesReader.hxx, line "
     ]
    },
    {
     "name": "stdout",
     "output_type": "stream",
     "text": [
      "Epoch 2/100\tTrain Loss: 0.0542 | Train Acc: 0.7980\n"
     ]
    },
    {
     "name": "stderr",
     "output_type": "stream",
     "text": [
      "WARNING: In /home/jstabet/miniforge3/envs/dicom/include/ITK-5.4/itkImageSeriesReader.hxx, line WARNING: In /home/jstabet/miniforge3/envs/dicom/include/ITK-5.4/itkImageSeriesReader.hxx, line WARNING: In /home/jstabet/miniforge3/envs/dicom/include/ITK-5.4/itkImageSeriesReader.hxx, line WARNING: In /home/jstabet/miniforge3/envs/dicom/include/ITK-5.4/itkImageSeriesReader.hxx, line WARNING: In /home/jstabet/miniforge3/envs/dicom/include/ITK-5.4/itkImageSeriesReader.hxx, line WARNING: In /home/jstabet/miniforge3/envs/dicom/include/ITK-5.4/itkImageSeriesReader.hxx, line WARNING: In /home/jstabet/miniforge3/envs/dicom/include/ITK-5.4/itkImageSeriesReader.hxx, line WARNING: In /home/jstabet/miniforge3/envs/dicom/include/ITK-5.4/itkImageSeriesReader.hxx, line WARNING: In /home/jstabet/miniforge3/envs/dicom/include/ITK-5.4/itkImageSeriesReader.hxx, line WARNING: In /home/jstabet/miniforge3/envs/dicom/include/ITK-5.4/itkImageSeriesReader.hxx, line WARNING: In /home/jstabet/miniforge3/envs/dicom/include/ITK-5.4/itkImageSeriesReader.hxx, line WARNING: In /home/jstabet/miniforge3/envs/dicom/include/ITK-5.4/itkImageSeriesReader.hxx, line WARNING: In /home/jstabet/miniforge3/envs/dicom/include/ITK-5.4/itkImageSeriesReader.hxx, line WARNING: In /home/jstabet/miniforge3/envs/dicom/include/ITK-5.4/itkImageSeriesReader.hxx, line WARNING: In /home/jstabet/miniforge3/envs/dicom/include/ITK-5.4/itkImageSeriesReader.hxx, line WARNING: In /home/jstabet/miniforge3/envs/dicom/include/ITK-5.4/itkImageSeriesReader.hxx, line WARNING: In /home/jstabet/miniforge3/envs/dicom/include/ITK-5.4/itkImageSeriesReader.hxx, line WARNING: In /home/jstabet/miniforge3/envs/dicom/include/ITK-5.4/itkImageSeriesReader.hxx, line WARNING: In /home/jstabet/miniforge3/envs/dicom/include/ITK-5.4/itkImageSeriesReader.hxx, line WARNING: In /home/jstabet/miniforge3/envs/dicom/include/ITK-5.4/itkImageSeriesReader.hxx, line WARNING: In /home/jstabet/miniforge3/envs/dicom/include/ITK-5.4/itkImageSeriesReader.hxx, line WARNING: In /home/jstabet/miniforge3/envs/dicom/include/ITK-5.4/itkImageSeriesReader.hxx, line WARNING: In /home/jstabet/miniforge3/envs/dicom/include/ITK-5.4/itkImageSeriesReader.hxx, line WARNING: In /home/jstabet/miniforge3/envs/dicom/include/ITK-5.4/itkImageSeriesReader.hxx, line WARNING: In /home/jstabet/miniforge3/envs/dicom/include/ITK-5.4/itkImageSeriesReader.hxx, line "
     ]
    },
    {
     "name": "stdout",
     "output_type": "stream",
     "text": [
      "Epoch 3/100\tTrain Loss: 0.0515 | Train Acc: 0.7980\n"
     ]
    },
    {
     "name": "stderr",
     "output_type": "stream",
     "text": [
      "WARNING: In /home/jstabet/miniforge3/envs/dicom/include/ITK-5.4/itkImageSeriesReader.hxx, line WARNING: In /home/jstabet/miniforge3/envs/dicom/include/ITK-5.4/itkImageSeriesReader.hxx, line WARNING: In /home/jstabet/miniforge3/envs/dicom/include/ITK-5.4/itkImageSeriesReader.hxx, line WARNING: In /home/jstabet/miniforge3/envs/dicom/include/ITK-5.4/itkImageSeriesReader.hxx, line WARNING: In /home/jstabet/miniforge3/envs/dicom/include/ITK-5.4/itkImageSeriesReader.hxx, line WARNING: In /home/jstabet/miniforge3/envs/dicom/include/ITK-5.4/itkImageSeriesReader.hxx, line WARNING: In /home/jstabet/miniforge3/envs/dicom/include/ITK-5.4/itkImageSeriesReader.hxx, line WARNING: In /home/jstabet/miniforge3/envs/dicom/include/ITK-5.4/itkImageSeriesReader.hxx, line WARNING: In /home/jstabet/miniforge3/envs/dicom/include/ITK-5.4/itkImageSeriesReader.hxx, line WARNING: In /home/jstabet/miniforge3/envs/dicom/include/ITK-5.4/itkImageSeriesReader.hxx, line WARNING: In /home/jstabet/miniforge3/envs/dicom/include/ITK-5.4/itkImageSeriesReader.hxx, line WARNING: In /home/jstabet/miniforge3/envs/dicom/include/ITK-5.4/itkImageSeriesReader.hxx, line WARNING: In /home/jstabet/miniforge3/envs/dicom/include/ITK-5.4/itkImageSeriesReader.hxx, line WARNING: In /home/jstabet/miniforge3/envs/dicom/include/ITK-5.4/itkImageSeriesReader.hxx, line WARNING: In /home/jstabet/miniforge3/envs/dicom/include/ITK-5.4/itkImageSeriesReader.hxx, line WARNING: In /home/jstabet/miniforge3/envs/dicom/include/ITK-5.4/itkImageSeriesReader.hxx, line WARNING: In /home/jstabet/miniforge3/envs/dicom/include/ITK-5.4/itkImageSeriesReader.hxx, line WARNING: In /home/jstabet/miniforge3/envs/dicom/include/ITK-5.4/itkImageSeriesReader.hxx, line WARNING: In /home/jstabet/miniforge3/envs/dicom/include/ITK-5.4/itkImageSeriesReader.hxx, line WARNING: In /home/jstabet/miniforge3/envs/dicom/include/ITK-5.4/itkImageSeriesReader.hxx, line WARNING: In /home/jstabet/miniforge3/envs/dicom/include/ITK-5.4/itkImageSeriesReader.hxx, line WARNING: In /home/jstabet/miniforge3/envs/dicom/include/ITK-5.4/itkImageSeriesReader.hxx, line WARNING: In /home/jstabet/miniforge3/envs/dicom/include/ITK-5.4/itkImageSeriesReader.hxx, line WARNING: In /home/jstabet/miniforge3/envs/dicom/include/ITK-5.4/itkImageSeriesReader.hxx, line WARNING: In /home/jstabet/miniforge3/envs/dicom/include/ITK-5.4/itkImageSeriesReader.hxx, line "
     ]
    },
    {
     "name": "stdout",
     "output_type": "stream",
     "text": [
      "Epoch 4/100\tTrain Loss: 0.0512 | Train Acc: 0.7980\n"
     ]
    },
    {
     "name": "stderr",
     "output_type": "stream",
     "text": [
      "WARNING: In /home/jstabet/miniforge3/envs/dicom/include/ITK-5.4/itkImageSeriesReader.hxx, line WARNING: In /home/jstabet/miniforge3/envs/dicom/include/ITK-5.4/itkImageSeriesReader.hxx, line WARNING: In /home/jstabet/miniforge3/envs/dicom/include/ITK-5.4/itkImageSeriesReader.hxx, line WARNING: In /home/jstabet/miniforge3/envs/dicom/include/ITK-5.4/itkImageSeriesReader.hxx, line WARNING: In /home/jstabet/miniforge3/envs/dicom/include/ITK-5.4/itkImageSeriesReader.hxx, line WARNING: In /home/jstabet/miniforge3/envs/dicom/include/ITK-5.4/itkImageSeriesReader.hxx, line WARNING: In /home/jstabet/miniforge3/envs/dicom/include/ITK-5.4/itkImageSeriesReader.hxx, line WARNING: In /home/jstabet/miniforge3/envs/dicom/include/ITK-5.4/itkImageSeriesReader.hxx, line WARNING: In /home/jstabet/miniforge3/envs/dicom/include/ITK-5.4/itkImageSeriesReader.hxx, line WARNING: In /home/jstabet/miniforge3/envs/dicom/include/ITK-5.4/itkImageSeriesReader.hxx, line WARNING: In /home/jstabet/miniforge3/envs/dicom/include/ITK-5.4/itkImageSeriesReader.hxx, line WARNING: In /home/jstabet/miniforge3/envs/dicom/include/ITK-5.4/itkImageSeriesReader.hxx, line WARNING: In /home/jstabet/miniforge3/envs/dicom/include/ITK-5.4/itkImageSeriesReader.hxx, line WARNING: In /home/jstabet/miniforge3/envs/dicom/include/ITK-5.4/itkImageSeriesReader.hxx, line WARNING: In /home/jstabet/miniforge3/envs/dicom/include/ITK-5.4/itkImageSeriesReader.hxx, line WARNING: In /home/jstabet/miniforge3/envs/dicom/include/ITK-5.4/itkImageSeriesReader.hxx, line WARNING: In /home/jstabet/miniforge3/envs/dicom/include/ITK-5.4/itkImageSeriesReader.hxx, line WARNING: In /home/jstabet/miniforge3/envs/dicom/include/ITK-5.4/itkImageSeriesReader.hxx, line WARNING: In /home/jstabet/miniforge3/envs/dicom/include/ITK-5.4/itkImageSeriesReader.hxx, line WARNING: In /home/jstabet/miniforge3/envs/dicom/include/ITK-5.4/itkImageSeriesReader.hxx, line WARNING: In /home/jstabet/miniforge3/envs/dicom/include/ITK-5.4/itkImageSeriesReader.hxx, line WARNING: In /home/jstabet/miniforge3/envs/dicom/include/ITK-5.4/itkImageSeriesReader.hxx, line WARNING: In /home/jstabet/miniforge3/envs/dicom/include/ITK-5.4/itkImageSeriesReader.hxx, line WARNING: In /home/jstabet/miniforge3/envs/dicom/include/ITK-5.4/itkImageSeriesReader.hxx, line WARNING: In /home/jstabet/miniforge3/envs/dicom/include/ITK-5.4/itkImageSeriesReader.hxx, line "
     ]
    },
    {
     "name": "stdout",
     "output_type": "stream",
     "text": [
      "Epoch 5/100\tTrain Loss: 0.0508 | Train Acc: 0.7980\n"
     ]
    },
    {
     "name": "stderr",
     "output_type": "stream",
     "text": [
      "WARNING: In /home/jstabet/miniforge3/envs/dicom/include/ITK-5.4/itkImageSeriesReader.hxx, line WARNING: In /home/jstabet/miniforge3/envs/dicom/include/ITK-5.4/itkImageSeriesReader.hxx, line WARNING: In /home/jstabet/miniforge3/envs/dicom/include/ITK-5.4/itkImageSeriesReader.hxx, line WARNING: In /home/jstabet/miniforge3/envs/dicom/include/ITK-5.4/itkImageSeriesReader.hxx, line WARNING: In /home/jstabet/miniforge3/envs/dicom/include/ITK-5.4/itkImageSeriesReader.hxx, line WARNING: In /home/jstabet/miniforge3/envs/dicom/include/ITK-5.4/itkImageSeriesReader.hxx, line WARNING: In /home/jstabet/miniforge3/envs/dicom/include/ITK-5.4/itkImageSeriesReader.hxx, line WARNING: In /home/jstabet/miniforge3/envs/dicom/include/ITK-5.4/itkImageSeriesReader.hxx, line WARNING: In /home/jstabet/miniforge3/envs/dicom/include/ITK-5.4/itkImageSeriesReader.hxx, line WARNING: In /home/jstabet/miniforge3/envs/dicom/include/ITK-5.4/itkImageSeriesReader.hxx, line WARNING: In /home/jstabet/miniforge3/envs/dicom/include/ITK-5.4/itkImageSeriesReader.hxx, line WARNING: In /home/jstabet/miniforge3/envs/dicom/include/ITK-5.4/itkImageSeriesReader.hxx, line WARNING: In /home/jstabet/miniforge3/envs/dicom/include/ITK-5.4/itkImageSeriesReader.hxx, line WARNING: In /home/jstabet/miniforge3/envs/dicom/include/ITK-5.4/itkImageSeriesReader.hxx, line WARNING: In /home/jstabet/miniforge3/envs/dicom/include/ITK-5.4/itkImageSeriesReader.hxx, line WARNING: In /home/jstabet/miniforge3/envs/dicom/include/ITK-5.4/itkImageSeriesReader.hxx, line WARNING: In /home/jstabet/miniforge3/envs/dicom/include/ITK-5.4/itkImageSeriesReader.hxx, line WARNING: In /home/jstabet/miniforge3/envs/dicom/include/ITK-5.4/itkImageSeriesReader.hxx, line WARNING: In /home/jstabet/miniforge3/envs/dicom/include/ITK-5.4/itkImageSeriesReader.hxx, line WARNING: In /home/jstabet/miniforge3/envs/dicom/include/ITK-5.4/itkImageSeriesReader.hxx, line WARNING: In /home/jstabet/miniforge3/envs/dicom/include/ITK-5.4/itkImageSeriesReader.hxx, line WARNING: In /home/jstabet/miniforge3/envs/dicom/include/ITK-5.4/itkImageSeriesReader.hxx, line WARNING: In /home/jstabet/miniforge3/envs/dicom/include/ITK-5.4/itkImageSeriesReader.hxx, line WARNING: In /home/jstabet/miniforge3/envs/dicom/include/ITK-5.4/itkImageSeriesReader.hxx, line WARNING: In /home/jstabet/miniforge3/envs/dicom/include/ITK-5.4/itkImageSeriesReader.hxx, line "
     ]
    },
    {
     "name": "stdout",
     "output_type": "stream",
     "text": [
      "Epoch 6/100\tTrain Loss: 0.0534 | Train Acc: 0.7980\n"
     ]
    },
    {
     "name": "stderr",
     "output_type": "stream",
     "text": [
      "WARNING: In /home/jstabet/miniforge3/envs/dicom/include/ITK-5.4/itkImageSeriesReader.hxx, line WARNING: In /home/jstabet/miniforge3/envs/dicom/include/ITK-5.4/itkImageSeriesReader.hxx, line WARNING: In /home/jstabet/miniforge3/envs/dicom/include/ITK-5.4/itkImageSeriesReader.hxx, line WARNING: In /home/jstabet/miniforge3/envs/dicom/include/ITK-5.4/itkImageSeriesReader.hxx, line WARNING: In /home/jstabet/miniforge3/envs/dicom/include/ITK-5.4/itkImageSeriesReader.hxx, line WARNING: In /home/jstabet/miniforge3/envs/dicom/include/ITK-5.4/itkImageSeriesReader.hxx, line WARNING: In /home/jstabet/miniforge3/envs/dicom/include/ITK-5.4/itkImageSeriesReader.hxx, line WARNING: In /home/jstabet/miniforge3/envs/dicom/include/ITK-5.4/itkImageSeriesReader.hxx, line WARNING: In /home/jstabet/miniforge3/envs/dicom/include/ITK-5.4/itkImageSeriesReader.hxx, line WARNING: In /home/jstabet/miniforge3/envs/dicom/include/ITK-5.4/itkImageSeriesReader.hxx, line WARNING: In /home/jstabet/miniforge3/envs/dicom/include/ITK-5.4/itkImageSeriesReader.hxx, line WARNING: In /home/jstabet/miniforge3/envs/dicom/include/ITK-5.4/itkImageSeriesReader.hxx, line WARNING: In /home/jstabet/miniforge3/envs/dicom/include/ITK-5.4/itkImageSeriesReader.hxx, line WARNING: In /home/jstabet/miniforge3/envs/dicom/include/ITK-5.4/itkImageSeriesReader.hxx, line WARNING: In /home/jstabet/miniforge3/envs/dicom/include/ITK-5.4/itkImageSeriesReader.hxx, line WARNING: In /home/jstabet/miniforge3/envs/dicom/include/ITK-5.4/itkImageSeriesReader.hxx, line WARNING: In /home/jstabet/miniforge3/envs/dicom/include/ITK-5.4/itkImageSeriesReader.hxx, line WARNING: In /home/jstabet/miniforge3/envs/dicom/include/ITK-5.4/itkImageSeriesReader.hxx, line WARNING: In /home/jstabet/miniforge3/envs/dicom/include/ITK-5.4/itkImageSeriesReader.hxx, line WARNING: In /home/jstabet/miniforge3/envs/dicom/include/ITK-5.4/itkImageSeriesReader.hxx, line WARNING: In /home/jstabet/miniforge3/envs/dicom/include/ITK-5.4/itkImageSeriesReader.hxx, line WARNING: In /home/jstabet/miniforge3/envs/dicom/include/ITK-5.4/itkImageSeriesReader.hxx, line WARNING: In /home/jstabet/miniforge3/envs/dicom/include/ITK-5.4/itkImageSeriesReader.hxx, line WARNING: In /home/jstabet/miniforge3/envs/dicom/include/ITK-5.4/itkImageSeriesReader.hxx, line WARNING: In /home/jstabet/miniforge3/envs/dicom/include/ITK-5.4/itkImageSeriesReader.hxx, line "
     ]
    },
    {
     "name": "stdout",
     "output_type": "stream",
     "text": [
      "Epoch 7/100\tTrain Loss: 0.0542 | Train Acc: 0.7980\n"
     ]
    },
    {
     "name": "stderr",
     "output_type": "stream",
     "text": [
      "WARNING: In /home/jstabet/miniforge3/envs/dicom/include/ITK-5.4/itkImageSeriesReader.hxx, line WARNING: In /home/jstabet/miniforge3/envs/dicom/include/ITK-5.4/itkImageSeriesReader.hxx, line WARNING: In /home/jstabet/miniforge3/envs/dicom/include/ITK-5.4/itkImageSeriesReader.hxx, line WARNING: In /home/jstabet/miniforge3/envs/dicom/include/ITK-5.4/itkImageSeriesReader.hxx, line WARNING: In /home/jstabet/miniforge3/envs/dicom/include/ITK-5.4/itkImageSeriesReader.hxx, line WARNING: In /home/jstabet/miniforge3/envs/dicom/include/ITK-5.4/itkImageSeriesReader.hxx, line WARNING: In /home/jstabet/miniforge3/envs/dicom/include/ITK-5.4/itkImageSeriesReader.hxx, line WARNING: In /home/jstabet/miniforge3/envs/dicom/include/ITK-5.4/itkImageSeriesReader.hxx, line WARNING: In /home/jstabet/miniforge3/envs/dicom/include/ITK-5.4/itkImageSeriesReader.hxx, line WARNING: In /home/jstabet/miniforge3/envs/dicom/include/ITK-5.4/itkImageSeriesReader.hxx, line WARNING: In /home/jstabet/miniforge3/envs/dicom/include/ITK-5.4/itkImageSeriesReader.hxx, line WARNING: In /home/jstabet/miniforge3/envs/dicom/include/ITK-5.4/itkImageSeriesReader.hxx, line WARNING: In /home/jstabet/miniforge3/envs/dicom/include/ITK-5.4/itkImageSeriesReader.hxx, line WARNING: In /home/jstabet/miniforge3/envs/dicom/include/ITK-5.4/itkImageSeriesReader.hxx, line WARNING: In /home/jstabet/miniforge3/envs/dicom/include/ITK-5.4/itkImageSeriesReader.hxx, line WARNING: In /home/jstabet/miniforge3/envs/dicom/include/ITK-5.4/itkImageSeriesReader.hxx, line WARNING: In /home/jstabet/miniforge3/envs/dicom/include/ITK-5.4/itkImageSeriesReader.hxx, line WARNING: In /home/jstabet/miniforge3/envs/dicom/include/ITK-5.4/itkImageSeriesReader.hxx, line WARNING: In /home/jstabet/miniforge3/envs/dicom/include/ITK-5.4/itkImageSeriesReader.hxx, line WARNING: In /home/jstabet/miniforge3/envs/dicom/include/ITK-5.4/itkImageSeriesReader.hxx, line WARNING: In /home/jstabet/miniforge3/envs/dicom/include/ITK-5.4/itkImageSeriesReader.hxx, line WARNING: In /home/jstabet/miniforge3/envs/dicom/include/ITK-5.4/itkImageSeriesReader.hxx, line WARNING: In /home/jstabet/miniforge3/envs/dicom/include/ITK-5.4/itkImageSeriesReader.hxx, line WARNING: In /home/jstabet/miniforge3/envs/dicom/include/ITK-5.4/itkImageSeriesReader.hxx, line WARNING: In /home/jstabet/miniforge3/envs/dicom/include/ITK-5.4/itkImageSeriesReader.hxx, line "
     ]
    },
    {
     "name": "stdout",
     "output_type": "stream",
     "text": [
      "Epoch 8/100\tTrain Loss: 0.0525 | Train Acc: 0.7980\n"
     ]
    },
    {
     "name": "stderr",
     "output_type": "stream",
     "text": [
      "WARNING: In /home/jstabet/miniforge3/envs/dicom/include/ITK-5.4/itkImageSeriesReader.hxx, line WARNING: In /home/jstabet/miniforge3/envs/dicom/include/ITK-5.4/itkImageSeriesReader.hxx, line WARNING: In /home/jstabet/miniforge3/envs/dicom/include/ITK-5.4/itkImageSeriesReader.hxx, line WARNING: In /home/jstabet/miniforge3/envs/dicom/include/ITK-5.4/itkImageSeriesReader.hxx, line WARNING: In /home/jstabet/miniforge3/envs/dicom/include/ITK-5.4/itkImageSeriesReader.hxx, line WARNING: In /home/jstabet/miniforge3/envs/dicom/include/ITK-5.4/itkImageSeriesReader.hxx, line WARNING: In /home/jstabet/miniforge3/envs/dicom/include/ITK-5.4/itkImageSeriesReader.hxx, line WARNING: In /home/jstabet/miniforge3/envs/dicom/include/ITK-5.4/itkImageSeriesReader.hxx, line WARNING: In /home/jstabet/miniforge3/envs/dicom/include/ITK-5.4/itkImageSeriesReader.hxx, line WARNING: In /home/jstabet/miniforge3/envs/dicom/include/ITK-5.4/itkImageSeriesReader.hxx, line WARNING: In /home/jstabet/miniforge3/envs/dicom/include/ITK-5.4/itkImageSeriesReader.hxx, line WARNING: In /home/jstabet/miniforge3/envs/dicom/include/ITK-5.4/itkImageSeriesReader.hxx, line WARNING: In /home/jstabet/miniforge3/envs/dicom/include/ITK-5.4/itkImageSeriesReader.hxx, line WARNING: In /home/jstabet/miniforge3/envs/dicom/include/ITK-5.4/itkImageSeriesReader.hxx, line WARNING: In /home/jstabet/miniforge3/envs/dicom/include/ITK-5.4/itkImageSeriesReader.hxx, line WARNING: In /home/jstabet/miniforge3/envs/dicom/include/ITK-5.4/itkImageSeriesReader.hxx, line WARNING: In /home/jstabet/miniforge3/envs/dicom/include/ITK-5.4/itkImageSeriesReader.hxx, line WARNING: In /home/jstabet/miniforge3/envs/dicom/include/ITK-5.4/itkImageSeriesReader.hxx, line WARNING: In /home/jstabet/miniforge3/envs/dicom/include/ITK-5.4/itkImageSeriesReader.hxx, line WARNING: In /home/jstabet/miniforge3/envs/dicom/include/ITK-5.4/itkImageSeriesReader.hxx, line WARNING: In /home/jstabet/miniforge3/envs/dicom/include/ITK-5.4/itkImageSeriesReader.hxx, line WARNING: In /home/jstabet/miniforge3/envs/dicom/include/ITK-5.4/itkImageSeriesReader.hxx, line WARNING: In /home/jstabet/miniforge3/envs/dicom/include/ITK-5.4/itkImageSeriesReader.hxx, line WARNING: In /home/jstabet/miniforge3/envs/dicom/include/ITK-5.4/itkImageSeriesReader.hxx, line WARNING: In /home/jstabet/miniforge3/envs/dicom/include/ITK-5.4/itkImageSeriesReader.hxx, line "
     ]
    },
    {
     "name": "stdout",
     "output_type": "stream",
     "text": [
      "Epoch 9/100\tTrain Loss: 0.0516 | Train Acc: 0.7980\n"
     ]
    },
    {
     "name": "stderr",
     "output_type": "stream",
     "text": [
      "WARNING: In /home/jstabet/miniforge3/envs/dicom/include/ITK-5.4/itkImageSeriesReader.hxx, line WARNING: In /home/jstabet/miniforge3/envs/dicom/include/ITK-5.4/itkImageSeriesReader.hxx, line WARNING: In /home/jstabet/miniforge3/envs/dicom/include/ITK-5.4/itkImageSeriesReader.hxx, line WARNING: In /home/jstabet/miniforge3/envs/dicom/include/ITK-5.4/itkImageSeriesReader.hxx, line WARNING: In /home/jstabet/miniforge3/envs/dicom/include/ITK-5.4/itkImageSeriesReader.hxx, line WARNING: In /home/jstabet/miniforge3/envs/dicom/include/ITK-5.4/itkImageSeriesReader.hxx, line WARNING: In /home/jstabet/miniforge3/envs/dicom/include/ITK-5.4/itkImageSeriesReader.hxx, line WARNING: In /home/jstabet/miniforge3/envs/dicom/include/ITK-5.4/itkImageSeriesReader.hxx, line WARNING: In /home/jstabet/miniforge3/envs/dicom/include/ITK-5.4/itkImageSeriesReader.hxx, line WARNING: In /home/jstabet/miniforge3/envs/dicom/include/ITK-5.4/itkImageSeriesReader.hxx, line WARNING: In /home/jstabet/miniforge3/envs/dicom/include/ITK-5.4/itkImageSeriesReader.hxx, line WARNING: In /home/jstabet/miniforge3/envs/dicom/include/ITK-5.4/itkImageSeriesReader.hxx, line WARNING: In /home/jstabet/miniforge3/envs/dicom/include/ITK-5.4/itkImageSeriesReader.hxx, line WARNING: In /home/jstabet/miniforge3/envs/dicom/include/ITK-5.4/itkImageSeriesReader.hxx, line WARNING: In /home/jstabet/miniforge3/envs/dicom/include/ITK-5.4/itkImageSeriesReader.hxx, line WARNING: In /home/jstabet/miniforge3/envs/dicom/include/ITK-5.4/itkImageSeriesReader.hxx, line WARNING: In /home/jstabet/miniforge3/envs/dicom/include/ITK-5.4/itkImageSeriesReader.hxx, line WARNING: In /home/jstabet/miniforge3/envs/dicom/include/ITK-5.4/itkImageSeriesReader.hxx, line WARNING: In /home/jstabet/miniforge3/envs/dicom/include/ITK-5.4/itkImageSeriesReader.hxx, line WARNING: In /home/jstabet/miniforge3/envs/dicom/include/ITK-5.4/itkImageSeriesReader.hxx, line WARNING: In /home/jstabet/miniforge3/envs/dicom/include/ITK-5.4/itkImageSeriesReader.hxx, line WARNING: In /home/jstabet/miniforge3/envs/dicom/include/ITK-5.4/itkImageSeriesReader.hxx, line WARNING: In /home/jstabet/miniforge3/envs/dicom/include/ITK-5.4/itkImageSeriesReader.hxx, line WARNING: In /home/jstabet/miniforge3/envs/dicom/include/ITK-5.4/itkImageSeriesReader.hxx, line WARNING: In /home/jstabet/miniforge3/envs/dicom/include/ITK-5.4/itkImageSeriesReader.hxx, line "
     ]
    },
    {
     "name": "stdout",
     "output_type": "stream",
     "text": [
      "Epoch 10/100\tTrain Loss: 0.0540 | Train Acc: 0.7980\n"
     ]
    },
    {
     "name": "stderr",
     "output_type": "stream",
     "text": [
      "WARNING: In /home/jstabet/miniforge3/envs/dicom/include/ITK-5.4/itkImageSeriesReader.hxx, line WARNING: In /home/jstabet/miniforge3/envs/dicom/include/ITK-5.4/itkImageSeriesReader.hxx, line WARNING: In /home/jstabet/miniforge3/envs/dicom/include/ITK-5.4/itkImageSeriesReader.hxx, line WARNING: In /home/jstabet/miniforge3/envs/dicom/include/ITK-5.4/itkImageSeriesReader.hxx, line WARNING: In /home/jstabet/miniforge3/envs/dicom/include/ITK-5.4/itkImageSeriesReader.hxx, line WARNING: In /home/jstabet/miniforge3/envs/dicom/include/ITK-5.4/itkImageSeriesReader.hxx, line WARNING: In /home/jstabet/miniforge3/envs/dicom/include/ITK-5.4/itkImageSeriesReader.hxx, line WARNING: In /home/jstabet/miniforge3/envs/dicom/include/ITK-5.4/itkImageSeriesReader.hxx, line WARNING: In /home/jstabet/miniforge3/envs/dicom/include/ITK-5.4/itkImageSeriesReader.hxx, line WARNING: In /home/jstabet/miniforge3/envs/dicom/include/ITK-5.4/itkImageSeriesReader.hxx, line WARNING: In /home/jstabet/miniforge3/envs/dicom/include/ITK-5.4/itkImageSeriesReader.hxx, line WARNING: In /home/jstabet/miniforge3/envs/dicom/include/ITK-5.4/itkImageSeriesReader.hxx, line WARNING: In /home/jstabet/miniforge3/envs/dicom/include/ITK-5.4/itkImageSeriesReader.hxx, line WARNING: In /home/jstabet/miniforge3/envs/dicom/include/ITK-5.4/itkImageSeriesReader.hxx, line WARNING: In /home/jstabet/miniforge3/envs/dicom/include/ITK-5.4/itkImageSeriesReader.hxx, line WARNING: In /home/jstabet/miniforge3/envs/dicom/include/ITK-5.4/itkImageSeriesReader.hxx, line WARNING: In /home/jstabet/miniforge3/envs/dicom/include/ITK-5.4/itkImageSeriesReader.hxx, line WARNING: In /home/jstabet/miniforge3/envs/dicom/include/ITK-5.4/itkImageSeriesReader.hxx, line WARNING: In /home/jstabet/miniforge3/envs/dicom/include/ITK-5.4/itkImageSeriesReader.hxx, line WARNING: In /home/jstabet/miniforge3/envs/dicom/include/ITK-5.4/itkImageSeriesReader.hxx, line WARNING: In /home/jstabet/miniforge3/envs/dicom/include/ITK-5.4/itkImageSeriesReader.hxx, line WARNING: In /home/jstabet/miniforge3/envs/dicom/include/ITK-5.4/itkImageSeriesReader.hxx, line WARNING: In /home/jstabet/miniforge3/envs/dicom/include/ITK-5.4/itkImageSeriesReader.hxx, line WARNING: In /home/jstabet/miniforge3/envs/dicom/include/ITK-5.4/itkImageSeriesReader.hxx, line WARNING: In /home/jstabet/miniforge3/envs/dicom/include/ITK-5.4/itkImageSeriesReader.hxx, line "
     ]
    },
    {
     "name": "stdout",
     "output_type": "stream",
     "text": [
      "Epoch 11/100\tTrain Loss: 0.0530 | Train Acc: 0.7980\n"
     ]
    },
    {
     "name": "stderr",
     "output_type": "stream",
     "text": [
      "WARNING: In /home/jstabet/miniforge3/envs/dicom/include/ITK-5.4/itkImageSeriesReader.hxx, line WARNING: In /home/jstabet/miniforge3/envs/dicom/include/ITK-5.4/itkImageSeriesReader.hxx, line WARNING: In /home/jstabet/miniforge3/envs/dicom/include/ITK-5.4/itkImageSeriesReader.hxx, line WARNING: In /home/jstabet/miniforge3/envs/dicom/include/ITK-5.4/itkImageSeriesReader.hxx, line WARNING: In /home/jstabet/miniforge3/envs/dicom/include/ITK-5.4/itkImageSeriesReader.hxx, line WARNING: In /home/jstabet/miniforge3/envs/dicom/include/ITK-5.4/itkImageSeriesReader.hxx, line WARNING: In /home/jstabet/miniforge3/envs/dicom/include/ITK-5.4/itkImageSeriesReader.hxx, line WARNING: In /home/jstabet/miniforge3/envs/dicom/include/ITK-5.4/itkImageSeriesReader.hxx, line WARNING: In /home/jstabet/miniforge3/envs/dicom/include/ITK-5.4/itkImageSeriesReader.hxx, line WARNING: In /home/jstabet/miniforge3/envs/dicom/include/ITK-5.4/itkImageSeriesReader.hxx, line WARNING: In /home/jstabet/miniforge3/envs/dicom/include/ITK-5.4/itkImageSeriesReader.hxx, line WARNING: In /home/jstabet/miniforge3/envs/dicom/include/ITK-5.4/itkImageSeriesReader.hxx, line WARNING: In /home/jstabet/miniforge3/envs/dicom/include/ITK-5.4/itkImageSeriesReader.hxx, line WARNING: In /home/jstabet/miniforge3/envs/dicom/include/ITK-5.4/itkImageSeriesReader.hxx, line WARNING: In /home/jstabet/miniforge3/envs/dicom/include/ITK-5.4/itkImageSeriesReader.hxx, line WARNING: In /home/jstabet/miniforge3/envs/dicom/include/ITK-5.4/itkImageSeriesReader.hxx, line WARNING: In /home/jstabet/miniforge3/envs/dicom/include/ITK-5.4/itkImageSeriesReader.hxx, line WARNING: In /home/jstabet/miniforge3/envs/dicom/include/ITK-5.4/itkImageSeriesReader.hxx, line WARNING: In /home/jstabet/miniforge3/envs/dicom/include/ITK-5.4/itkImageSeriesReader.hxx, line WARNING: In /home/jstabet/miniforge3/envs/dicom/include/ITK-5.4/itkImageSeriesReader.hxx, line WARNING: In /home/jstabet/miniforge3/envs/dicom/include/ITK-5.4/itkImageSeriesReader.hxx, line WARNING: In /home/jstabet/miniforge3/envs/dicom/include/ITK-5.4/itkImageSeriesReader.hxx, line WARNING: In /home/jstabet/miniforge3/envs/dicom/include/ITK-5.4/itkImageSeriesReader.hxx, line WARNING: In /home/jstabet/miniforge3/envs/dicom/include/ITK-5.4/itkImageSeriesReader.hxx, line WARNING: In /home/jstabet/miniforge3/envs/dicom/include/ITK-5.4/itkImageSeriesReader.hxx, line "
     ]
    },
    {
     "name": "stdout",
     "output_type": "stream",
     "text": [
      "Epoch 12/100\tTrain Loss: 0.0546 | Train Acc: 0.7980\n"
     ]
    },
    {
     "name": "stderr",
     "output_type": "stream",
     "text": [
      "WARNING: In /home/jstabet/miniforge3/envs/dicom/include/ITK-5.4/itkImageSeriesReader.hxx, line WARNING: In /home/jstabet/miniforge3/envs/dicom/include/ITK-5.4/itkImageSeriesReader.hxx, line WARNING: In /home/jstabet/miniforge3/envs/dicom/include/ITK-5.4/itkImageSeriesReader.hxx, line WARNING: In /home/jstabet/miniforge3/envs/dicom/include/ITK-5.4/itkImageSeriesReader.hxx, line WARNING: In /home/jstabet/miniforge3/envs/dicom/include/ITK-5.4/itkImageSeriesReader.hxx, line WARNING: In /home/jstabet/miniforge3/envs/dicom/include/ITK-5.4/itkImageSeriesReader.hxx, line WARNING: In /home/jstabet/miniforge3/envs/dicom/include/ITK-5.4/itkImageSeriesReader.hxx, line WARNING: In /home/jstabet/miniforge3/envs/dicom/include/ITK-5.4/itkImageSeriesReader.hxx, line WARNING: In /home/jstabet/miniforge3/envs/dicom/include/ITK-5.4/itkImageSeriesReader.hxx, line WARNING: In /home/jstabet/miniforge3/envs/dicom/include/ITK-5.4/itkImageSeriesReader.hxx, line WARNING: In /home/jstabet/miniforge3/envs/dicom/include/ITK-5.4/itkImageSeriesReader.hxx, line WARNING: In /home/jstabet/miniforge3/envs/dicom/include/ITK-5.4/itkImageSeriesReader.hxx, line WARNING: In /home/jstabet/miniforge3/envs/dicom/include/ITK-5.4/itkImageSeriesReader.hxx, line WARNING: In /home/jstabet/miniforge3/envs/dicom/include/ITK-5.4/itkImageSeriesReader.hxx, line WARNING: In /home/jstabet/miniforge3/envs/dicom/include/ITK-5.4/itkImageSeriesReader.hxx, line WARNING: In /home/jstabet/miniforge3/envs/dicom/include/ITK-5.4/itkImageSeriesReader.hxx, line WARNING: In /home/jstabet/miniforge3/envs/dicom/include/ITK-5.4/itkImageSeriesReader.hxx, line WARNING: In /home/jstabet/miniforge3/envs/dicom/include/ITK-5.4/itkImageSeriesReader.hxx, line WARNING: In /home/jstabet/miniforge3/envs/dicom/include/ITK-5.4/itkImageSeriesReader.hxx, line WARNING: In /home/jstabet/miniforge3/envs/dicom/include/ITK-5.4/itkImageSeriesReader.hxx, line WARNING: In /home/jstabet/miniforge3/envs/dicom/include/ITK-5.4/itkImageSeriesReader.hxx, line WARNING: In /home/jstabet/miniforge3/envs/dicom/include/ITK-5.4/itkImageSeriesReader.hxx, line WARNING: In /home/jstabet/miniforge3/envs/dicom/include/ITK-5.4/itkImageSeriesReader.hxx, line WARNING: In /home/jstabet/miniforge3/envs/dicom/include/ITK-5.4/itkImageSeriesReader.hxx, line WARNING: In /home/jstabet/miniforge3/envs/dicom/include/ITK-5.4/itkImageSeriesReader.hxx, line "
     ]
    },
    {
     "name": "stdout",
     "output_type": "stream",
     "text": [
      "Epoch 13/100\tTrain Loss: 0.0524 | Train Acc: 0.7980\n"
     ]
    },
    {
     "name": "stderr",
     "output_type": "stream",
     "text": [
      "WARNING: In /home/jstabet/miniforge3/envs/dicom/include/ITK-5.4/itkImageSeriesReader.hxx, line WARNING: In /home/jstabet/miniforge3/envs/dicom/include/ITK-5.4/itkImageSeriesReader.hxx, line WARNING: In /home/jstabet/miniforge3/envs/dicom/include/ITK-5.4/itkImageSeriesReader.hxx, line WARNING: In /home/jstabet/miniforge3/envs/dicom/include/ITK-5.4/itkImageSeriesReader.hxx, line WARNING: In /home/jstabet/miniforge3/envs/dicom/include/ITK-5.4/itkImageSeriesReader.hxx, line WARNING: In /home/jstabet/miniforge3/envs/dicom/include/ITK-5.4/itkImageSeriesReader.hxx, line WARNING: In /home/jstabet/miniforge3/envs/dicom/include/ITK-5.4/itkImageSeriesReader.hxx, line WARNING: In /home/jstabet/miniforge3/envs/dicom/include/ITK-5.4/itkImageSeriesReader.hxx, line WARNING: In /home/jstabet/miniforge3/envs/dicom/include/ITK-5.4/itkImageSeriesReader.hxx, line WARNING: In /home/jstabet/miniforge3/envs/dicom/include/ITK-5.4/itkImageSeriesReader.hxx, line WARNING: In /home/jstabet/miniforge3/envs/dicom/include/ITK-5.4/itkImageSeriesReader.hxx, line WARNING: In /home/jstabet/miniforge3/envs/dicom/include/ITK-5.4/itkImageSeriesReader.hxx, line WARNING: In /home/jstabet/miniforge3/envs/dicom/include/ITK-5.4/itkImageSeriesReader.hxx, line WARNING: In /home/jstabet/miniforge3/envs/dicom/include/ITK-5.4/itkImageSeriesReader.hxx, line WARNING: In /home/jstabet/miniforge3/envs/dicom/include/ITK-5.4/itkImageSeriesReader.hxx, line WARNING: In /home/jstabet/miniforge3/envs/dicom/include/ITK-5.4/itkImageSeriesReader.hxx, line WARNING: In /home/jstabet/miniforge3/envs/dicom/include/ITK-5.4/itkImageSeriesReader.hxx, line WARNING: In /home/jstabet/miniforge3/envs/dicom/include/ITK-5.4/itkImageSeriesReader.hxx, line WARNING: In /home/jstabet/miniforge3/envs/dicom/include/ITK-5.4/itkImageSeriesReader.hxx, line WARNING: In /home/jstabet/miniforge3/envs/dicom/include/ITK-5.4/itkImageSeriesReader.hxx, line WARNING: In /home/jstabet/miniforge3/envs/dicom/include/ITK-5.4/itkImageSeriesReader.hxx, line WARNING: In /home/jstabet/miniforge3/envs/dicom/include/ITK-5.4/itkImageSeriesReader.hxx, line WARNING: In /home/jstabet/miniforge3/envs/dicom/include/ITK-5.4/itkImageSeriesReader.hxx, line WARNING: In /home/jstabet/miniforge3/envs/dicom/include/ITK-5.4/itkImageSeriesReader.hxx, line WARNING: In /home/jstabet/miniforge3/envs/dicom/include/ITK-5.4/itkImageSeriesReader.hxx, line "
     ]
    },
    {
     "name": "stdout",
     "output_type": "stream",
     "text": [
      "Epoch 14/100\tTrain Loss: 0.0542 | Train Acc: 0.7980\n"
     ]
    },
    {
     "name": "stderr",
     "output_type": "stream",
     "text": [
      "WARNING: In /home/jstabet/miniforge3/envs/dicom/include/ITK-5.4/itkImageSeriesReader.hxx, line WARNING: In /home/jstabet/miniforge3/envs/dicom/include/ITK-5.4/itkImageSeriesReader.hxx, line WARNING: In /home/jstabet/miniforge3/envs/dicom/include/ITK-5.4/itkImageSeriesReader.hxx, line WARNING: In /home/jstabet/miniforge3/envs/dicom/include/ITK-5.4/itkImageSeriesReader.hxx, line WARNING: In /home/jstabet/miniforge3/envs/dicom/include/ITK-5.4/itkImageSeriesReader.hxx, line WARNING: In /home/jstabet/miniforge3/envs/dicom/include/ITK-5.4/itkImageSeriesReader.hxx, line WARNING: In /home/jstabet/miniforge3/envs/dicom/include/ITK-5.4/itkImageSeriesReader.hxx, line WARNING: In /home/jstabet/miniforge3/envs/dicom/include/ITK-5.4/itkImageSeriesReader.hxx, line WARNING: In /home/jstabet/miniforge3/envs/dicom/include/ITK-5.4/itkImageSeriesReader.hxx, line WARNING: In /home/jstabet/miniforge3/envs/dicom/include/ITK-5.4/itkImageSeriesReader.hxx, line WARNING: In /home/jstabet/miniforge3/envs/dicom/include/ITK-5.4/itkImageSeriesReader.hxx, line WARNING: In /home/jstabet/miniforge3/envs/dicom/include/ITK-5.4/itkImageSeriesReader.hxx, line WARNING: In /home/jstabet/miniforge3/envs/dicom/include/ITK-5.4/itkImageSeriesReader.hxx, line WARNING: In /home/jstabet/miniforge3/envs/dicom/include/ITK-5.4/itkImageSeriesReader.hxx, line WARNING: In /home/jstabet/miniforge3/envs/dicom/include/ITK-5.4/itkImageSeriesReader.hxx, line WARNING: In /home/jstabet/miniforge3/envs/dicom/include/ITK-5.4/itkImageSeriesReader.hxx, line WARNING: In /home/jstabet/miniforge3/envs/dicom/include/ITK-5.4/itkImageSeriesReader.hxx, line WARNING: In /home/jstabet/miniforge3/envs/dicom/include/ITK-5.4/itkImageSeriesReader.hxx, line WARNING: In /home/jstabet/miniforge3/envs/dicom/include/ITK-5.4/itkImageSeriesReader.hxx, line WARNING: In /home/jstabet/miniforge3/envs/dicom/include/ITK-5.4/itkImageSeriesReader.hxx, line WARNING: In /home/jstabet/miniforge3/envs/dicom/include/ITK-5.4/itkImageSeriesReader.hxx, line WARNING: In /home/jstabet/miniforge3/envs/dicom/include/ITK-5.4/itkImageSeriesReader.hxx, line WARNING: In /home/jstabet/miniforge3/envs/dicom/include/ITK-5.4/itkImageSeriesReader.hxx, line WARNING: In /home/jstabet/miniforge3/envs/dicom/include/ITK-5.4/itkImageSeriesReader.hxx, line WARNING: In /home/jstabet/miniforge3/envs/dicom/include/ITK-5.4/itkImageSeriesReader.hxx, line "
     ]
    },
    {
     "name": "stdout",
     "output_type": "stream",
     "text": [
      "Epoch 15/100\tTrain Loss: 0.0528 | Train Acc: 0.7980\n"
     ]
    },
    {
     "name": "stderr",
     "output_type": "stream",
     "text": [
      "WARNING: In /home/jstabet/miniforge3/envs/dicom/include/ITK-5.4/itkImageSeriesReader.hxx, line WARNING: In /home/jstabet/miniforge3/envs/dicom/include/ITK-5.4/itkImageSeriesReader.hxx, line WARNING: In /home/jstabet/miniforge3/envs/dicom/include/ITK-5.4/itkImageSeriesReader.hxx, line WARNING: In /home/jstabet/miniforge3/envs/dicom/include/ITK-5.4/itkImageSeriesReader.hxx, line WARNING: In /home/jstabet/miniforge3/envs/dicom/include/ITK-5.4/itkImageSeriesReader.hxx, line WARNING: In /home/jstabet/miniforge3/envs/dicom/include/ITK-5.4/itkImageSeriesReader.hxx, line WARNING: In /home/jstabet/miniforge3/envs/dicom/include/ITK-5.4/itkImageSeriesReader.hxx, line WARNING: In /home/jstabet/miniforge3/envs/dicom/include/ITK-5.4/itkImageSeriesReader.hxx, line WARNING: In /home/jstabet/miniforge3/envs/dicom/include/ITK-5.4/itkImageSeriesReader.hxx, line WARNING: In /home/jstabet/miniforge3/envs/dicom/include/ITK-5.4/itkImageSeriesReader.hxx, line WARNING: In /home/jstabet/miniforge3/envs/dicom/include/ITK-5.4/itkImageSeriesReader.hxx, line WARNING: In /home/jstabet/miniforge3/envs/dicom/include/ITK-5.4/itkImageSeriesReader.hxx, line WARNING: In /home/jstabet/miniforge3/envs/dicom/include/ITK-5.4/itkImageSeriesReader.hxx, line WARNING: In /home/jstabet/miniforge3/envs/dicom/include/ITK-5.4/itkImageSeriesReader.hxx, line WARNING: In /home/jstabet/miniforge3/envs/dicom/include/ITK-5.4/itkImageSeriesReader.hxx, line WARNING: In /home/jstabet/miniforge3/envs/dicom/include/ITK-5.4/itkImageSeriesReader.hxx, line WARNING: In /home/jstabet/miniforge3/envs/dicom/include/ITK-5.4/itkImageSeriesReader.hxx, line WARNING: In /home/jstabet/miniforge3/envs/dicom/include/ITK-5.4/itkImageSeriesReader.hxx, line WARNING: In /home/jstabet/miniforge3/envs/dicom/include/ITK-5.4/itkImageSeriesReader.hxx, line WARNING: In /home/jstabet/miniforge3/envs/dicom/include/ITK-5.4/itkImageSeriesReader.hxx, line WARNING: In /home/jstabet/miniforge3/envs/dicom/include/ITK-5.4/itkImageSeriesReader.hxx, line WARNING: In /home/jstabet/miniforge3/envs/dicom/include/ITK-5.4/itkImageSeriesReader.hxx, line WARNING: In /home/jstabet/miniforge3/envs/dicom/include/ITK-5.4/itkImageSeriesReader.hxx, line WARNING: In /home/jstabet/miniforge3/envs/dicom/include/ITK-5.4/itkImageSeriesReader.hxx, line WARNING: In /home/jstabet/miniforge3/envs/dicom/include/ITK-5.4/itkImageSeriesReader.hxx, line "
     ]
    },
    {
     "name": "stdout",
     "output_type": "stream",
     "text": [
      "Epoch 16/100\tTrain Loss: 0.0511 | Train Acc: 0.7980\n"
     ]
    },
    {
     "name": "stderr",
     "output_type": "stream",
     "text": [
      "WARNING: In /home/jstabet/miniforge3/envs/dicom/include/ITK-5.4/itkImageSeriesReader.hxx, line WARNING: In /home/jstabet/miniforge3/envs/dicom/include/ITK-5.4/itkImageSeriesReader.hxx, line WARNING: In /home/jstabet/miniforge3/envs/dicom/include/ITK-5.4/itkImageSeriesReader.hxx, line WARNING: In /home/jstabet/miniforge3/envs/dicom/include/ITK-5.4/itkImageSeriesReader.hxx, line WARNING: In /home/jstabet/miniforge3/envs/dicom/include/ITK-5.4/itkImageSeriesReader.hxx, line WARNING: In /home/jstabet/miniforge3/envs/dicom/include/ITK-5.4/itkImageSeriesReader.hxx, line WARNING: In /home/jstabet/miniforge3/envs/dicom/include/ITK-5.4/itkImageSeriesReader.hxx, line WARNING: In /home/jstabet/miniforge3/envs/dicom/include/ITK-5.4/itkImageSeriesReader.hxx, line WARNING: In /home/jstabet/miniforge3/envs/dicom/include/ITK-5.4/itkImageSeriesReader.hxx, line WARNING: In /home/jstabet/miniforge3/envs/dicom/include/ITK-5.4/itkImageSeriesReader.hxx, line WARNING: In /home/jstabet/miniforge3/envs/dicom/include/ITK-5.4/itkImageSeriesReader.hxx, line WARNING: In /home/jstabet/miniforge3/envs/dicom/include/ITK-5.4/itkImageSeriesReader.hxx, line WARNING: In /home/jstabet/miniforge3/envs/dicom/include/ITK-5.4/itkImageSeriesReader.hxx, line WARNING: In /home/jstabet/miniforge3/envs/dicom/include/ITK-5.4/itkImageSeriesReader.hxx, line WARNING: In /home/jstabet/miniforge3/envs/dicom/include/ITK-5.4/itkImageSeriesReader.hxx, line WARNING: In /home/jstabet/miniforge3/envs/dicom/include/ITK-5.4/itkImageSeriesReader.hxx, line WARNING: In /home/jstabet/miniforge3/envs/dicom/include/ITK-5.4/itkImageSeriesReader.hxx, line WARNING: In /home/jstabet/miniforge3/envs/dicom/include/ITK-5.4/itkImageSeriesReader.hxx, line WARNING: In /home/jstabet/miniforge3/envs/dicom/include/ITK-5.4/itkImageSeriesReader.hxx, line WARNING: In /home/jstabet/miniforge3/envs/dicom/include/ITK-5.4/itkImageSeriesReader.hxx, line WARNING: In /home/jstabet/miniforge3/envs/dicom/include/ITK-5.4/itkImageSeriesReader.hxx, line WARNING: In /home/jstabet/miniforge3/envs/dicom/include/ITK-5.4/itkImageSeriesReader.hxx, line WARNING: In /home/jstabet/miniforge3/envs/dicom/include/ITK-5.4/itkImageSeriesReader.hxx, line WARNING: In /home/jstabet/miniforge3/envs/dicom/include/ITK-5.4/itkImageSeriesReader.hxx, line WARNING: In /home/jstabet/miniforge3/envs/dicom/include/ITK-5.4/itkImageSeriesReader.hxx, line "
     ]
    },
    {
     "name": "stdout",
     "output_type": "stream",
     "text": [
      "Epoch 17/100\tTrain Loss: 0.0512 | Train Acc: 0.7980\n"
     ]
    },
    {
     "name": "stderr",
     "output_type": "stream",
     "text": [
      "WARNING: In /home/jstabet/miniforge3/envs/dicom/include/ITK-5.4/itkImageSeriesReader.hxx, line WARNING: In /home/jstabet/miniforge3/envs/dicom/include/ITK-5.4/itkImageSeriesReader.hxx, line WARNING: In /home/jstabet/miniforge3/envs/dicom/include/ITK-5.4/itkImageSeriesReader.hxx, line WARNING: In /home/jstabet/miniforge3/envs/dicom/include/ITK-5.4/itkImageSeriesReader.hxx, line WARNING: In /home/jstabet/miniforge3/envs/dicom/include/ITK-5.4/itkImageSeriesReader.hxx, line WARNING: In /home/jstabet/miniforge3/envs/dicom/include/ITK-5.4/itkImageSeriesReader.hxx, line WARNING: In /home/jstabet/miniforge3/envs/dicom/include/ITK-5.4/itkImageSeriesReader.hxx, line WARNING: In /home/jstabet/miniforge3/envs/dicom/include/ITK-5.4/itkImageSeriesReader.hxx, line WARNING: In /home/jstabet/miniforge3/envs/dicom/include/ITK-5.4/itkImageSeriesReader.hxx, line WARNING: In /home/jstabet/miniforge3/envs/dicom/include/ITK-5.4/itkImageSeriesReader.hxx, line WARNING: In /home/jstabet/miniforge3/envs/dicom/include/ITK-5.4/itkImageSeriesReader.hxx, line WARNING: In /home/jstabet/miniforge3/envs/dicom/include/ITK-5.4/itkImageSeriesReader.hxx, line WARNING: In /home/jstabet/miniforge3/envs/dicom/include/ITK-5.4/itkImageSeriesReader.hxx, line WARNING: In /home/jstabet/miniforge3/envs/dicom/include/ITK-5.4/itkImageSeriesReader.hxx, line WARNING: In /home/jstabet/miniforge3/envs/dicom/include/ITK-5.4/itkImageSeriesReader.hxx, line WARNING: In /home/jstabet/miniforge3/envs/dicom/include/ITK-5.4/itkImageSeriesReader.hxx, line WARNING: In /home/jstabet/miniforge3/envs/dicom/include/ITK-5.4/itkImageSeriesReader.hxx, line WARNING: In /home/jstabet/miniforge3/envs/dicom/include/ITK-5.4/itkImageSeriesReader.hxx, line WARNING: In /home/jstabet/miniforge3/envs/dicom/include/ITK-5.4/itkImageSeriesReader.hxx, line WARNING: In /home/jstabet/miniforge3/envs/dicom/include/ITK-5.4/itkImageSeriesReader.hxx, line WARNING: In /home/jstabet/miniforge3/envs/dicom/include/ITK-5.4/itkImageSeriesReader.hxx, line WARNING: In /home/jstabet/miniforge3/envs/dicom/include/ITK-5.4/itkImageSeriesReader.hxx, line WARNING: In /home/jstabet/miniforge3/envs/dicom/include/ITK-5.4/itkImageSeriesReader.hxx, line WARNING: In /home/jstabet/miniforge3/envs/dicom/include/ITK-5.4/itkImageSeriesReader.hxx, line WARNING: In /home/jstabet/miniforge3/envs/dicom/include/ITK-5.4/itkImageSeriesReader.hxx, line "
     ]
    },
    {
     "name": "stdout",
     "output_type": "stream",
     "text": [
      "Epoch 18/100\tTrain Loss: 0.0526 | Train Acc: 0.7980\n"
     ]
    },
    {
     "name": "stderr",
     "output_type": "stream",
     "text": [
      "WARNING: In /home/jstabet/miniforge3/envs/dicom/include/ITK-5.4/itkImageSeriesReader.hxx, line WARNING: In /home/jstabet/miniforge3/envs/dicom/include/ITK-5.4/itkImageSeriesReader.hxx, line WARNING: In /home/jstabet/miniforge3/envs/dicom/include/ITK-5.4/itkImageSeriesReader.hxx, line WARNING: In /home/jstabet/miniforge3/envs/dicom/include/ITK-5.4/itkImageSeriesReader.hxx, line WARNING: In /home/jstabet/miniforge3/envs/dicom/include/ITK-5.4/itkImageSeriesReader.hxx, line WARNING: In /home/jstabet/miniforge3/envs/dicom/include/ITK-5.4/itkImageSeriesReader.hxx, line WARNING: In /home/jstabet/miniforge3/envs/dicom/include/ITK-5.4/itkImageSeriesReader.hxx, line WARNING: In /home/jstabet/miniforge3/envs/dicom/include/ITK-5.4/itkImageSeriesReader.hxx, line WARNING: In /home/jstabet/miniforge3/envs/dicom/include/ITK-5.4/itkImageSeriesReader.hxx, line WARNING: In /home/jstabet/miniforge3/envs/dicom/include/ITK-5.4/itkImageSeriesReader.hxx, line WARNING: In /home/jstabet/miniforge3/envs/dicom/include/ITK-5.4/itkImageSeriesReader.hxx, line WARNING: In /home/jstabet/miniforge3/envs/dicom/include/ITK-5.4/itkImageSeriesReader.hxx, line WARNING: In /home/jstabet/miniforge3/envs/dicom/include/ITK-5.4/itkImageSeriesReader.hxx, line WARNING: In /home/jstabet/miniforge3/envs/dicom/include/ITK-5.4/itkImageSeriesReader.hxx, line WARNING: In /home/jstabet/miniforge3/envs/dicom/include/ITK-5.4/itkImageSeriesReader.hxx, line WARNING: In /home/jstabet/miniforge3/envs/dicom/include/ITK-5.4/itkImageSeriesReader.hxx, line WARNING: In /home/jstabet/miniforge3/envs/dicom/include/ITK-5.4/itkImageSeriesReader.hxx, line WARNING: In /home/jstabet/miniforge3/envs/dicom/include/ITK-5.4/itkImageSeriesReader.hxx, line WARNING: In /home/jstabet/miniforge3/envs/dicom/include/ITK-5.4/itkImageSeriesReader.hxx, line WARNING: In /home/jstabet/miniforge3/envs/dicom/include/ITK-5.4/itkImageSeriesReader.hxx, line WARNING: In /home/jstabet/miniforge3/envs/dicom/include/ITK-5.4/itkImageSeriesReader.hxx, line WARNING: In /home/jstabet/miniforge3/envs/dicom/include/ITK-5.4/itkImageSeriesReader.hxx, line WARNING: In /home/jstabet/miniforge3/envs/dicom/include/ITK-5.4/itkImageSeriesReader.hxx, line WARNING: In /home/jstabet/miniforge3/envs/dicom/include/ITK-5.4/itkImageSeriesReader.hxx, line WARNING: In /home/jstabet/miniforge3/envs/dicom/include/ITK-5.4/itkImageSeriesReader.hxx, line "
     ]
    },
    {
     "name": "stdout",
     "output_type": "stream",
     "text": [
      "Epoch 19/100\tTrain Loss: 0.0527 | Train Acc: 0.7980\n"
     ]
    },
    {
     "name": "stderr",
     "output_type": "stream",
     "text": [
      "WARNING: In /home/jstabet/miniforge3/envs/dicom/include/ITK-5.4/itkImageSeriesReader.hxx, line WARNING: In /home/jstabet/miniforge3/envs/dicom/include/ITK-5.4/itkImageSeriesReader.hxx, line WARNING: In /home/jstabet/miniforge3/envs/dicom/include/ITK-5.4/itkImageSeriesReader.hxx, line WARNING: In /home/jstabet/miniforge3/envs/dicom/include/ITK-5.4/itkImageSeriesReader.hxx, line WARNING: In /home/jstabet/miniforge3/envs/dicom/include/ITK-5.4/itkImageSeriesReader.hxx, line WARNING: In /home/jstabet/miniforge3/envs/dicom/include/ITK-5.4/itkImageSeriesReader.hxx, line WARNING: In /home/jstabet/miniforge3/envs/dicom/include/ITK-5.4/itkImageSeriesReader.hxx, line WARNING: In /home/jstabet/miniforge3/envs/dicom/include/ITK-5.4/itkImageSeriesReader.hxx, line WARNING: In /home/jstabet/miniforge3/envs/dicom/include/ITK-5.4/itkImageSeriesReader.hxx, line WARNING: In /home/jstabet/miniforge3/envs/dicom/include/ITK-5.4/itkImageSeriesReader.hxx, line WARNING: In /home/jstabet/miniforge3/envs/dicom/include/ITK-5.4/itkImageSeriesReader.hxx, line WARNING: In /home/jstabet/miniforge3/envs/dicom/include/ITK-5.4/itkImageSeriesReader.hxx, line WARNING: In /home/jstabet/miniforge3/envs/dicom/include/ITK-5.4/itkImageSeriesReader.hxx, line WARNING: In /home/jstabet/miniforge3/envs/dicom/include/ITK-5.4/itkImageSeriesReader.hxx, line WARNING: In /home/jstabet/miniforge3/envs/dicom/include/ITK-5.4/itkImageSeriesReader.hxx, line WARNING: In /home/jstabet/miniforge3/envs/dicom/include/ITK-5.4/itkImageSeriesReader.hxx, line WARNING: In /home/jstabet/miniforge3/envs/dicom/include/ITK-5.4/itkImageSeriesReader.hxx, line WARNING: In /home/jstabet/miniforge3/envs/dicom/include/ITK-5.4/itkImageSeriesReader.hxx, line WARNING: In /home/jstabet/miniforge3/envs/dicom/include/ITK-5.4/itkImageSeriesReader.hxx, line WARNING: In /home/jstabet/miniforge3/envs/dicom/include/ITK-5.4/itkImageSeriesReader.hxx, line WARNING: In /home/jstabet/miniforge3/envs/dicom/include/ITK-5.4/itkImageSeriesReader.hxx, line WARNING: In /home/jstabet/miniforge3/envs/dicom/include/ITK-5.4/itkImageSeriesReader.hxx, line WARNING: In /home/jstabet/miniforge3/envs/dicom/include/ITK-5.4/itkImageSeriesReader.hxx, line WARNING: In /home/jstabet/miniforge3/envs/dicom/include/ITK-5.4/itkImageSeriesReader.hxx, line WARNING: In /home/jstabet/miniforge3/envs/dicom/include/ITK-5.4/itkImageSeriesReader.hxx, line "
     ]
    },
    {
     "name": "stdout",
     "output_type": "stream",
     "text": [
      "Epoch 20/100\tTrain Loss: 0.0523 | Train Acc: 0.7980\n"
     ]
    },
    {
     "name": "stderr",
     "output_type": "stream",
     "text": [
      "WARNING: In /home/jstabet/miniforge3/envs/dicom/include/ITK-5.4/itkImageSeriesReader.hxx, line WARNING: In /home/jstabet/miniforge3/envs/dicom/include/ITK-5.4/itkImageSeriesReader.hxx, line WARNING: In /home/jstabet/miniforge3/envs/dicom/include/ITK-5.4/itkImageSeriesReader.hxx, line WARNING: In /home/jstabet/miniforge3/envs/dicom/include/ITK-5.4/itkImageSeriesReader.hxx, line WARNING: In /home/jstabet/miniforge3/envs/dicom/include/ITK-5.4/itkImageSeriesReader.hxx, line WARNING: In /home/jstabet/miniforge3/envs/dicom/include/ITK-5.4/itkImageSeriesReader.hxx, line WARNING: In /home/jstabet/miniforge3/envs/dicom/include/ITK-5.4/itkImageSeriesReader.hxx, line WARNING: In /home/jstabet/miniforge3/envs/dicom/include/ITK-5.4/itkImageSeriesReader.hxx, line WARNING: In /home/jstabet/miniforge3/envs/dicom/include/ITK-5.4/itkImageSeriesReader.hxx, line WARNING: In /home/jstabet/miniforge3/envs/dicom/include/ITK-5.4/itkImageSeriesReader.hxx, line WARNING: In /home/jstabet/miniforge3/envs/dicom/include/ITK-5.4/itkImageSeriesReader.hxx, line WARNING: In /home/jstabet/miniforge3/envs/dicom/include/ITK-5.4/itkImageSeriesReader.hxx, line WARNING: In /home/jstabet/miniforge3/envs/dicom/include/ITK-5.4/itkImageSeriesReader.hxx, line WARNING: In /home/jstabet/miniforge3/envs/dicom/include/ITK-5.4/itkImageSeriesReader.hxx, line WARNING: In /home/jstabet/miniforge3/envs/dicom/include/ITK-5.4/itkImageSeriesReader.hxx, line WARNING: In /home/jstabet/miniforge3/envs/dicom/include/ITK-5.4/itkImageSeriesReader.hxx, line WARNING: In /home/jstabet/miniforge3/envs/dicom/include/ITK-5.4/itkImageSeriesReader.hxx, line WARNING: In /home/jstabet/miniforge3/envs/dicom/include/ITK-5.4/itkImageSeriesReader.hxx, line WARNING: In /home/jstabet/miniforge3/envs/dicom/include/ITK-5.4/itkImageSeriesReader.hxx, line WARNING: In /home/jstabet/miniforge3/envs/dicom/include/ITK-5.4/itkImageSeriesReader.hxx, line WARNING: In /home/jstabet/miniforge3/envs/dicom/include/ITK-5.4/itkImageSeriesReader.hxx, line WARNING: In /home/jstabet/miniforge3/envs/dicom/include/ITK-5.4/itkImageSeriesReader.hxx, line WARNING: In /home/jstabet/miniforge3/envs/dicom/include/ITK-5.4/itkImageSeriesReader.hxx, line WARNING: In /home/jstabet/miniforge3/envs/dicom/include/ITK-5.4/itkImageSeriesReader.hxx, line WARNING: In /home/jstabet/miniforge3/envs/dicom/include/ITK-5.4/itkImageSeriesReader.hxx, line "
     ]
    },
    {
     "name": "stdout",
     "output_type": "stream",
     "text": [
      "Epoch 21/100\tTrain Loss: 0.0510 | Train Acc: 0.7980\n"
     ]
    },
    {
     "name": "stderr",
     "output_type": "stream",
     "text": [
      "WARNING: In /home/jstabet/miniforge3/envs/dicom/include/ITK-5.4/itkImageSeriesReader.hxx, line WARNING: In /home/jstabet/miniforge3/envs/dicom/include/ITK-5.4/itkImageSeriesReader.hxx, line WARNING: In /home/jstabet/miniforge3/envs/dicom/include/ITK-5.4/itkImageSeriesReader.hxx, line WARNING: In /home/jstabet/miniforge3/envs/dicom/include/ITK-5.4/itkImageSeriesReader.hxx, line WARNING: In /home/jstabet/miniforge3/envs/dicom/include/ITK-5.4/itkImageSeriesReader.hxx, line WARNING: In /home/jstabet/miniforge3/envs/dicom/include/ITK-5.4/itkImageSeriesReader.hxx, line WARNING: In /home/jstabet/miniforge3/envs/dicom/include/ITK-5.4/itkImageSeriesReader.hxx, line WARNING: In /home/jstabet/miniforge3/envs/dicom/include/ITK-5.4/itkImageSeriesReader.hxx, line WARNING: In /home/jstabet/miniforge3/envs/dicom/include/ITK-5.4/itkImageSeriesReader.hxx, line WARNING: In /home/jstabet/miniforge3/envs/dicom/include/ITK-5.4/itkImageSeriesReader.hxx, line WARNING: In /home/jstabet/miniforge3/envs/dicom/include/ITK-5.4/itkImageSeriesReader.hxx, line WARNING: In /home/jstabet/miniforge3/envs/dicom/include/ITK-5.4/itkImageSeriesReader.hxx, line WARNING: In /home/jstabet/miniforge3/envs/dicom/include/ITK-5.4/itkImageSeriesReader.hxx, line WARNING: In /home/jstabet/miniforge3/envs/dicom/include/ITK-5.4/itkImageSeriesReader.hxx, line WARNING: In /home/jstabet/miniforge3/envs/dicom/include/ITK-5.4/itkImageSeriesReader.hxx, line WARNING: In /home/jstabet/miniforge3/envs/dicom/include/ITK-5.4/itkImageSeriesReader.hxx, line WARNING: In /home/jstabet/miniforge3/envs/dicom/include/ITK-5.4/itkImageSeriesReader.hxx, line WARNING: In /home/jstabet/miniforge3/envs/dicom/include/ITK-5.4/itkImageSeriesReader.hxx, line WARNING: In /home/jstabet/miniforge3/envs/dicom/include/ITK-5.4/itkImageSeriesReader.hxx, line WARNING: In /home/jstabet/miniforge3/envs/dicom/include/ITK-5.4/itkImageSeriesReader.hxx, line WARNING: In /home/jstabet/miniforge3/envs/dicom/include/ITK-5.4/itkImageSeriesReader.hxx, line WARNING: In /home/jstabet/miniforge3/envs/dicom/include/ITK-5.4/itkImageSeriesReader.hxx, line WARNING: In /home/jstabet/miniforge3/envs/dicom/include/ITK-5.4/itkImageSeriesReader.hxx, line WARNING: In /home/jstabet/miniforge3/envs/dicom/include/ITK-5.4/itkImageSeriesReader.hxx, line WARNING: In /home/jstabet/miniforge3/envs/dicom/include/ITK-5.4/itkImageSeriesReader.hxx, line "
     ]
    },
    {
     "name": "stdout",
     "output_type": "stream",
     "text": [
      "Epoch 22/100\tTrain Loss: 0.0531 | Train Acc: 0.7980\n"
     ]
    },
    {
     "name": "stderr",
     "output_type": "stream",
     "text": [
      "WARNING: In /home/jstabet/miniforge3/envs/dicom/include/ITK-5.4/itkImageSeriesReader.hxx, line WARNING: In /home/jstabet/miniforge3/envs/dicom/include/ITK-5.4/itkImageSeriesReader.hxx, line WARNING: In /home/jstabet/miniforge3/envs/dicom/include/ITK-5.4/itkImageSeriesReader.hxx, line WARNING: In /home/jstabet/miniforge3/envs/dicom/include/ITK-5.4/itkImageSeriesReader.hxx, line WARNING: In /home/jstabet/miniforge3/envs/dicom/include/ITK-5.4/itkImageSeriesReader.hxx, line WARNING: In /home/jstabet/miniforge3/envs/dicom/include/ITK-5.4/itkImageSeriesReader.hxx, line WARNING: In /home/jstabet/miniforge3/envs/dicom/include/ITK-5.4/itkImageSeriesReader.hxx, line WARNING: In /home/jstabet/miniforge3/envs/dicom/include/ITK-5.4/itkImageSeriesReader.hxx, line WARNING: In /home/jstabet/miniforge3/envs/dicom/include/ITK-5.4/itkImageSeriesReader.hxx, line WARNING: In /home/jstabet/miniforge3/envs/dicom/include/ITK-5.4/itkImageSeriesReader.hxx, line WARNING: In /home/jstabet/miniforge3/envs/dicom/include/ITK-5.4/itkImageSeriesReader.hxx, line WARNING: In /home/jstabet/miniforge3/envs/dicom/include/ITK-5.4/itkImageSeriesReader.hxx, line WARNING: In /home/jstabet/miniforge3/envs/dicom/include/ITK-5.4/itkImageSeriesReader.hxx, line WARNING: In /home/jstabet/miniforge3/envs/dicom/include/ITK-5.4/itkImageSeriesReader.hxx, line WARNING: In /home/jstabet/miniforge3/envs/dicom/include/ITK-5.4/itkImageSeriesReader.hxx, line WARNING: In /home/jstabet/miniforge3/envs/dicom/include/ITK-5.4/itkImageSeriesReader.hxx, line WARNING: In /home/jstabet/miniforge3/envs/dicom/include/ITK-5.4/itkImageSeriesReader.hxx, line WARNING: In /home/jstabet/miniforge3/envs/dicom/include/ITK-5.4/itkImageSeriesReader.hxx, line WARNING: In /home/jstabet/miniforge3/envs/dicom/include/ITK-5.4/itkImageSeriesReader.hxx, line WARNING: In /home/jstabet/miniforge3/envs/dicom/include/ITK-5.4/itkImageSeriesReader.hxx, line WARNING: In /home/jstabet/miniforge3/envs/dicom/include/ITK-5.4/itkImageSeriesReader.hxx, line WARNING: In /home/jstabet/miniforge3/envs/dicom/include/ITK-5.4/itkImageSeriesReader.hxx, line WARNING: In /home/jstabet/miniforge3/envs/dicom/include/ITK-5.4/itkImageSeriesReader.hxx, line WARNING: In /home/jstabet/miniforge3/envs/dicom/include/ITK-5.4/itkImageSeriesReader.hxx, line WARNING: In /home/jstabet/miniforge3/envs/dicom/include/ITK-5.4/itkImageSeriesReader.hxx, line "
     ]
    },
    {
     "name": "stdout",
     "output_type": "stream",
     "text": [
      "Epoch 23/100\tTrain Loss: 0.0526 | Train Acc: 0.7980\n"
     ]
    },
    {
     "name": "stderr",
     "output_type": "stream",
     "text": [
      "WARNING: In /home/jstabet/miniforge3/envs/dicom/include/ITK-5.4/itkImageSeriesReader.hxx, line WARNING: In /home/jstabet/miniforge3/envs/dicom/include/ITK-5.4/itkImageSeriesReader.hxx, line WARNING: In /home/jstabet/miniforge3/envs/dicom/include/ITK-5.4/itkImageSeriesReader.hxx, line WARNING: In /home/jstabet/miniforge3/envs/dicom/include/ITK-5.4/itkImageSeriesReader.hxx, line WARNING: In /home/jstabet/miniforge3/envs/dicom/include/ITK-5.4/itkImageSeriesReader.hxx, line WARNING: In /home/jstabet/miniforge3/envs/dicom/include/ITK-5.4/itkImageSeriesReader.hxx, line WARNING: In /home/jstabet/miniforge3/envs/dicom/include/ITK-5.4/itkImageSeriesReader.hxx, line WARNING: In /home/jstabet/miniforge3/envs/dicom/include/ITK-5.4/itkImageSeriesReader.hxx, line WARNING: In /home/jstabet/miniforge3/envs/dicom/include/ITK-5.4/itkImageSeriesReader.hxx, line WARNING: In /home/jstabet/miniforge3/envs/dicom/include/ITK-5.4/itkImageSeriesReader.hxx, line WARNING: In /home/jstabet/miniforge3/envs/dicom/include/ITK-5.4/itkImageSeriesReader.hxx, line WARNING: In /home/jstabet/miniforge3/envs/dicom/include/ITK-5.4/itkImageSeriesReader.hxx, line WARNING: In /home/jstabet/miniforge3/envs/dicom/include/ITK-5.4/itkImageSeriesReader.hxx, line WARNING: In /home/jstabet/miniforge3/envs/dicom/include/ITK-5.4/itkImageSeriesReader.hxx, line WARNING: In /home/jstabet/miniforge3/envs/dicom/include/ITK-5.4/itkImageSeriesReader.hxx, line WARNING: In /home/jstabet/miniforge3/envs/dicom/include/ITK-5.4/itkImageSeriesReader.hxx, line WARNING: In /home/jstabet/miniforge3/envs/dicom/include/ITK-5.4/itkImageSeriesReader.hxx, line WARNING: In /home/jstabet/miniforge3/envs/dicom/include/ITK-5.4/itkImageSeriesReader.hxx, line WARNING: In /home/jstabet/miniforge3/envs/dicom/include/ITK-5.4/itkImageSeriesReader.hxx, line WARNING: In /home/jstabet/miniforge3/envs/dicom/include/ITK-5.4/itkImageSeriesReader.hxx, line WARNING: In /home/jstabet/miniforge3/envs/dicom/include/ITK-5.4/itkImageSeriesReader.hxx, line WARNING: In /home/jstabet/miniforge3/envs/dicom/include/ITK-5.4/itkImageSeriesReader.hxx, line WARNING: In /home/jstabet/miniforge3/envs/dicom/include/ITK-5.4/itkImageSeriesReader.hxx, line WARNING: In /home/jstabet/miniforge3/envs/dicom/include/ITK-5.4/itkImageSeriesReader.hxx, line WARNING: In /home/jstabet/miniforge3/envs/dicom/include/ITK-5.4/itkImageSeriesReader.hxx, line "
     ]
    },
    {
     "name": "stdout",
     "output_type": "stream",
     "text": [
      "Epoch 24/100\tTrain Loss: 0.0511 | Train Acc: 0.7980\n"
     ]
    },
    {
     "name": "stderr",
     "output_type": "stream",
     "text": [
      "WARNING: In /home/jstabet/miniforge3/envs/dicom/include/ITK-5.4/itkImageSeriesReader.hxx, line WARNING: In /home/jstabet/miniforge3/envs/dicom/include/ITK-5.4/itkImageSeriesReader.hxx, line WARNING: In /home/jstabet/miniforge3/envs/dicom/include/ITK-5.4/itkImageSeriesReader.hxx, line WARNING: In /home/jstabet/miniforge3/envs/dicom/include/ITK-5.4/itkImageSeriesReader.hxx, line WARNING: In /home/jstabet/miniforge3/envs/dicom/include/ITK-5.4/itkImageSeriesReader.hxx, line WARNING: In /home/jstabet/miniforge3/envs/dicom/include/ITK-5.4/itkImageSeriesReader.hxx, line WARNING: In /home/jstabet/miniforge3/envs/dicom/include/ITK-5.4/itkImageSeriesReader.hxx, line WARNING: In /home/jstabet/miniforge3/envs/dicom/include/ITK-5.4/itkImageSeriesReader.hxx, line WARNING: In /home/jstabet/miniforge3/envs/dicom/include/ITK-5.4/itkImageSeriesReader.hxx, line WARNING: In /home/jstabet/miniforge3/envs/dicom/include/ITK-5.4/itkImageSeriesReader.hxx, line WARNING: In /home/jstabet/miniforge3/envs/dicom/include/ITK-5.4/itkImageSeriesReader.hxx, line WARNING: In /home/jstabet/miniforge3/envs/dicom/include/ITK-5.4/itkImageSeriesReader.hxx, line WARNING: In /home/jstabet/miniforge3/envs/dicom/include/ITK-5.4/itkImageSeriesReader.hxx, line WARNING: In /home/jstabet/miniforge3/envs/dicom/include/ITK-5.4/itkImageSeriesReader.hxx, line WARNING: In /home/jstabet/miniforge3/envs/dicom/include/ITK-5.4/itkImageSeriesReader.hxx, line WARNING: In /home/jstabet/miniforge3/envs/dicom/include/ITK-5.4/itkImageSeriesReader.hxx, line WARNING: In /home/jstabet/miniforge3/envs/dicom/include/ITK-5.4/itkImageSeriesReader.hxx, line WARNING: In /home/jstabet/miniforge3/envs/dicom/include/ITK-5.4/itkImageSeriesReader.hxx, line WARNING: In /home/jstabet/miniforge3/envs/dicom/include/ITK-5.4/itkImageSeriesReader.hxx, line WARNING: In /home/jstabet/miniforge3/envs/dicom/include/ITK-5.4/itkImageSeriesReader.hxx, line WARNING: In /home/jstabet/miniforge3/envs/dicom/include/ITK-5.4/itkImageSeriesReader.hxx, line WARNING: In /home/jstabet/miniforge3/envs/dicom/include/ITK-5.4/itkImageSeriesReader.hxx, line WARNING: In /home/jstabet/miniforge3/envs/dicom/include/ITK-5.4/itkImageSeriesReader.hxx, line WARNING: In /home/jstabet/miniforge3/envs/dicom/include/ITK-5.4/itkImageSeriesReader.hxx, line WARNING: In /home/jstabet/miniforge3/envs/dicom/include/ITK-5.4/itkImageSeriesReader.hxx, line "
     ]
    },
    {
     "name": "stdout",
     "output_type": "stream",
     "text": [
      "Epoch 25/100\tTrain Loss: 0.0514 | Train Acc: 0.7980\n"
     ]
    },
    {
     "name": "stderr",
     "output_type": "stream",
     "text": [
      "WARNING: In /home/jstabet/miniforge3/envs/dicom/include/ITK-5.4/itkImageSeriesReader.hxx, line WARNING: In /home/jstabet/miniforge3/envs/dicom/include/ITK-5.4/itkImageSeriesReader.hxx, line WARNING: In /home/jstabet/miniforge3/envs/dicom/include/ITK-5.4/itkImageSeriesReader.hxx, line WARNING: In /home/jstabet/miniforge3/envs/dicom/include/ITK-5.4/itkImageSeriesReader.hxx, line WARNING: In /home/jstabet/miniforge3/envs/dicom/include/ITK-5.4/itkImageSeriesReader.hxx, line WARNING: In /home/jstabet/miniforge3/envs/dicom/include/ITK-5.4/itkImageSeriesReader.hxx, line WARNING: In /home/jstabet/miniforge3/envs/dicom/include/ITK-5.4/itkImageSeriesReader.hxx, line WARNING: In /home/jstabet/miniforge3/envs/dicom/include/ITK-5.4/itkImageSeriesReader.hxx, line WARNING: In /home/jstabet/miniforge3/envs/dicom/include/ITK-5.4/itkImageSeriesReader.hxx, line WARNING: In /home/jstabet/miniforge3/envs/dicom/include/ITK-5.4/itkImageSeriesReader.hxx, line WARNING: In /home/jstabet/miniforge3/envs/dicom/include/ITK-5.4/itkImageSeriesReader.hxx, line WARNING: In /home/jstabet/miniforge3/envs/dicom/include/ITK-5.4/itkImageSeriesReader.hxx, line WARNING: In /home/jstabet/miniforge3/envs/dicom/include/ITK-5.4/itkImageSeriesReader.hxx, line WARNING: In /home/jstabet/miniforge3/envs/dicom/include/ITK-5.4/itkImageSeriesReader.hxx, line WARNING: In /home/jstabet/miniforge3/envs/dicom/include/ITK-5.4/itkImageSeriesReader.hxx, line WARNING: In /home/jstabet/miniforge3/envs/dicom/include/ITK-5.4/itkImageSeriesReader.hxx, line WARNING: In /home/jstabet/miniforge3/envs/dicom/include/ITK-5.4/itkImageSeriesReader.hxx, line WARNING: In /home/jstabet/miniforge3/envs/dicom/include/ITK-5.4/itkImageSeriesReader.hxx, line WARNING: In /home/jstabet/miniforge3/envs/dicom/include/ITK-5.4/itkImageSeriesReader.hxx, line WARNING: In /home/jstabet/miniforge3/envs/dicom/include/ITK-5.4/itkImageSeriesReader.hxx, line WARNING: In /home/jstabet/miniforge3/envs/dicom/include/ITK-5.4/itkImageSeriesReader.hxx, line WARNING: In /home/jstabet/miniforge3/envs/dicom/include/ITK-5.4/itkImageSeriesReader.hxx, line WARNING: In /home/jstabet/miniforge3/envs/dicom/include/ITK-5.4/itkImageSeriesReader.hxx, line WARNING: In /home/jstabet/miniforge3/envs/dicom/include/ITK-5.4/itkImageSeriesReader.hxx, line WARNING: In /home/jstabet/miniforge3/envs/dicom/include/ITK-5.4/itkImageSeriesReader.hxx, line "
     ]
    },
    {
     "name": "stdout",
     "output_type": "stream",
     "text": [
      "Epoch 26/100\tTrain Loss: 0.0512 | Train Acc: 0.7980\n"
     ]
    },
    {
     "name": "stderr",
     "output_type": "stream",
     "text": [
      "WARNING: In /home/jstabet/miniforge3/envs/dicom/include/ITK-5.4/itkImageSeriesReader.hxx, line WARNING: In /home/jstabet/miniforge3/envs/dicom/include/ITK-5.4/itkImageSeriesReader.hxx, line WARNING: In /home/jstabet/miniforge3/envs/dicom/include/ITK-5.4/itkImageSeriesReader.hxx, line WARNING: In /home/jstabet/miniforge3/envs/dicom/include/ITK-5.4/itkImageSeriesReader.hxx, line WARNING: In /home/jstabet/miniforge3/envs/dicom/include/ITK-5.4/itkImageSeriesReader.hxx, line WARNING: In /home/jstabet/miniforge3/envs/dicom/include/ITK-5.4/itkImageSeriesReader.hxx, line WARNING: In /home/jstabet/miniforge3/envs/dicom/include/ITK-5.4/itkImageSeriesReader.hxx, line WARNING: In /home/jstabet/miniforge3/envs/dicom/include/ITK-5.4/itkImageSeriesReader.hxx, line WARNING: In /home/jstabet/miniforge3/envs/dicom/include/ITK-5.4/itkImageSeriesReader.hxx, line WARNING: In /home/jstabet/miniforge3/envs/dicom/include/ITK-5.4/itkImageSeriesReader.hxx, line WARNING: In /home/jstabet/miniforge3/envs/dicom/include/ITK-5.4/itkImageSeriesReader.hxx, line WARNING: In /home/jstabet/miniforge3/envs/dicom/include/ITK-5.4/itkImageSeriesReader.hxx, line WARNING: In /home/jstabet/miniforge3/envs/dicom/include/ITK-5.4/itkImageSeriesReader.hxx, line WARNING: In /home/jstabet/miniforge3/envs/dicom/include/ITK-5.4/itkImageSeriesReader.hxx, line WARNING: In /home/jstabet/miniforge3/envs/dicom/include/ITK-5.4/itkImageSeriesReader.hxx, line WARNING: In /home/jstabet/miniforge3/envs/dicom/include/ITK-5.4/itkImageSeriesReader.hxx, line WARNING: In /home/jstabet/miniforge3/envs/dicom/include/ITK-5.4/itkImageSeriesReader.hxx, line WARNING: In /home/jstabet/miniforge3/envs/dicom/include/ITK-5.4/itkImageSeriesReader.hxx, line WARNING: In /home/jstabet/miniforge3/envs/dicom/include/ITK-5.4/itkImageSeriesReader.hxx, line WARNING: In /home/jstabet/miniforge3/envs/dicom/include/ITK-5.4/itkImageSeriesReader.hxx, line WARNING: In /home/jstabet/miniforge3/envs/dicom/include/ITK-5.4/itkImageSeriesReader.hxx, line WARNING: In /home/jstabet/miniforge3/envs/dicom/include/ITK-5.4/itkImageSeriesReader.hxx, line WARNING: In /home/jstabet/miniforge3/envs/dicom/include/ITK-5.4/itkImageSeriesReader.hxx, line WARNING: In /home/jstabet/miniforge3/envs/dicom/include/ITK-5.4/itkImageSeriesReader.hxx, line WARNING: In /home/jstabet/miniforge3/envs/dicom/include/ITK-5.4/itkImageSeriesReader.hxx, line "
     ]
    },
    {
     "name": "stdout",
     "output_type": "stream",
     "text": [
      "Epoch 27/100\tTrain Loss: 0.0526 | Train Acc: 0.7980\n"
     ]
    },
    {
     "name": "stderr",
     "output_type": "stream",
     "text": [
      "WARNING: In /home/jstabet/miniforge3/envs/dicom/include/ITK-5.4/itkImageSeriesReader.hxx, line WARNING: In /home/jstabet/miniforge3/envs/dicom/include/ITK-5.4/itkImageSeriesReader.hxx, line WARNING: In /home/jstabet/miniforge3/envs/dicom/include/ITK-5.4/itkImageSeriesReader.hxx, line WARNING: In /home/jstabet/miniforge3/envs/dicom/include/ITK-5.4/itkImageSeriesReader.hxx, line WARNING: In /home/jstabet/miniforge3/envs/dicom/include/ITK-5.4/itkImageSeriesReader.hxx, line WARNING: In /home/jstabet/miniforge3/envs/dicom/include/ITK-5.4/itkImageSeriesReader.hxx, line WARNING: In /home/jstabet/miniforge3/envs/dicom/include/ITK-5.4/itkImageSeriesReader.hxx, line WARNING: In /home/jstabet/miniforge3/envs/dicom/include/ITK-5.4/itkImageSeriesReader.hxx, line WARNING: In /home/jstabet/miniforge3/envs/dicom/include/ITK-5.4/itkImageSeriesReader.hxx, line WARNING: In /home/jstabet/miniforge3/envs/dicom/include/ITK-5.4/itkImageSeriesReader.hxx, line WARNING: In /home/jstabet/miniforge3/envs/dicom/include/ITK-5.4/itkImageSeriesReader.hxx, line WARNING: In /home/jstabet/miniforge3/envs/dicom/include/ITK-5.4/itkImageSeriesReader.hxx, line WARNING: In /home/jstabet/miniforge3/envs/dicom/include/ITK-5.4/itkImageSeriesReader.hxx, line WARNING: In /home/jstabet/miniforge3/envs/dicom/include/ITK-5.4/itkImageSeriesReader.hxx, line WARNING: In /home/jstabet/miniforge3/envs/dicom/include/ITK-5.4/itkImageSeriesReader.hxx, line WARNING: In /home/jstabet/miniforge3/envs/dicom/include/ITK-5.4/itkImageSeriesReader.hxx, line WARNING: In /home/jstabet/miniforge3/envs/dicom/include/ITK-5.4/itkImageSeriesReader.hxx, line WARNING: In /home/jstabet/miniforge3/envs/dicom/include/ITK-5.4/itkImageSeriesReader.hxx, line WARNING: In /home/jstabet/miniforge3/envs/dicom/include/ITK-5.4/itkImageSeriesReader.hxx, line WARNING: In /home/jstabet/miniforge3/envs/dicom/include/ITK-5.4/itkImageSeriesReader.hxx, line WARNING: In /home/jstabet/miniforge3/envs/dicom/include/ITK-5.4/itkImageSeriesReader.hxx, line WARNING: In /home/jstabet/miniforge3/envs/dicom/include/ITK-5.4/itkImageSeriesReader.hxx, line WARNING: In /home/jstabet/miniforge3/envs/dicom/include/ITK-5.4/itkImageSeriesReader.hxx, line WARNING: In /home/jstabet/miniforge3/envs/dicom/include/ITK-5.4/itkImageSeriesReader.hxx, line WARNING: In /home/jstabet/miniforge3/envs/dicom/include/ITK-5.4/itkImageSeriesReader.hxx, line "
     ]
    },
    {
     "name": "stdout",
     "output_type": "stream",
     "text": [
      "Epoch 28/100\tTrain Loss: 0.0531 | Train Acc: 0.7980\n"
     ]
    },
    {
     "name": "stderr",
     "output_type": "stream",
     "text": [
      "WARNING: In /home/jstabet/miniforge3/envs/dicom/include/ITK-5.4/itkImageSeriesReader.hxx, line WARNING: In /home/jstabet/miniforge3/envs/dicom/include/ITK-5.4/itkImageSeriesReader.hxx, line WARNING: In /home/jstabet/miniforge3/envs/dicom/include/ITK-5.4/itkImageSeriesReader.hxx, line WARNING: In /home/jstabet/miniforge3/envs/dicom/include/ITK-5.4/itkImageSeriesReader.hxx, line WARNING: In /home/jstabet/miniforge3/envs/dicom/include/ITK-5.4/itkImageSeriesReader.hxx, line WARNING: In /home/jstabet/miniforge3/envs/dicom/include/ITK-5.4/itkImageSeriesReader.hxx, line WARNING: In /home/jstabet/miniforge3/envs/dicom/include/ITK-5.4/itkImageSeriesReader.hxx, line WARNING: In /home/jstabet/miniforge3/envs/dicom/include/ITK-5.4/itkImageSeriesReader.hxx, line WARNING: In /home/jstabet/miniforge3/envs/dicom/include/ITK-5.4/itkImageSeriesReader.hxx, line WARNING: In /home/jstabet/miniforge3/envs/dicom/include/ITK-5.4/itkImageSeriesReader.hxx, line WARNING: In /home/jstabet/miniforge3/envs/dicom/include/ITK-5.4/itkImageSeriesReader.hxx, line WARNING: In /home/jstabet/miniforge3/envs/dicom/include/ITK-5.4/itkImageSeriesReader.hxx, line WARNING: In /home/jstabet/miniforge3/envs/dicom/include/ITK-5.4/itkImageSeriesReader.hxx, line WARNING: In /home/jstabet/miniforge3/envs/dicom/include/ITK-5.4/itkImageSeriesReader.hxx, line WARNING: In /home/jstabet/miniforge3/envs/dicom/include/ITK-5.4/itkImageSeriesReader.hxx, line WARNING: In /home/jstabet/miniforge3/envs/dicom/include/ITK-5.4/itkImageSeriesReader.hxx, line WARNING: In /home/jstabet/miniforge3/envs/dicom/include/ITK-5.4/itkImageSeriesReader.hxx, line WARNING: In /home/jstabet/miniforge3/envs/dicom/include/ITK-5.4/itkImageSeriesReader.hxx, line WARNING: In /home/jstabet/miniforge3/envs/dicom/include/ITK-5.4/itkImageSeriesReader.hxx, line WARNING: In /home/jstabet/miniforge3/envs/dicom/include/ITK-5.4/itkImageSeriesReader.hxx, line WARNING: In /home/jstabet/miniforge3/envs/dicom/include/ITK-5.4/itkImageSeriesReader.hxx, line WARNING: In /home/jstabet/miniforge3/envs/dicom/include/ITK-5.4/itkImageSeriesReader.hxx, line WARNING: In /home/jstabet/miniforge3/envs/dicom/include/ITK-5.4/itkImageSeriesReader.hxx, line WARNING: In /home/jstabet/miniforge3/envs/dicom/include/ITK-5.4/itkImageSeriesReader.hxx, line WARNING: In /home/jstabet/miniforge3/envs/dicom/include/ITK-5.4/itkImageSeriesReader.hxx, line "
     ]
    },
    {
     "name": "stdout",
     "output_type": "stream",
     "text": [
      "Epoch 29/100\tTrain Loss: 0.0510 | Train Acc: 0.7980\n"
     ]
    },
    {
     "name": "stderr",
     "output_type": "stream",
     "text": [
      "WARNING: In /home/jstabet/miniforge3/envs/dicom/include/ITK-5.4/itkImageSeriesReader.hxx, line WARNING: In /home/jstabet/miniforge3/envs/dicom/include/ITK-5.4/itkImageSeriesReader.hxx, line WARNING: In /home/jstabet/miniforge3/envs/dicom/include/ITK-5.4/itkImageSeriesReader.hxx, line WARNING: In /home/jstabet/miniforge3/envs/dicom/include/ITK-5.4/itkImageSeriesReader.hxx, line WARNING: In /home/jstabet/miniforge3/envs/dicom/include/ITK-5.4/itkImageSeriesReader.hxx, line WARNING: In /home/jstabet/miniforge3/envs/dicom/include/ITK-5.4/itkImageSeriesReader.hxx, line WARNING: In /home/jstabet/miniforge3/envs/dicom/include/ITK-5.4/itkImageSeriesReader.hxx, line WARNING: In /home/jstabet/miniforge3/envs/dicom/include/ITK-5.4/itkImageSeriesReader.hxx, line WARNING: In /home/jstabet/miniforge3/envs/dicom/include/ITK-5.4/itkImageSeriesReader.hxx, line WARNING: In /home/jstabet/miniforge3/envs/dicom/include/ITK-5.4/itkImageSeriesReader.hxx, line WARNING: In /home/jstabet/miniforge3/envs/dicom/include/ITK-5.4/itkImageSeriesReader.hxx, line WARNING: In /home/jstabet/miniforge3/envs/dicom/include/ITK-5.4/itkImageSeriesReader.hxx, line WARNING: In /home/jstabet/miniforge3/envs/dicom/include/ITK-5.4/itkImageSeriesReader.hxx, line WARNING: In /home/jstabet/miniforge3/envs/dicom/include/ITK-5.4/itkImageSeriesReader.hxx, line WARNING: In /home/jstabet/miniforge3/envs/dicom/include/ITK-5.4/itkImageSeriesReader.hxx, line WARNING: In /home/jstabet/miniforge3/envs/dicom/include/ITK-5.4/itkImageSeriesReader.hxx, line WARNING: In /home/jstabet/miniforge3/envs/dicom/include/ITK-5.4/itkImageSeriesReader.hxx, line WARNING: In /home/jstabet/miniforge3/envs/dicom/include/ITK-5.4/itkImageSeriesReader.hxx, line WARNING: In /home/jstabet/miniforge3/envs/dicom/include/ITK-5.4/itkImageSeriesReader.hxx, line WARNING: In /home/jstabet/miniforge3/envs/dicom/include/ITK-5.4/itkImageSeriesReader.hxx, line WARNING: In /home/jstabet/miniforge3/envs/dicom/include/ITK-5.4/itkImageSeriesReader.hxx, line WARNING: In /home/jstabet/miniforge3/envs/dicom/include/ITK-5.4/itkImageSeriesReader.hxx, line WARNING: In /home/jstabet/miniforge3/envs/dicom/include/ITK-5.4/itkImageSeriesReader.hxx, line WARNING: In /home/jstabet/miniforge3/envs/dicom/include/ITK-5.4/itkImageSeriesReader.hxx, line WARNING: In /home/jstabet/miniforge3/envs/dicom/include/ITK-5.4/itkImageSeriesReader.hxx, line "
     ]
    },
    {
     "name": "stdout",
     "output_type": "stream",
     "text": [
      "Epoch 30/100\tTrain Loss: 0.0512 | Train Acc: 0.7980\n"
     ]
    },
    {
     "name": "stderr",
     "output_type": "stream",
     "text": [
      "WARNING: In /home/jstabet/miniforge3/envs/dicom/include/ITK-5.4/itkImageSeriesReader.hxx, line WARNING: In /home/jstabet/miniforge3/envs/dicom/include/ITK-5.4/itkImageSeriesReader.hxx, line WARNING: In /home/jstabet/miniforge3/envs/dicom/include/ITK-5.4/itkImageSeriesReader.hxx, line WARNING: In /home/jstabet/miniforge3/envs/dicom/include/ITK-5.4/itkImageSeriesReader.hxx, line WARNING: In /home/jstabet/miniforge3/envs/dicom/include/ITK-5.4/itkImageSeriesReader.hxx, line WARNING: In /home/jstabet/miniforge3/envs/dicom/include/ITK-5.4/itkImageSeriesReader.hxx, line WARNING: In /home/jstabet/miniforge3/envs/dicom/include/ITK-5.4/itkImageSeriesReader.hxx, line WARNING: In /home/jstabet/miniforge3/envs/dicom/include/ITK-5.4/itkImageSeriesReader.hxx, line WARNING: In /home/jstabet/miniforge3/envs/dicom/include/ITK-5.4/itkImageSeriesReader.hxx, line WARNING: In /home/jstabet/miniforge3/envs/dicom/include/ITK-5.4/itkImageSeriesReader.hxx, line WARNING: In /home/jstabet/miniforge3/envs/dicom/include/ITK-5.4/itkImageSeriesReader.hxx, line WARNING: In /home/jstabet/miniforge3/envs/dicom/include/ITK-5.4/itkImageSeriesReader.hxx, line WARNING: In /home/jstabet/miniforge3/envs/dicom/include/ITK-5.4/itkImageSeriesReader.hxx, line WARNING: In /home/jstabet/miniforge3/envs/dicom/include/ITK-5.4/itkImageSeriesReader.hxx, line WARNING: In /home/jstabet/miniforge3/envs/dicom/include/ITK-5.4/itkImageSeriesReader.hxx, line WARNING: In /home/jstabet/miniforge3/envs/dicom/include/ITK-5.4/itkImageSeriesReader.hxx, line WARNING: In /home/jstabet/miniforge3/envs/dicom/include/ITK-5.4/itkImageSeriesReader.hxx, line WARNING: In /home/jstabet/miniforge3/envs/dicom/include/ITK-5.4/itkImageSeriesReader.hxx, line WARNING: In /home/jstabet/miniforge3/envs/dicom/include/ITK-5.4/itkImageSeriesReader.hxx, line WARNING: In /home/jstabet/miniforge3/envs/dicom/include/ITK-5.4/itkImageSeriesReader.hxx, line WARNING: In /home/jstabet/miniforge3/envs/dicom/include/ITK-5.4/itkImageSeriesReader.hxx, line WARNING: In /home/jstabet/miniforge3/envs/dicom/include/ITK-5.4/itkImageSeriesReader.hxx, line WARNING: In /home/jstabet/miniforge3/envs/dicom/include/ITK-5.4/itkImageSeriesReader.hxx, line WARNING: In /home/jstabet/miniforge3/envs/dicom/include/ITK-5.4/itkImageSeriesReader.hxx, line WARNING: In /home/jstabet/miniforge3/envs/dicom/include/ITK-5.4/itkImageSeriesReader.hxx, line "
     ]
    },
    {
     "name": "stdout",
     "output_type": "stream",
     "text": [
      "Epoch 31/100\tTrain Loss: 0.0511 | Train Acc: 0.7980\n"
     ]
    },
    {
     "name": "stderr",
     "output_type": "stream",
     "text": [
      "WARNING: In /home/jstabet/miniforge3/envs/dicom/include/ITK-5.4/itkImageSeriesReader.hxx, line WARNING: In /home/jstabet/miniforge3/envs/dicom/include/ITK-5.4/itkImageSeriesReader.hxx, line WARNING: In /home/jstabet/miniforge3/envs/dicom/include/ITK-5.4/itkImageSeriesReader.hxx, line WARNING: In /home/jstabet/miniforge3/envs/dicom/include/ITK-5.4/itkImageSeriesReader.hxx, line WARNING: In /home/jstabet/miniforge3/envs/dicom/include/ITK-5.4/itkImageSeriesReader.hxx, line WARNING: In /home/jstabet/miniforge3/envs/dicom/include/ITK-5.4/itkImageSeriesReader.hxx, line WARNING: In /home/jstabet/miniforge3/envs/dicom/include/ITK-5.4/itkImageSeriesReader.hxx, line WARNING: In /home/jstabet/miniforge3/envs/dicom/include/ITK-5.4/itkImageSeriesReader.hxx, line WARNING: In /home/jstabet/miniforge3/envs/dicom/include/ITK-5.4/itkImageSeriesReader.hxx, line WARNING: In /home/jstabet/miniforge3/envs/dicom/include/ITK-5.4/itkImageSeriesReader.hxx, line WARNING: In /home/jstabet/miniforge3/envs/dicom/include/ITK-5.4/itkImageSeriesReader.hxx, line WARNING: In /home/jstabet/miniforge3/envs/dicom/include/ITK-5.4/itkImageSeriesReader.hxx, line WARNING: In /home/jstabet/miniforge3/envs/dicom/include/ITK-5.4/itkImageSeriesReader.hxx, line WARNING: In /home/jstabet/miniforge3/envs/dicom/include/ITK-5.4/itkImageSeriesReader.hxx, line WARNING: In /home/jstabet/miniforge3/envs/dicom/include/ITK-5.4/itkImageSeriesReader.hxx, line WARNING: In /home/jstabet/miniforge3/envs/dicom/include/ITK-5.4/itkImageSeriesReader.hxx, line WARNING: In /home/jstabet/miniforge3/envs/dicom/include/ITK-5.4/itkImageSeriesReader.hxx, line WARNING: In /home/jstabet/miniforge3/envs/dicom/include/ITK-5.4/itkImageSeriesReader.hxx, line WARNING: In /home/jstabet/miniforge3/envs/dicom/include/ITK-5.4/itkImageSeriesReader.hxx, line WARNING: In /home/jstabet/miniforge3/envs/dicom/include/ITK-5.4/itkImageSeriesReader.hxx, line WARNING: In /home/jstabet/miniforge3/envs/dicom/include/ITK-5.4/itkImageSeriesReader.hxx, line WARNING: In /home/jstabet/miniforge3/envs/dicom/include/ITK-5.4/itkImageSeriesReader.hxx, line WARNING: In /home/jstabet/miniforge3/envs/dicom/include/ITK-5.4/itkImageSeriesReader.hxx, line WARNING: In /home/jstabet/miniforge3/envs/dicom/include/ITK-5.4/itkImageSeriesReader.hxx, line WARNING: In /home/jstabet/miniforge3/envs/dicom/include/ITK-5.4/itkImageSeriesReader.hxx, line "
     ]
    },
    {
     "name": "stdout",
     "output_type": "stream",
     "text": [
      "Epoch 32/100\tTrain Loss: 0.0523 | Train Acc: 0.7980\n"
     ]
    },
    {
     "name": "stderr",
     "output_type": "stream",
     "text": [
      "WARNING: In /home/jstabet/miniforge3/envs/dicom/include/ITK-5.4/itkImageSeriesReader.hxx, line WARNING: In /home/jstabet/miniforge3/envs/dicom/include/ITK-5.4/itkImageSeriesReader.hxx, line WARNING: In /home/jstabet/miniforge3/envs/dicom/include/ITK-5.4/itkImageSeriesReader.hxx, line WARNING: In /home/jstabet/miniforge3/envs/dicom/include/ITK-5.4/itkImageSeriesReader.hxx, line WARNING: In /home/jstabet/miniforge3/envs/dicom/include/ITK-5.4/itkImageSeriesReader.hxx, line WARNING: In /home/jstabet/miniforge3/envs/dicom/include/ITK-5.4/itkImageSeriesReader.hxx, line WARNING: In /home/jstabet/miniforge3/envs/dicom/include/ITK-5.4/itkImageSeriesReader.hxx, line WARNING: In /home/jstabet/miniforge3/envs/dicom/include/ITK-5.4/itkImageSeriesReader.hxx, line WARNING: In /home/jstabet/miniforge3/envs/dicom/include/ITK-5.4/itkImageSeriesReader.hxx, line WARNING: In /home/jstabet/miniforge3/envs/dicom/include/ITK-5.4/itkImageSeriesReader.hxx, line WARNING: In /home/jstabet/miniforge3/envs/dicom/include/ITK-5.4/itkImageSeriesReader.hxx, line WARNING: In /home/jstabet/miniforge3/envs/dicom/include/ITK-5.4/itkImageSeriesReader.hxx, line WARNING: In /home/jstabet/miniforge3/envs/dicom/include/ITK-5.4/itkImageSeriesReader.hxx, line WARNING: In /home/jstabet/miniforge3/envs/dicom/include/ITK-5.4/itkImageSeriesReader.hxx, line WARNING: In /home/jstabet/miniforge3/envs/dicom/include/ITK-5.4/itkImageSeriesReader.hxx, line WARNING: In /home/jstabet/miniforge3/envs/dicom/include/ITK-5.4/itkImageSeriesReader.hxx, line WARNING: In /home/jstabet/miniforge3/envs/dicom/include/ITK-5.4/itkImageSeriesReader.hxx, line WARNING: In /home/jstabet/miniforge3/envs/dicom/include/ITK-5.4/itkImageSeriesReader.hxx, line WARNING: In /home/jstabet/miniforge3/envs/dicom/include/ITK-5.4/itkImageSeriesReader.hxx, line WARNING: In /home/jstabet/miniforge3/envs/dicom/include/ITK-5.4/itkImageSeriesReader.hxx, line WARNING: In /home/jstabet/miniforge3/envs/dicom/include/ITK-5.4/itkImageSeriesReader.hxx, line WARNING: In /home/jstabet/miniforge3/envs/dicom/include/ITK-5.4/itkImageSeriesReader.hxx, line WARNING: In /home/jstabet/miniforge3/envs/dicom/include/ITK-5.4/itkImageSeriesReader.hxx, line WARNING: In /home/jstabet/miniforge3/envs/dicom/include/ITK-5.4/itkImageSeriesReader.hxx, line WARNING: In /home/jstabet/miniforge3/envs/dicom/include/ITK-5.4/itkImageSeriesReader.hxx, line "
     ]
    },
    {
     "name": "stdout",
     "output_type": "stream",
     "text": [
      "Epoch 33/100\tTrain Loss: 0.0512 | Train Acc: 0.7980\n"
     ]
    },
    {
     "name": "stderr",
     "output_type": "stream",
     "text": [
      "WARNING: In /home/jstabet/miniforge3/envs/dicom/include/ITK-5.4/itkImageSeriesReader.hxx, line WARNING: In /home/jstabet/miniforge3/envs/dicom/include/ITK-5.4/itkImageSeriesReader.hxx, line WARNING: In /home/jstabet/miniforge3/envs/dicom/include/ITK-5.4/itkImageSeriesReader.hxx, line WARNING: In /home/jstabet/miniforge3/envs/dicom/include/ITK-5.4/itkImageSeriesReader.hxx, line WARNING: In /home/jstabet/miniforge3/envs/dicom/include/ITK-5.4/itkImageSeriesReader.hxx, line WARNING: In /home/jstabet/miniforge3/envs/dicom/include/ITK-5.4/itkImageSeriesReader.hxx, line WARNING: In /home/jstabet/miniforge3/envs/dicom/include/ITK-5.4/itkImageSeriesReader.hxx, line WARNING: In /home/jstabet/miniforge3/envs/dicom/include/ITK-5.4/itkImageSeriesReader.hxx, line WARNING: In /home/jstabet/miniforge3/envs/dicom/include/ITK-5.4/itkImageSeriesReader.hxx, line WARNING: In /home/jstabet/miniforge3/envs/dicom/include/ITK-5.4/itkImageSeriesReader.hxx, line WARNING: In /home/jstabet/miniforge3/envs/dicom/include/ITK-5.4/itkImageSeriesReader.hxx, line WARNING: In /home/jstabet/miniforge3/envs/dicom/include/ITK-5.4/itkImageSeriesReader.hxx, line WARNING: In /home/jstabet/miniforge3/envs/dicom/include/ITK-5.4/itkImageSeriesReader.hxx, line WARNING: In /home/jstabet/miniforge3/envs/dicom/include/ITK-5.4/itkImageSeriesReader.hxx, line WARNING: In /home/jstabet/miniforge3/envs/dicom/include/ITK-5.4/itkImageSeriesReader.hxx, line WARNING: In /home/jstabet/miniforge3/envs/dicom/include/ITK-5.4/itkImageSeriesReader.hxx, line WARNING: In /home/jstabet/miniforge3/envs/dicom/include/ITK-5.4/itkImageSeriesReader.hxx, line WARNING: In /home/jstabet/miniforge3/envs/dicom/include/ITK-5.4/itkImageSeriesReader.hxx, line WARNING: In /home/jstabet/miniforge3/envs/dicom/include/ITK-5.4/itkImageSeriesReader.hxx, line WARNING: In /home/jstabet/miniforge3/envs/dicom/include/ITK-5.4/itkImageSeriesReader.hxx, line WARNING: In /home/jstabet/miniforge3/envs/dicom/include/ITK-5.4/itkImageSeriesReader.hxx, line WARNING: In /home/jstabet/miniforge3/envs/dicom/include/ITK-5.4/itkImageSeriesReader.hxx, line WARNING: In /home/jstabet/miniforge3/envs/dicom/include/ITK-5.4/itkImageSeriesReader.hxx, line WARNING: In /home/jstabet/miniforge3/envs/dicom/include/ITK-5.4/itkImageSeriesReader.hxx, line WARNING: In /home/jstabet/miniforge3/envs/dicom/include/ITK-5.4/itkImageSeriesReader.hxx, line "
     ]
    },
    {
     "name": "stdout",
     "output_type": "stream",
     "text": [
      "Epoch 34/100\tTrain Loss: 0.0533 | Train Acc: 0.7980\n"
     ]
    },
    {
     "name": "stderr",
     "output_type": "stream",
     "text": [
      "WARNING: In /home/jstabet/miniforge3/envs/dicom/include/ITK-5.4/itkImageSeriesReader.hxx, line WARNING: In /home/jstabet/miniforge3/envs/dicom/include/ITK-5.4/itkImageSeriesReader.hxx, line WARNING: In /home/jstabet/miniforge3/envs/dicom/include/ITK-5.4/itkImageSeriesReader.hxx, line WARNING: In /home/jstabet/miniforge3/envs/dicom/include/ITK-5.4/itkImageSeriesReader.hxx, line WARNING: In /home/jstabet/miniforge3/envs/dicom/include/ITK-5.4/itkImageSeriesReader.hxx, line WARNING: In /home/jstabet/miniforge3/envs/dicom/include/ITK-5.4/itkImageSeriesReader.hxx, line WARNING: In /home/jstabet/miniforge3/envs/dicom/include/ITK-5.4/itkImageSeriesReader.hxx, line WARNING: In /home/jstabet/miniforge3/envs/dicom/include/ITK-5.4/itkImageSeriesReader.hxx, line WARNING: In /home/jstabet/miniforge3/envs/dicom/include/ITK-5.4/itkImageSeriesReader.hxx, line WARNING: In /home/jstabet/miniforge3/envs/dicom/include/ITK-5.4/itkImageSeriesReader.hxx, line WARNING: In /home/jstabet/miniforge3/envs/dicom/include/ITK-5.4/itkImageSeriesReader.hxx, line WARNING: In /home/jstabet/miniforge3/envs/dicom/include/ITK-5.4/itkImageSeriesReader.hxx, line WARNING: In /home/jstabet/miniforge3/envs/dicom/include/ITK-5.4/itkImageSeriesReader.hxx, line WARNING: In /home/jstabet/miniforge3/envs/dicom/include/ITK-5.4/itkImageSeriesReader.hxx, line WARNING: In /home/jstabet/miniforge3/envs/dicom/include/ITK-5.4/itkImageSeriesReader.hxx, line WARNING: In /home/jstabet/miniforge3/envs/dicom/include/ITK-5.4/itkImageSeriesReader.hxx, line WARNING: In /home/jstabet/miniforge3/envs/dicom/include/ITK-5.4/itkImageSeriesReader.hxx, line WARNING: In /home/jstabet/miniforge3/envs/dicom/include/ITK-5.4/itkImageSeriesReader.hxx, line WARNING: In /home/jstabet/miniforge3/envs/dicom/include/ITK-5.4/itkImageSeriesReader.hxx, line WARNING: In /home/jstabet/miniforge3/envs/dicom/include/ITK-5.4/itkImageSeriesReader.hxx, line WARNING: In /home/jstabet/miniforge3/envs/dicom/include/ITK-5.4/itkImageSeriesReader.hxx, line WARNING: In /home/jstabet/miniforge3/envs/dicom/include/ITK-5.4/itkImageSeriesReader.hxx, line WARNING: In /home/jstabet/miniforge3/envs/dicom/include/ITK-5.4/itkImageSeriesReader.hxx, line WARNING: In /home/jstabet/miniforge3/envs/dicom/include/ITK-5.4/itkImageSeriesReader.hxx, line WARNING: In /home/jstabet/miniforge3/envs/dicom/include/ITK-5.4/itkImageSeriesReader.hxx, line "
     ]
    },
    {
     "name": "stdout",
     "output_type": "stream",
     "text": [
      "Epoch 35/100\tTrain Loss: 0.0513 | Train Acc: 0.7980\n"
     ]
    },
    {
     "name": "stderr",
     "output_type": "stream",
     "text": [
      "WARNING: In /home/jstabet/miniforge3/envs/dicom/include/ITK-5.4/itkImageSeriesReader.hxx, line WARNING: In /home/jstabet/miniforge3/envs/dicom/include/ITK-5.4/itkImageSeriesReader.hxx, line WARNING: In /home/jstabet/miniforge3/envs/dicom/include/ITK-5.4/itkImageSeriesReader.hxx, line WARNING: In /home/jstabet/miniforge3/envs/dicom/include/ITK-5.4/itkImageSeriesReader.hxx, line WARNING: In /home/jstabet/miniforge3/envs/dicom/include/ITK-5.4/itkImageSeriesReader.hxx, line WARNING: In /home/jstabet/miniforge3/envs/dicom/include/ITK-5.4/itkImageSeriesReader.hxx, line WARNING: In /home/jstabet/miniforge3/envs/dicom/include/ITK-5.4/itkImageSeriesReader.hxx, line WARNING: In /home/jstabet/miniforge3/envs/dicom/include/ITK-5.4/itkImageSeriesReader.hxx, line WARNING: In /home/jstabet/miniforge3/envs/dicom/include/ITK-5.4/itkImageSeriesReader.hxx, line WARNING: In /home/jstabet/miniforge3/envs/dicom/include/ITK-5.4/itkImageSeriesReader.hxx, line WARNING: In /home/jstabet/miniforge3/envs/dicom/include/ITK-5.4/itkImageSeriesReader.hxx, line WARNING: In /home/jstabet/miniforge3/envs/dicom/include/ITK-5.4/itkImageSeriesReader.hxx, line WARNING: In /home/jstabet/miniforge3/envs/dicom/include/ITK-5.4/itkImageSeriesReader.hxx, line WARNING: In /home/jstabet/miniforge3/envs/dicom/include/ITK-5.4/itkImageSeriesReader.hxx, line WARNING: In /home/jstabet/miniforge3/envs/dicom/include/ITK-5.4/itkImageSeriesReader.hxx, line WARNING: In /home/jstabet/miniforge3/envs/dicom/include/ITK-5.4/itkImageSeriesReader.hxx, line WARNING: In /home/jstabet/miniforge3/envs/dicom/include/ITK-5.4/itkImageSeriesReader.hxx, line WARNING: In /home/jstabet/miniforge3/envs/dicom/include/ITK-5.4/itkImageSeriesReader.hxx, line WARNING: In /home/jstabet/miniforge3/envs/dicom/include/ITK-5.4/itkImageSeriesReader.hxx, line WARNING: In /home/jstabet/miniforge3/envs/dicom/include/ITK-5.4/itkImageSeriesReader.hxx, line WARNING: In /home/jstabet/miniforge3/envs/dicom/include/ITK-5.4/itkImageSeriesReader.hxx, line WARNING: In /home/jstabet/miniforge3/envs/dicom/include/ITK-5.4/itkImageSeriesReader.hxx, line WARNING: In /home/jstabet/miniforge3/envs/dicom/include/ITK-5.4/itkImageSeriesReader.hxx, line WARNING: In /home/jstabet/miniforge3/envs/dicom/include/ITK-5.4/itkImageSeriesReader.hxx, line WARNING: In /home/jstabet/miniforge3/envs/dicom/include/ITK-5.4/itkImageSeriesReader.hxx, line "
     ]
    },
    {
     "name": "stdout",
     "output_type": "stream",
     "text": [
      "Epoch 36/100\tTrain Loss: 0.0514 | Train Acc: 0.7980\n"
     ]
    },
    {
     "name": "stderr",
     "output_type": "stream",
     "text": [
      "WARNING: In /home/jstabet/miniforge3/envs/dicom/include/ITK-5.4/itkImageSeriesReader.hxx, line WARNING: In /home/jstabet/miniforge3/envs/dicom/include/ITK-5.4/itkImageSeriesReader.hxx, line WARNING: In /home/jstabet/miniforge3/envs/dicom/include/ITK-5.4/itkImageSeriesReader.hxx, line WARNING: In /home/jstabet/miniforge3/envs/dicom/include/ITK-5.4/itkImageSeriesReader.hxx, line WARNING: In /home/jstabet/miniforge3/envs/dicom/include/ITK-5.4/itkImageSeriesReader.hxx, line WARNING: In /home/jstabet/miniforge3/envs/dicom/include/ITK-5.4/itkImageSeriesReader.hxx, line WARNING: In /home/jstabet/miniforge3/envs/dicom/include/ITK-5.4/itkImageSeriesReader.hxx, line WARNING: In /home/jstabet/miniforge3/envs/dicom/include/ITK-5.4/itkImageSeriesReader.hxx, line WARNING: In /home/jstabet/miniforge3/envs/dicom/include/ITK-5.4/itkImageSeriesReader.hxx, line WARNING: In /home/jstabet/miniforge3/envs/dicom/include/ITK-5.4/itkImageSeriesReader.hxx, line WARNING: In /home/jstabet/miniforge3/envs/dicom/include/ITK-5.4/itkImageSeriesReader.hxx, line WARNING: In /home/jstabet/miniforge3/envs/dicom/include/ITK-5.4/itkImageSeriesReader.hxx, line WARNING: In /home/jstabet/miniforge3/envs/dicom/include/ITK-5.4/itkImageSeriesReader.hxx, line WARNING: In /home/jstabet/miniforge3/envs/dicom/include/ITK-5.4/itkImageSeriesReader.hxx, line WARNING: In /home/jstabet/miniforge3/envs/dicom/include/ITK-5.4/itkImageSeriesReader.hxx, line WARNING: In /home/jstabet/miniforge3/envs/dicom/include/ITK-5.4/itkImageSeriesReader.hxx, line WARNING: In /home/jstabet/miniforge3/envs/dicom/include/ITK-5.4/itkImageSeriesReader.hxx, line WARNING: In /home/jstabet/miniforge3/envs/dicom/include/ITK-5.4/itkImageSeriesReader.hxx, line WARNING: In /home/jstabet/miniforge3/envs/dicom/include/ITK-5.4/itkImageSeriesReader.hxx, line WARNING: In /home/jstabet/miniforge3/envs/dicom/include/ITK-5.4/itkImageSeriesReader.hxx, line WARNING: In /home/jstabet/miniforge3/envs/dicom/include/ITK-5.4/itkImageSeriesReader.hxx, line WARNING: In /home/jstabet/miniforge3/envs/dicom/include/ITK-5.4/itkImageSeriesReader.hxx, line WARNING: In /home/jstabet/miniforge3/envs/dicom/include/ITK-5.4/itkImageSeriesReader.hxx, line WARNING: In /home/jstabet/miniforge3/envs/dicom/include/ITK-5.4/itkImageSeriesReader.hxx, line WARNING: In /home/jstabet/miniforge3/envs/dicom/include/ITK-5.4/itkImageSeriesReader.hxx, line "
     ]
    },
    {
     "name": "stdout",
     "output_type": "stream",
     "text": [
      "Epoch 37/100\tTrain Loss: 0.0513 | Train Acc: 0.7980\n"
     ]
    },
    {
     "name": "stderr",
     "output_type": "stream",
     "text": [
      "WARNING: In /home/jstabet/miniforge3/envs/dicom/include/ITK-5.4/itkImageSeriesReader.hxx, line WARNING: In /home/jstabet/miniforge3/envs/dicom/include/ITK-5.4/itkImageSeriesReader.hxx, line WARNING: In /home/jstabet/miniforge3/envs/dicom/include/ITK-5.4/itkImageSeriesReader.hxx, line WARNING: In /home/jstabet/miniforge3/envs/dicom/include/ITK-5.4/itkImageSeriesReader.hxx, line WARNING: In /home/jstabet/miniforge3/envs/dicom/include/ITK-5.4/itkImageSeriesReader.hxx, line WARNING: In /home/jstabet/miniforge3/envs/dicom/include/ITK-5.4/itkImageSeriesReader.hxx, line WARNING: In /home/jstabet/miniforge3/envs/dicom/include/ITK-5.4/itkImageSeriesReader.hxx, line WARNING: In /home/jstabet/miniforge3/envs/dicom/include/ITK-5.4/itkImageSeriesReader.hxx, line WARNING: In /home/jstabet/miniforge3/envs/dicom/include/ITK-5.4/itkImageSeriesReader.hxx, line WARNING: In /home/jstabet/miniforge3/envs/dicom/include/ITK-5.4/itkImageSeriesReader.hxx, line WARNING: In /home/jstabet/miniforge3/envs/dicom/include/ITK-5.4/itkImageSeriesReader.hxx, line WARNING: In /home/jstabet/miniforge3/envs/dicom/include/ITK-5.4/itkImageSeriesReader.hxx, line WARNING: In /home/jstabet/miniforge3/envs/dicom/include/ITK-5.4/itkImageSeriesReader.hxx, line WARNING: In /home/jstabet/miniforge3/envs/dicom/include/ITK-5.4/itkImageSeriesReader.hxx, line WARNING: In /home/jstabet/miniforge3/envs/dicom/include/ITK-5.4/itkImageSeriesReader.hxx, line WARNING: In /home/jstabet/miniforge3/envs/dicom/include/ITK-5.4/itkImageSeriesReader.hxx, line WARNING: In /home/jstabet/miniforge3/envs/dicom/include/ITK-5.4/itkImageSeriesReader.hxx, line WARNING: In /home/jstabet/miniforge3/envs/dicom/include/ITK-5.4/itkImageSeriesReader.hxx, line WARNING: In /home/jstabet/miniforge3/envs/dicom/include/ITK-5.4/itkImageSeriesReader.hxx, line WARNING: In /home/jstabet/miniforge3/envs/dicom/include/ITK-5.4/itkImageSeriesReader.hxx, line WARNING: In /home/jstabet/miniforge3/envs/dicom/include/ITK-5.4/itkImageSeriesReader.hxx, line WARNING: In /home/jstabet/miniforge3/envs/dicom/include/ITK-5.4/itkImageSeriesReader.hxx, line WARNING: In /home/jstabet/miniforge3/envs/dicom/include/ITK-5.4/itkImageSeriesReader.hxx, line WARNING: In /home/jstabet/miniforge3/envs/dicom/include/ITK-5.4/itkImageSeriesReader.hxx, line WARNING: In /home/jstabet/miniforge3/envs/dicom/include/ITK-5.4/itkImageSeriesReader.hxx, line "
     ]
    },
    {
     "name": "stdout",
     "output_type": "stream",
     "text": [
      "Epoch 38/100\tTrain Loss: 0.0527 | Train Acc: 0.7980\n"
     ]
    },
    {
     "name": "stderr",
     "output_type": "stream",
     "text": [
      "WARNING: In /home/jstabet/miniforge3/envs/dicom/include/ITK-5.4/itkImageSeriesReader.hxx, line WARNING: In /home/jstabet/miniforge3/envs/dicom/include/ITK-5.4/itkImageSeriesReader.hxx, line WARNING: In /home/jstabet/miniforge3/envs/dicom/include/ITK-5.4/itkImageSeriesReader.hxx, line WARNING: In /home/jstabet/miniforge3/envs/dicom/include/ITK-5.4/itkImageSeriesReader.hxx, line WARNING: In /home/jstabet/miniforge3/envs/dicom/include/ITK-5.4/itkImageSeriesReader.hxx, line WARNING: In /home/jstabet/miniforge3/envs/dicom/include/ITK-5.4/itkImageSeriesReader.hxx, line WARNING: In /home/jstabet/miniforge3/envs/dicom/include/ITK-5.4/itkImageSeriesReader.hxx, line WARNING: In /home/jstabet/miniforge3/envs/dicom/include/ITK-5.4/itkImageSeriesReader.hxx, line WARNING: In /home/jstabet/miniforge3/envs/dicom/include/ITK-5.4/itkImageSeriesReader.hxx, line WARNING: In /home/jstabet/miniforge3/envs/dicom/include/ITK-5.4/itkImageSeriesReader.hxx, line WARNING: In /home/jstabet/miniforge3/envs/dicom/include/ITK-5.4/itkImageSeriesReader.hxx, line WARNING: In /home/jstabet/miniforge3/envs/dicom/include/ITK-5.4/itkImageSeriesReader.hxx, line WARNING: In /home/jstabet/miniforge3/envs/dicom/include/ITK-5.4/itkImageSeriesReader.hxx, line WARNING: In /home/jstabet/miniforge3/envs/dicom/include/ITK-5.4/itkImageSeriesReader.hxx, line WARNING: In /home/jstabet/miniforge3/envs/dicom/include/ITK-5.4/itkImageSeriesReader.hxx, line WARNING: In /home/jstabet/miniforge3/envs/dicom/include/ITK-5.4/itkImageSeriesReader.hxx, line WARNING: In /home/jstabet/miniforge3/envs/dicom/include/ITK-5.4/itkImageSeriesReader.hxx, line WARNING: In /home/jstabet/miniforge3/envs/dicom/include/ITK-5.4/itkImageSeriesReader.hxx, line WARNING: In /home/jstabet/miniforge3/envs/dicom/include/ITK-5.4/itkImageSeriesReader.hxx, line WARNING: In /home/jstabet/miniforge3/envs/dicom/include/ITK-5.4/itkImageSeriesReader.hxx, line WARNING: In /home/jstabet/miniforge3/envs/dicom/include/ITK-5.4/itkImageSeriesReader.hxx, line WARNING: In /home/jstabet/miniforge3/envs/dicom/include/ITK-5.4/itkImageSeriesReader.hxx, line WARNING: In /home/jstabet/miniforge3/envs/dicom/include/ITK-5.4/itkImageSeriesReader.hxx, line WARNING: In /home/jstabet/miniforge3/envs/dicom/include/ITK-5.4/itkImageSeriesReader.hxx, line WARNING: In /home/jstabet/miniforge3/envs/dicom/include/ITK-5.4/itkImageSeriesReader.hxx, line "
     ]
    },
    {
     "name": "stdout",
     "output_type": "stream",
     "text": [
      "Epoch 39/100\tTrain Loss: 0.0558 | Train Acc: 0.7980\n"
     ]
    },
    {
     "name": "stderr",
     "output_type": "stream",
     "text": [
      "WARNING: In /home/jstabet/miniforge3/envs/dicom/include/ITK-5.4/itkImageSeriesReader.hxx, line WARNING: In /home/jstabet/miniforge3/envs/dicom/include/ITK-5.4/itkImageSeriesReader.hxx, line WARNING: In /home/jstabet/miniforge3/envs/dicom/include/ITK-5.4/itkImageSeriesReader.hxx, line WARNING: In /home/jstabet/miniforge3/envs/dicom/include/ITK-5.4/itkImageSeriesReader.hxx, line WARNING: In /home/jstabet/miniforge3/envs/dicom/include/ITK-5.4/itkImageSeriesReader.hxx, line WARNING: In /home/jstabet/miniforge3/envs/dicom/include/ITK-5.4/itkImageSeriesReader.hxx, line WARNING: In /home/jstabet/miniforge3/envs/dicom/include/ITK-5.4/itkImageSeriesReader.hxx, line WARNING: In /home/jstabet/miniforge3/envs/dicom/include/ITK-5.4/itkImageSeriesReader.hxx, line WARNING: In /home/jstabet/miniforge3/envs/dicom/include/ITK-5.4/itkImageSeriesReader.hxx, line WARNING: In /home/jstabet/miniforge3/envs/dicom/include/ITK-5.4/itkImageSeriesReader.hxx, line WARNING: In /home/jstabet/miniforge3/envs/dicom/include/ITK-5.4/itkImageSeriesReader.hxx, line WARNING: In /home/jstabet/miniforge3/envs/dicom/include/ITK-5.4/itkImageSeriesReader.hxx, line WARNING: In /home/jstabet/miniforge3/envs/dicom/include/ITK-5.4/itkImageSeriesReader.hxx, line WARNING: In /home/jstabet/miniforge3/envs/dicom/include/ITK-5.4/itkImageSeriesReader.hxx, line WARNING: In /home/jstabet/miniforge3/envs/dicom/include/ITK-5.4/itkImageSeriesReader.hxx, line WARNING: In /home/jstabet/miniforge3/envs/dicom/include/ITK-5.4/itkImageSeriesReader.hxx, line WARNING: In /home/jstabet/miniforge3/envs/dicom/include/ITK-5.4/itkImageSeriesReader.hxx, line WARNING: In /home/jstabet/miniforge3/envs/dicom/include/ITK-5.4/itkImageSeriesReader.hxx, line WARNING: In /home/jstabet/miniforge3/envs/dicom/include/ITK-5.4/itkImageSeriesReader.hxx, line WARNING: In /home/jstabet/miniforge3/envs/dicom/include/ITK-5.4/itkImageSeriesReader.hxx, line WARNING: In /home/jstabet/miniforge3/envs/dicom/include/ITK-5.4/itkImageSeriesReader.hxx, line WARNING: In /home/jstabet/miniforge3/envs/dicom/include/ITK-5.4/itkImageSeriesReader.hxx, line WARNING: In /home/jstabet/miniforge3/envs/dicom/include/ITK-5.4/itkImageSeriesReader.hxx, line WARNING: In /home/jstabet/miniforge3/envs/dicom/include/ITK-5.4/itkImageSeriesReader.hxx, line WARNING: In /home/jstabet/miniforge3/envs/dicom/include/ITK-5.4/itkImageSeriesReader.hxx, line "
     ]
    },
    {
     "name": "stdout",
     "output_type": "stream",
     "text": [
      "Epoch 40/100\tTrain Loss: 0.0513 | Train Acc: 0.7980\n"
     ]
    },
    {
     "name": "stderr",
     "output_type": "stream",
     "text": [
      "WARNING: In /home/jstabet/miniforge3/envs/dicom/include/ITK-5.4/itkImageSeriesReader.hxx, line WARNING: In /home/jstabet/miniforge3/envs/dicom/include/ITK-5.4/itkImageSeriesReader.hxx, line WARNING: In /home/jstabet/miniforge3/envs/dicom/include/ITK-5.4/itkImageSeriesReader.hxx, line WARNING: In /home/jstabet/miniforge3/envs/dicom/include/ITK-5.4/itkImageSeriesReader.hxx, line WARNING: In /home/jstabet/miniforge3/envs/dicom/include/ITK-5.4/itkImageSeriesReader.hxx, line WARNING: In /home/jstabet/miniforge3/envs/dicom/include/ITK-5.4/itkImageSeriesReader.hxx, line WARNING: In /home/jstabet/miniforge3/envs/dicom/include/ITK-5.4/itkImageSeriesReader.hxx, line WARNING: In /home/jstabet/miniforge3/envs/dicom/include/ITK-5.4/itkImageSeriesReader.hxx, line WARNING: In /home/jstabet/miniforge3/envs/dicom/include/ITK-5.4/itkImageSeriesReader.hxx, line WARNING: In /home/jstabet/miniforge3/envs/dicom/include/ITK-5.4/itkImageSeriesReader.hxx, line WARNING: In /home/jstabet/miniforge3/envs/dicom/include/ITK-5.4/itkImageSeriesReader.hxx, line WARNING: In /home/jstabet/miniforge3/envs/dicom/include/ITK-5.4/itkImageSeriesReader.hxx, line WARNING: In /home/jstabet/miniforge3/envs/dicom/include/ITK-5.4/itkImageSeriesReader.hxx, line WARNING: In /home/jstabet/miniforge3/envs/dicom/include/ITK-5.4/itkImageSeriesReader.hxx, line WARNING: In /home/jstabet/miniforge3/envs/dicom/include/ITK-5.4/itkImageSeriesReader.hxx, line WARNING: In /home/jstabet/miniforge3/envs/dicom/include/ITK-5.4/itkImageSeriesReader.hxx, line WARNING: In /home/jstabet/miniforge3/envs/dicom/include/ITK-5.4/itkImageSeriesReader.hxx, line WARNING: In /home/jstabet/miniforge3/envs/dicom/include/ITK-5.4/itkImageSeriesReader.hxx, line WARNING: In /home/jstabet/miniforge3/envs/dicom/include/ITK-5.4/itkImageSeriesReader.hxx, line WARNING: In /home/jstabet/miniforge3/envs/dicom/include/ITK-5.4/itkImageSeriesReader.hxx, line WARNING: In /home/jstabet/miniforge3/envs/dicom/include/ITK-5.4/itkImageSeriesReader.hxx, line WARNING: In /home/jstabet/miniforge3/envs/dicom/include/ITK-5.4/itkImageSeriesReader.hxx, line WARNING: In /home/jstabet/miniforge3/envs/dicom/include/ITK-5.4/itkImageSeriesReader.hxx, line WARNING: In /home/jstabet/miniforge3/envs/dicom/include/ITK-5.4/itkImageSeriesReader.hxx, line WARNING: In /home/jstabet/miniforge3/envs/dicom/include/ITK-5.4/itkImageSeriesReader.hxx, line "
     ]
    },
    {
     "name": "stdout",
     "output_type": "stream",
     "text": [
      "Epoch 41/100\tTrain Loss: 0.0525 | Train Acc: 0.7980\n"
     ]
    },
    {
     "name": "stderr",
     "output_type": "stream",
     "text": [
      "WARNING: In /home/jstabet/miniforge3/envs/dicom/include/ITK-5.4/itkImageSeriesReader.hxx, line WARNING: In /home/jstabet/miniforge3/envs/dicom/include/ITK-5.4/itkImageSeriesReader.hxx, line WARNING: In /home/jstabet/miniforge3/envs/dicom/include/ITK-5.4/itkImageSeriesReader.hxx, line WARNING: In /home/jstabet/miniforge3/envs/dicom/include/ITK-5.4/itkImageSeriesReader.hxx, line WARNING: In /home/jstabet/miniforge3/envs/dicom/include/ITK-5.4/itkImageSeriesReader.hxx, line WARNING: In /home/jstabet/miniforge3/envs/dicom/include/ITK-5.4/itkImageSeriesReader.hxx, line WARNING: In /home/jstabet/miniforge3/envs/dicom/include/ITK-5.4/itkImageSeriesReader.hxx, line WARNING: In /home/jstabet/miniforge3/envs/dicom/include/ITK-5.4/itkImageSeriesReader.hxx, line WARNING: In /home/jstabet/miniforge3/envs/dicom/include/ITK-5.4/itkImageSeriesReader.hxx, line WARNING: In /home/jstabet/miniforge3/envs/dicom/include/ITK-5.4/itkImageSeriesReader.hxx, line WARNING: In /home/jstabet/miniforge3/envs/dicom/include/ITK-5.4/itkImageSeriesReader.hxx, line WARNING: In /home/jstabet/miniforge3/envs/dicom/include/ITK-5.4/itkImageSeriesReader.hxx, line WARNING: In /home/jstabet/miniforge3/envs/dicom/include/ITK-5.4/itkImageSeriesReader.hxx, line WARNING: In /home/jstabet/miniforge3/envs/dicom/include/ITK-5.4/itkImageSeriesReader.hxx, line WARNING: In /home/jstabet/miniforge3/envs/dicom/include/ITK-5.4/itkImageSeriesReader.hxx, line WARNING: In /home/jstabet/miniforge3/envs/dicom/include/ITK-5.4/itkImageSeriesReader.hxx, line WARNING: In /home/jstabet/miniforge3/envs/dicom/include/ITK-5.4/itkImageSeriesReader.hxx, line WARNING: In /home/jstabet/miniforge3/envs/dicom/include/ITK-5.4/itkImageSeriesReader.hxx, line WARNING: In /home/jstabet/miniforge3/envs/dicom/include/ITK-5.4/itkImageSeriesReader.hxx, line WARNING: In /home/jstabet/miniforge3/envs/dicom/include/ITK-5.4/itkImageSeriesReader.hxx, line WARNING: In /home/jstabet/miniforge3/envs/dicom/include/ITK-5.4/itkImageSeriesReader.hxx, line WARNING: In /home/jstabet/miniforge3/envs/dicom/include/ITK-5.4/itkImageSeriesReader.hxx, line WARNING: In /home/jstabet/miniforge3/envs/dicom/include/ITK-5.4/itkImageSeriesReader.hxx, line WARNING: In /home/jstabet/miniforge3/envs/dicom/include/ITK-5.4/itkImageSeriesReader.hxx, line WARNING: In /home/jstabet/miniforge3/envs/dicom/include/ITK-5.4/itkImageSeriesReader.hxx, line "
     ]
    },
    {
     "name": "stdout",
     "output_type": "stream",
     "text": [
      "Epoch 42/100\tTrain Loss: 0.0527 | Train Acc: 0.7980\n"
     ]
    },
    {
     "name": "stderr",
     "output_type": "stream",
     "text": [
      "WARNING: In /home/jstabet/miniforge3/envs/dicom/include/ITK-5.4/itkImageSeriesReader.hxx, line WARNING: In /home/jstabet/miniforge3/envs/dicom/include/ITK-5.4/itkImageSeriesReader.hxx, line WARNING: In /home/jstabet/miniforge3/envs/dicom/include/ITK-5.4/itkImageSeriesReader.hxx, line WARNING: In /home/jstabet/miniforge3/envs/dicom/include/ITK-5.4/itkImageSeriesReader.hxx, line WARNING: In /home/jstabet/miniforge3/envs/dicom/include/ITK-5.4/itkImageSeriesReader.hxx, line WARNING: In /home/jstabet/miniforge3/envs/dicom/include/ITK-5.4/itkImageSeriesReader.hxx, line WARNING: In /home/jstabet/miniforge3/envs/dicom/include/ITK-5.4/itkImageSeriesReader.hxx, line WARNING: In /home/jstabet/miniforge3/envs/dicom/include/ITK-5.4/itkImageSeriesReader.hxx, line WARNING: In /home/jstabet/miniforge3/envs/dicom/include/ITK-5.4/itkImageSeriesReader.hxx, line WARNING: In /home/jstabet/miniforge3/envs/dicom/include/ITK-5.4/itkImageSeriesReader.hxx, line WARNING: In /home/jstabet/miniforge3/envs/dicom/include/ITK-5.4/itkImageSeriesReader.hxx, line WARNING: In /home/jstabet/miniforge3/envs/dicom/include/ITK-5.4/itkImageSeriesReader.hxx, line WARNING: In /home/jstabet/miniforge3/envs/dicom/include/ITK-5.4/itkImageSeriesReader.hxx, line WARNING: In /home/jstabet/miniforge3/envs/dicom/include/ITK-5.4/itkImageSeriesReader.hxx, line WARNING: In /home/jstabet/miniforge3/envs/dicom/include/ITK-5.4/itkImageSeriesReader.hxx, line WARNING: In /home/jstabet/miniforge3/envs/dicom/include/ITK-5.4/itkImageSeriesReader.hxx, line WARNING: In /home/jstabet/miniforge3/envs/dicom/include/ITK-5.4/itkImageSeriesReader.hxx, line WARNING: In /home/jstabet/miniforge3/envs/dicom/include/ITK-5.4/itkImageSeriesReader.hxx, line WARNING: In /home/jstabet/miniforge3/envs/dicom/include/ITK-5.4/itkImageSeriesReader.hxx, line WARNING: In /home/jstabet/miniforge3/envs/dicom/include/ITK-5.4/itkImageSeriesReader.hxx, line WARNING: In /home/jstabet/miniforge3/envs/dicom/include/ITK-5.4/itkImageSeriesReader.hxx, line WARNING: In /home/jstabet/miniforge3/envs/dicom/include/ITK-5.4/itkImageSeriesReader.hxx, line WARNING: In /home/jstabet/miniforge3/envs/dicom/include/ITK-5.4/itkImageSeriesReader.hxx, line WARNING: In /home/jstabet/miniforge3/envs/dicom/include/ITK-5.4/itkImageSeriesReader.hxx, line WARNING: In /home/jstabet/miniforge3/envs/dicom/include/ITK-5.4/itkImageSeriesReader.hxx, line "
     ]
    },
    {
     "name": "stdout",
     "output_type": "stream",
     "text": [
      "Epoch 43/100\tTrain Loss: 0.0512 | Train Acc: 0.7980\n"
     ]
    },
    {
     "name": "stderr",
     "output_type": "stream",
     "text": [
      "WARNING: In /home/jstabet/miniforge3/envs/dicom/include/ITK-5.4/itkImageSeriesReader.hxx, line WARNING: In /home/jstabet/miniforge3/envs/dicom/include/ITK-5.4/itkImageSeriesReader.hxx, line WARNING: In /home/jstabet/miniforge3/envs/dicom/include/ITK-5.4/itkImageSeriesReader.hxx, line WARNING: In /home/jstabet/miniforge3/envs/dicom/include/ITK-5.4/itkImageSeriesReader.hxx, line WARNING: In /home/jstabet/miniforge3/envs/dicom/include/ITK-5.4/itkImageSeriesReader.hxx, line WARNING: In /home/jstabet/miniforge3/envs/dicom/include/ITK-5.4/itkImageSeriesReader.hxx, line WARNING: In /home/jstabet/miniforge3/envs/dicom/include/ITK-5.4/itkImageSeriesReader.hxx, line WARNING: In /home/jstabet/miniforge3/envs/dicom/include/ITK-5.4/itkImageSeriesReader.hxx, line WARNING: In /home/jstabet/miniforge3/envs/dicom/include/ITK-5.4/itkImageSeriesReader.hxx, line WARNING: In /home/jstabet/miniforge3/envs/dicom/include/ITK-5.4/itkImageSeriesReader.hxx, line WARNING: In /home/jstabet/miniforge3/envs/dicom/include/ITK-5.4/itkImageSeriesReader.hxx, line WARNING: In /home/jstabet/miniforge3/envs/dicom/include/ITK-5.4/itkImageSeriesReader.hxx, line WARNING: In /home/jstabet/miniforge3/envs/dicom/include/ITK-5.4/itkImageSeriesReader.hxx, line WARNING: In /home/jstabet/miniforge3/envs/dicom/include/ITK-5.4/itkImageSeriesReader.hxx, line WARNING: In /home/jstabet/miniforge3/envs/dicom/include/ITK-5.4/itkImageSeriesReader.hxx, line WARNING: In /home/jstabet/miniforge3/envs/dicom/include/ITK-5.4/itkImageSeriesReader.hxx, line WARNING: In /home/jstabet/miniforge3/envs/dicom/include/ITK-5.4/itkImageSeriesReader.hxx, line WARNING: In /home/jstabet/miniforge3/envs/dicom/include/ITK-5.4/itkImageSeriesReader.hxx, line WARNING: In /home/jstabet/miniforge3/envs/dicom/include/ITK-5.4/itkImageSeriesReader.hxx, line WARNING: In /home/jstabet/miniforge3/envs/dicom/include/ITK-5.4/itkImageSeriesReader.hxx, line WARNING: In /home/jstabet/miniforge3/envs/dicom/include/ITK-5.4/itkImageSeriesReader.hxx, line WARNING: In /home/jstabet/miniforge3/envs/dicom/include/ITK-5.4/itkImageSeriesReader.hxx, line WARNING: In /home/jstabet/miniforge3/envs/dicom/include/ITK-5.4/itkImageSeriesReader.hxx, line WARNING: In /home/jstabet/miniforge3/envs/dicom/include/ITK-5.4/itkImageSeriesReader.hxx, line WARNING: In /home/jstabet/miniforge3/envs/dicom/include/ITK-5.4/itkImageSeriesReader.hxx, line "
     ]
    },
    {
     "name": "stdout",
     "output_type": "stream",
     "text": [
      "Epoch 44/100\tTrain Loss: 0.0530 | Train Acc: 0.7980\n"
     ]
    },
    {
     "name": "stderr",
     "output_type": "stream",
     "text": [
      "WARNING: In /home/jstabet/miniforge3/envs/dicom/include/ITK-5.4/itkImageSeriesReader.hxx, line WARNING: In /home/jstabet/miniforge3/envs/dicom/include/ITK-5.4/itkImageSeriesReader.hxx, line WARNING: In /home/jstabet/miniforge3/envs/dicom/include/ITK-5.4/itkImageSeriesReader.hxx, line WARNING: In /home/jstabet/miniforge3/envs/dicom/include/ITK-5.4/itkImageSeriesReader.hxx, line WARNING: In /home/jstabet/miniforge3/envs/dicom/include/ITK-5.4/itkImageSeriesReader.hxx, line WARNING: In /home/jstabet/miniforge3/envs/dicom/include/ITK-5.4/itkImageSeriesReader.hxx, line WARNING: In /home/jstabet/miniforge3/envs/dicom/include/ITK-5.4/itkImageSeriesReader.hxx, line WARNING: In /home/jstabet/miniforge3/envs/dicom/include/ITK-5.4/itkImageSeriesReader.hxx, line WARNING: In /home/jstabet/miniforge3/envs/dicom/include/ITK-5.4/itkImageSeriesReader.hxx, line WARNING: In /home/jstabet/miniforge3/envs/dicom/include/ITK-5.4/itkImageSeriesReader.hxx, line WARNING: In /home/jstabet/miniforge3/envs/dicom/include/ITK-5.4/itkImageSeriesReader.hxx, line WARNING: In /home/jstabet/miniforge3/envs/dicom/include/ITK-5.4/itkImageSeriesReader.hxx, line WARNING: In /home/jstabet/miniforge3/envs/dicom/include/ITK-5.4/itkImageSeriesReader.hxx, line WARNING: In /home/jstabet/miniforge3/envs/dicom/include/ITK-5.4/itkImageSeriesReader.hxx, line WARNING: In /home/jstabet/miniforge3/envs/dicom/include/ITK-5.4/itkImageSeriesReader.hxx, line WARNING: In /home/jstabet/miniforge3/envs/dicom/include/ITK-5.4/itkImageSeriesReader.hxx, line WARNING: In /home/jstabet/miniforge3/envs/dicom/include/ITK-5.4/itkImageSeriesReader.hxx, line WARNING: In /home/jstabet/miniforge3/envs/dicom/include/ITK-5.4/itkImageSeriesReader.hxx, line WARNING: In /home/jstabet/miniforge3/envs/dicom/include/ITK-5.4/itkImageSeriesReader.hxx, line WARNING: In /home/jstabet/miniforge3/envs/dicom/include/ITK-5.4/itkImageSeriesReader.hxx, line WARNING: In /home/jstabet/miniforge3/envs/dicom/include/ITK-5.4/itkImageSeriesReader.hxx, line WARNING: In /home/jstabet/miniforge3/envs/dicom/include/ITK-5.4/itkImageSeriesReader.hxx, line WARNING: In /home/jstabet/miniforge3/envs/dicom/include/ITK-5.4/itkImageSeriesReader.hxx, line WARNING: In /home/jstabet/miniforge3/envs/dicom/include/ITK-5.4/itkImageSeriesReader.hxx, line WARNING: In /home/jstabet/miniforge3/envs/dicom/include/ITK-5.4/itkImageSeriesReader.hxx, line "
     ]
    },
    {
     "name": "stdout",
     "output_type": "stream",
     "text": [
      "Epoch 45/100\tTrain Loss: 0.0531 | Train Acc: 0.7980\n"
     ]
    },
    {
     "name": "stderr",
     "output_type": "stream",
     "text": [
      "WARNING: In /home/jstabet/miniforge3/envs/dicom/include/ITK-5.4/itkImageSeriesReader.hxx, line WARNING: In /home/jstabet/miniforge3/envs/dicom/include/ITK-5.4/itkImageSeriesReader.hxx, line WARNING: In /home/jstabet/miniforge3/envs/dicom/include/ITK-5.4/itkImageSeriesReader.hxx, line WARNING: In /home/jstabet/miniforge3/envs/dicom/include/ITK-5.4/itkImageSeriesReader.hxx, line WARNING: In /home/jstabet/miniforge3/envs/dicom/include/ITK-5.4/itkImageSeriesReader.hxx, line WARNING: In /home/jstabet/miniforge3/envs/dicom/include/ITK-5.4/itkImageSeriesReader.hxx, line WARNING: In /home/jstabet/miniforge3/envs/dicom/include/ITK-5.4/itkImageSeriesReader.hxx, line WARNING: In /home/jstabet/miniforge3/envs/dicom/include/ITK-5.4/itkImageSeriesReader.hxx, line WARNING: In /home/jstabet/miniforge3/envs/dicom/include/ITK-5.4/itkImageSeriesReader.hxx, line WARNING: In /home/jstabet/miniforge3/envs/dicom/include/ITK-5.4/itkImageSeriesReader.hxx, line WARNING: In /home/jstabet/miniforge3/envs/dicom/include/ITK-5.4/itkImageSeriesReader.hxx, line WARNING: In /home/jstabet/miniforge3/envs/dicom/include/ITK-5.4/itkImageSeriesReader.hxx, line WARNING: In /home/jstabet/miniforge3/envs/dicom/include/ITK-5.4/itkImageSeriesReader.hxx, line WARNING: In /home/jstabet/miniforge3/envs/dicom/include/ITK-5.4/itkImageSeriesReader.hxx, line WARNING: In /home/jstabet/miniforge3/envs/dicom/include/ITK-5.4/itkImageSeriesReader.hxx, line WARNING: In /home/jstabet/miniforge3/envs/dicom/include/ITK-5.4/itkImageSeriesReader.hxx, line WARNING: In /home/jstabet/miniforge3/envs/dicom/include/ITK-5.4/itkImageSeriesReader.hxx, line WARNING: In /home/jstabet/miniforge3/envs/dicom/include/ITK-5.4/itkImageSeriesReader.hxx, line WARNING: In /home/jstabet/miniforge3/envs/dicom/include/ITK-5.4/itkImageSeriesReader.hxx, line WARNING: In /home/jstabet/miniforge3/envs/dicom/include/ITK-5.4/itkImageSeriesReader.hxx, line WARNING: In /home/jstabet/miniforge3/envs/dicom/include/ITK-5.4/itkImageSeriesReader.hxx, line WARNING: In /home/jstabet/miniforge3/envs/dicom/include/ITK-5.4/itkImageSeriesReader.hxx, line WARNING: In /home/jstabet/miniforge3/envs/dicom/include/ITK-5.4/itkImageSeriesReader.hxx, line WARNING: In /home/jstabet/miniforge3/envs/dicom/include/ITK-5.4/itkImageSeriesReader.hxx, line WARNING: In /home/jstabet/miniforge3/envs/dicom/include/ITK-5.4/itkImageSeriesReader.hxx, line "
     ]
    },
    {
     "name": "stdout",
     "output_type": "stream",
     "text": [
      "Epoch 46/100\tTrain Loss: 0.0528 | Train Acc: 0.7980\n"
     ]
    },
    {
     "name": "stderr",
     "output_type": "stream",
     "text": [
      "WARNING: In /home/jstabet/miniforge3/envs/dicom/include/ITK-5.4/itkImageSeriesReader.hxx, line WARNING: In /home/jstabet/miniforge3/envs/dicom/include/ITK-5.4/itkImageSeriesReader.hxx, line WARNING: In /home/jstabet/miniforge3/envs/dicom/include/ITK-5.4/itkImageSeriesReader.hxx, line WARNING: In /home/jstabet/miniforge3/envs/dicom/include/ITK-5.4/itkImageSeriesReader.hxx, line WARNING: In /home/jstabet/miniforge3/envs/dicom/include/ITK-5.4/itkImageSeriesReader.hxx, line WARNING: In /home/jstabet/miniforge3/envs/dicom/include/ITK-5.4/itkImageSeriesReader.hxx, line WARNING: In /home/jstabet/miniforge3/envs/dicom/include/ITK-5.4/itkImageSeriesReader.hxx, line WARNING: In /home/jstabet/miniforge3/envs/dicom/include/ITK-5.4/itkImageSeriesReader.hxx, line WARNING: In /home/jstabet/miniforge3/envs/dicom/include/ITK-5.4/itkImageSeriesReader.hxx, line WARNING: In /home/jstabet/miniforge3/envs/dicom/include/ITK-5.4/itkImageSeriesReader.hxx, line WARNING: In /home/jstabet/miniforge3/envs/dicom/include/ITK-5.4/itkImageSeriesReader.hxx, line WARNING: In /home/jstabet/miniforge3/envs/dicom/include/ITK-5.4/itkImageSeriesReader.hxx, line WARNING: In /home/jstabet/miniforge3/envs/dicom/include/ITK-5.4/itkImageSeriesReader.hxx, line WARNING: In /home/jstabet/miniforge3/envs/dicom/include/ITK-5.4/itkImageSeriesReader.hxx, line WARNING: In /home/jstabet/miniforge3/envs/dicom/include/ITK-5.4/itkImageSeriesReader.hxx, line WARNING: In /home/jstabet/miniforge3/envs/dicom/include/ITK-5.4/itkImageSeriesReader.hxx, line WARNING: In /home/jstabet/miniforge3/envs/dicom/include/ITK-5.4/itkImageSeriesReader.hxx, line WARNING: In /home/jstabet/miniforge3/envs/dicom/include/ITK-5.4/itkImageSeriesReader.hxx, line WARNING: In /home/jstabet/miniforge3/envs/dicom/include/ITK-5.4/itkImageSeriesReader.hxx, line WARNING: In /home/jstabet/miniforge3/envs/dicom/include/ITK-5.4/itkImageSeriesReader.hxx, line WARNING: In /home/jstabet/miniforge3/envs/dicom/include/ITK-5.4/itkImageSeriesReader.hxx, line WARNING: In /home/jstabet/miniforge3/envs/dicom/include/ITK-5.4/itkImageSeriesReader.hxx, line WARNING: In /home/jstabet/miniforge3/envs/dicom/include/ITK-5.4/itkImageSeriesReader.hxx, line WARNING: In /home/jstabet/miniforge3/envs/dicom/include/ITK-5.4/itkImageSeriesReader.hxx, line WARNING: In /home/jstabet/miniforge3/envs/dicom/include/ITK-5.4/itkImageSeriesReader.hxx, line "
     ]
    },
    {
     "name": "stdout",
     "output_type": "stream",
     "text": [
      "Epoch 47/100\tTrain Loss: 0.0528 | Train Acc: 0.7980\n"
     ]
    },
    {
     "name": "stderr",
     "output_type": "stream",
     "text": [
      "WARNING: In /home/jstabet/miniforge3/envs/dicom/include/ITK-5.4/itkImageSeriesReader.hxx, line WARNING: In /home/jstabet/miniforge3/envs/dicom/include/ITK-5.4/itkImageSeriesReader.hxx, line WARNING: In /home/jstabet/miniforge3/envs/dicom/include/ITK-5.4/itkImageSeriesReader.hxx, line WARNING: In /home/jstabet/miniforge3/envs/dicom/include/ITK-5.4/itkImageSeriesReader.hxx, line WARNING: In /home/jstabet/miniforge3/envs/dicom/include/ITK-5.4/itkImageSeriesReader.hxx, line WARNING: In /home/jstabet/miniforge3/envs/dicom/include/ITK-5.4/itkImageSeriesReader.hxx, line WARNING: In /home/jstabet/miniforge3/envs/dicom/include/ITK-5.4/itkImageSeriesReader.hxx, line WARNING: In /home/jstabet/miniforge3/envs/dicom/include/ITK-5.4/itkImageSeriesReader.hxx, line WARNING: In /home/jstabet/miniforge3/envs/dicom/include/ITK-5.4/itkImageSeriesReader.hxx, line WARNING: In /home/jstabet/miniforge3/envs/dicom/include/ITK-5.4/itkImageSeriesReader.hxx, line WARNING: In /home/jstabet/miniforge3/envs/dicom/include/ITK-5.4/itkImageSeriesReader.hxx, line WARNING: In /home/jstabet/miniforge3/envs/dicom/include/ITK-5.4/itkImageSeriesReader.hxx, line WARNING: In /home/jstabet/miniforge3/envs/dicom/include/ITK-5.4/itkImageSeriesReader.hxx, line WARNING: In /home/jstabet/miniforge3/envs/dicom/include/ITK-5.4/itkImageSeriesReader.hxx, line WARNING: In /home/jstabet/miniforge3/envs/dicom/include/ITK-5.4/itkImageSeriesReader.hxx, line WARNING: In /home/jstabet/miniforge3/envs/dicom/include/ITK-5.4/itkImageSeriesReader.hxx, line WARNING: In /home/jstabet/miniforge3/envs/dicom/include/ITK-5.4/itkImageSeriesReader.hxx, line WARNING: In /home/jstabet/miniforge3/envs/dicom/include/ITK-5.4/itkImageSeriesReader.hxx, line WARNING: In /home/jstabet/miniforge3/envs/dicom/include/ITK-5.4/itkImageSeriesReader.hxx, line WARNING: In /home/jstabet/miniforge3/envs/dicom/include/ITK-5.4/itkImageSeriesReader.hxx, line WARNING: In /home/jstabet/miniforge3/envs/dicom/include/ITK-5.4/itkImageSeriesReader.hxx, line WARNING: In /home/jstabet/miniforge3/envs/dicom/include/ITK-5.4/itkImageSeriesReader.hxx, line WARNING: In /home/jstabet/miniforge3/envs/dicom/include/ITK-5.4/itkImageSeriesReader.hxx, line WARNING: In /home/jstabet/miniforge3/envs/dicom/include/ITK-5.4/itkImageSeriesReader.hxx, line WARNING: In /home/jstabet/miniforge3/envs/dicom/include/ITK-5.4/itkImageSeriesReader.hxx, line "
     ]
    },
    {
     "name": "stdout",
     "output_type": "stream",
     "text": [
      "Epoch 48/100\tTrain Loss: 0.0525 | Train Acc: 0.7980\n"
     ]
    },
    {
     "name": "stderr",
     "output_type": "stream",
     "text": [
      "WARNING: In /home/jstabet/miniforge3/envs/dicom/include/ITK-5.4/itkImageSeriesReader.hxx, line WARNING: In /home/jstabet/miniforge3/envs/dicom/include/ITK-5.4/itkImageSeriesReader.hxx, line WARNING: In /home/jstabet/miniforge3/envs/dicom/include/ITK-5.4/itkImageSeriesReader.hxx, line WARNING: In /home/jstabet/miniforge3/envs/dicom/include/ITK-5.4/itkImageSeriesReader.hxx, line WARNING: In /home/jstabet/miniforge3/envs/dicom/include/ITK-5.4/itkImageSeriesReader.hxx, line WARNING: In /home/jstabet/miniforge3/envs/dicom/include/ITK-5.4/itkImageSeriesReader.hxx, line WARNING: In /home/jstabet/miniforge3/envs/dicom/include/ITK-5.4/itkImageSeriesReader.hxx, line WARNING: In /home/jstabet/miniforge3/envs/dicom/include/ITK-5.4/itkImageSeriesReader.hxx, line WARNING: In /home/jstabet/miniforge3/envs/dicom/include/ITK-5.4/itkImageSeriesReader.hxx, line WARNING: In /home/jstabet/miniforge3/envs/dicom/include/ITK-5.4/itkImageSeriesReader.hxx, line WARNING: In /home/jstabet/miniforge3/envs/dicom/include/ITK-5.4/itkImageSeriesReader.hxx, line WARNING: In /home/jstabet/miniforge3/envs/dicom/include/ITK-5.4/itkImageSeriesReader.hxx, line WARNING: In /home/jstabet/miniforge3/envs/dicom/include/ITK-5.4/itkImageSeriesReader.hxx, line WARNING: In /home/jstabet/miniforge3/envs/dicom/include/ITK-5.4/itkImageSeriesReader.hxx, line WARNING: In /home/jstabet/miniforge3/envs/dicom/include/ITK-5.4/itkImageSeriesReader.hxx, line WARNING: In /home/jstabet/miniforge3/envs/dicom/include/ITK-5.4/itkImageSeriesReader.hxx, line WARNING: In /home/jstabet/miniforge3/envs/dicom/include/ITK-5.4/itkImageSeriesReader.hxx, line WARNING: In /home/jstabet/miniforge3/envs/dicom/include/ITK-5.4/itkImageSeriesReader.hxx, line WARNING: In /home/jstabet/miniforge3/envs/dicom/include/ITK-5.4/itkImageSeriesReader.hxx, line WARNING: In /home/jstabet/miniforge3/envs/dicom/include/ITK-5.4/itkImageSeriesReader.hxx, line WARNING: In /home/jstabet/miniforge3/envs/dicom/include/ITK-5.4/itkImageSeriesReader.hxx, line WARNING: In /home/jstabet/miniforge3/envs/dicom/include/ITK-5.4/itkImageSeriesReader.hxx, line WARNING: In /home/jstabet/miniforge3/envs/dicom/include/ITK-5.4/itkImageSeriesReader.hxx, line WARNING: In /home/jstabet/miniforge3/envs/dicom/include/ITK-5.4/itkImageSeriesReader.hxx, line WARNING: In /home/jstabet/miniforge3/envs/dicom/include/ITK-5.4/itkImageSeriesReader.hxx, line "
     ]
    },
    {
     "name": "stdout",
     "output_type": "stream",
     "text": [
      "Epoch 49/100\tTrain Loss: 0.0511 | Train Acc: 0.7980\n"
     ]
    },
    {
     "name": "stderr",
     "output_type": "stream",
     "text": [
      "WARNING: In /home/jstabet/miniforge3/envs/dicom/include/ITK-5.4/itkImageSeriesReader.hxx, line WARNING: In /home/jstabet/miniforge3/envs/dicom/include/ITK-5.4/itkImageSeriesReader.hxx, line WARNING: In /home/jstabet/miniforge3/envs/dicom/include/ITK-5.4/itkImageSeriesReader.hxx, line WARNING: In /home/jstabet/miniforge3/envs/dicom/include/ITK-5.4/itkImageSeriesReader.hxx, line WARNING: In /home/jstabet/miniforge3/envs/dicom/include/ITK-5.4/itkImageSeriesReader.hxx, line WARNING: In /home/jstabet/miniforge3/envs/dicom/include/ITK-5.4/itkImageSeriesReader.hxx, line WARNING: In /home/jstabet/miniforge3/envs/dicom/include/ITK-5.4/itkImageSeriesReader.hxx, line WARNING: In /home/jstabet/miniforge3/envs/dicom/include/ITK-5.4/itkImageSeriesReader.hxx, line WARNING: In /home/jstabet/miniforge3/envs/dicom/include/ITK-5.4/itkImageSeriesReader.hxx, line WARNING: In /home/jstabet/miniforge3/envs/dicom/include/ITK-5.4/itkImageSeriesReader.hxx, line WARNING: In /home/jstabet/miniforge3/envs/dicom/include/ITK-5.4/itkImageSeriesReader.hxx, line WARNING: In /home/jstabet/miniforge3/envs/dicom/include/ITK-5.4/itkImageSeriesReader.hxx, line WARNING: In /home/jstabet/miniforge3/envs/dicom/include/ITK-5.4/itkImageSeriesReader.hxx, line WARNING: In /home/jstabet/miniforge3/envs/dicom/include/ITK-5.4/itkImageSeriesReader.hxx, line WARNING: In /home/jstabet/miniforge3/envs/dicom/include/ITK-5.4/itkImageSeriesReader.hxx, line WARNING: In /home/jstabet/miniforge3/envs/dicom/include/ITK-5.4/itkImageSeriesReader.hxx, line WARNING: In /home/jstabet/miniforge3/envs/dicom/include/ITK-5.4/itkImageSeriesReader.hxx, line WARNING: In /home/jstabet/miniforge3/envs/dicom/include/ITK-5.4/itkImageSeriesReader.hxx, line WARNING: In /home/jstabet/miniforge3/envs/dicom/include/ITK-5.4/itkImageSeriesReader.hxx, line WARNING: In /home/jstabet/miniforge3/envs/dicom/include/ITK-5.4/itkImageSeriesReader.hxx, line WARNING: In /home/jstabet/miniforge3/envs/dicom/include/ITK-5.4/itkImageSeriesReader.hxx, line WARNING: In /home/jstabet/miniforge3/envs/dicom/include/ITK-5.4/itkImageSeriesReader.hxx, line WARNING: In /home/jstabet/miniforge3/envs/dicom/include/ITK-5.4/itkImageSeriesReader.hxx, line WARNING: In /home/jstabet/miniforge3/envs/dicom/include/ITK-5.4/itkImageSeriesReader.hxx, line WARNING: In /home/jstabet/miniforge3/envs/dicom/include/ITK-5.4/itkImageSeriesReader.hxx, line "
     ]
    },
    {
     "name": "stdout",
     "output_type": "stream",
     "text": [
      "Epoch 50/100\tTrain Loss: 0.0527 | Train Acc: 0.7980\n"
     ]
    },
    {
     "name": "stderr",
     "output_type": "stream",
     "text": [
      "WARNING: In /home/jstabet/miniforge3/envs/dicom/include/ITK-5.4/itkImageSeriesReader.hxx, line WARNING: In /home/jstabet/miniforge3/envs/dicom/include/ITK-5.4/itkImageSeriesReader.hxx, line WARNING: In /home/jstabet/miniforge3/envs/dicom/include/ITK-5.4/itkImageSeriesReader.hxx, line WARNING: In /home/jstabet/miniforge3/envs/dicom/include/ITK-5.4/itkImageSeriesReader.hxx, line WARNING: In /home/jstabet/miniforge3/envs/dicom/include/ITK-5.4/itkImageSeriesReader.hxx, line WARNING: In /home/jstabet/miniforge3/envs/dicom/include/ITK-5.4/itkImageSeriesReader.hxx, line WARNING: In /home/jstabet/miniforge3/envs/dicom/include/ITK-5.4/itkImageSeriesReader.hxx, line WARNING: In /home/jstabet/miniforge3/envs/dicom/include/ITK-5.4/itkImageSeriesReader.hxx, line WARNING: In /home/jstabet/miniforge3/envs/dicom/include/ITK-5.4/itkImageSeriesReader.hxx, line WARNING: In /home/jstabet/miniforge3/envs/dicom/include/ITK-5.4/itkImageSeriesReader.hxx, line WARNING: In /home/jstabet/miniforge3/envs/dicom/include/ITK-5.4/itkImageSeriesReader.hxx, line WARNING: In /home/jstabet/miniforge3/envs/dicom/include/ITK-5.4/itkImageSeriesReader.hxx, line WARNING: In /home/jstabet/miniforge3/envs/dicom/include/ITK-5.4/itkImageSeriesReader.hxx, line WARNING: In /home/jstabet/miniforge3/envs/dicom/include/ITK-5.4/itkImageSeriesReader.hxx, line WARNING: In /home/jstabet/miniforge3/envs/dicom/include/ITK-5.4/itkImageSeriesReader.hxx, line WARNING: In /home/jstabet/miniforge3/envs/dicom/include/ITK-5.4/itkImageSeriesReader.hxx, line WARNING: In /home/jstabet/miniforge3/envs/dicom/include/ITK-5.4/itkImageSeriesReader.hxx, line WARNING: In /home/jstabet/miniforge3/envs/dicom/include/ITK-5.4/itkImageSeriesReader.hxx, line WARNING: In /home/jstabet/miniforge3/envs/dicom/include/ITK-5.4/itkImageSeriesReader.hxx, line WARNING: In /home/jstabet/miniforge3/envs/dicom/include/ITK-5.4/itkImageSeriesReader.hxx, line WARNING: In /home/jstabet/miniforge3/envs/dicom/include/ITK-5.4/itkImageSeriesReader.hxx, line WARNING: In /home/jstabet/miniforge3/envs/dicom/include/ITK-5.4/itkImageSeriesReader.hxx, line WARNING: In /home/jstabet/miniforge3/envs/dicom/include/ITK-5.4/itkImageSeriesReader.hxx, line WARNING: In /home/jstabet/miniforge3/envs/dicom/include/ITK-5.4/itkImageSeriesReader.hxx, line WARNING: In /home/jstabet/miniforge3/envs/dicom/include/ITK-5.4/itkImageSeriesReader.hxx, line "
     ]
    },
    {
     "name": "stdout",
     "output_type": "stream",
     "text": [
      "Epoch 51/100\tTrain Loss: 0.0513 | Train Acc: 0.7980\n"
     ]
    },
    {
     "name": "stderr",
     "output_type": "stream",
     "text": [
      "WARNING: In /home/jstabet/miniforge3/envs/dicom/include/ITK-5.4/itkImageSeriesReader.hxx, line WARNING: In /home/jstabet/miniforge3/envs/dicom/include/ITK-5.4/itkImageSeriesReader.hxx, line WARNING: In /home/jstabet/miniforge3/envs/dicom/include/ITK-5.4/itkImageSeriesReader.hxx, line WARNING: In /home/jstabet/miniforge3/envs/dicom/include/ITK-5.4/itkImageSeriesReader.hxx, line WARNING: In /home/jstabet/miniforge3/envs/dicom/include/ITK-5.4/itkImageSeriesReader.hxx, line WARNING: In /home/jstabet/miniforge3/envs/dicom/include/ITK-5.4/itkImageSeriesReader.hxx, line WARNING: In /home/jstabet/miniforge3/envs/dicom/include/ITK-5.4/itkImageSeriesReader.hxx, line WARNING: In /home/jstabet/miniforge3/envs/dicom/include/ITK-5.4/itkImageSeriesReader.hxx, line WARNING: In /home/jstabet/miniforge3/envs/dicom/include/ITK-5.4/itkImageSeriesReader.hxx, line WARNING: In /home/jstabet/miniforge3/envs/dicom/include/ITK-5.4/itkImageSeriesReader.hxx, line WARNING: In /home/jstabet/miniforge3/envs/dicom/include/ITK-5.4/itkImageSeriesReader.hxx, line WARNING: In /home/jstabet/miniforge3/envs/dicom/include/ITK-5.4/itkImageSeriesReader.hxx, line WARNING: In /home/jstabet/miniforge3/envs/dicom/include/ITK-5.4/itkImageSeriesReader.hxx, line WARNING: In /home/jstabet/miniforge3/envs/dicom/include/ITK-5.4/itkImageSeriesReader.hxx, line WARNING: In /home/jstabet/miniforge3/envs/dicom/include/ITK-5.4/itkImageSeriesReader.hxx, line WARNING: In /home/jstabet/miniforge3/envs/dicom/include/ITK-5.4/itkImageSeriesReader.hxx, line WARNING: In /home/jstabet/miniforge3/envs/dicom/include/ITK-5.4/itkImageSeriesReader.hxx, line WARNING: In /home/jstabet/miniforge3/envs/dicom/include/ITK-5.4/itkImageSeriesReader.hxx, line WARNING: In /home/jstabet/miniforge3/envs/dicom/include/ITK-5.4/itkImageSeriesReader.hxx, line WARNING: In /home/jstabet/miniforge3/envs/dicom/include/ITK-5.4/itkImageSeriesReader.hxx, line WARNING: In /home/jstabet/miniforge3/envs/dicom/include/ITK-5.4/itkImageSeriesReader.hxx, line WARNING: In /home/jstabet/miniforge3/envs/dicom/include/ITK-5.4/itkImageSeriesReader.hxx, line WARNING: In /home/jstabet/miniforge3/envs/dicom/include/ITK-5.4/itkImageSeriesReader.hxx, line WARNING: In /home/jstabet/miniforge3/envs/dicom/include/ITK-5.4/itkImageSeriesReader.hxx, line WARNING: In /home/jstabet/miniforge3/envs/dicom/include/ITK-5.4/itkImageSeriesReader.hxx, line "
     ]
    },
    {
     "name": "stdout",
     "output_type": "stream",
     "text": [
      "Epoch 52/100\tTrain Loss: 0.0532 | Train Acc: 0.7980\n"
     ]
    },
    {
     "name": "stderr",
     "output_type": "stream",
     "text": [
      "WARNING: In /home/jstabet/miniforge3/envs/dicom/include/ITK-5.4/itkImageSeriesReader.hxx, line WARNING: In /home/jstabet/miniforge3/envs/dicom/include/ITK-5.4/itkImageSeriesReader.hxx, line WARNING: In /home/jstabet/miniforge3/envs/dicom/include/ITK-5.4/itkImageSeriesReader.hxx, line WARNING: In /home/jstabet/miniforge3/envs/dicom/include/ITK-5.4/itkImageSeriesReader.hxx, line WARNING: In /home/jstabet/miniforge3/envs/dicom/include/ITK-5.4/itkImageSeriesReader.hxx, line WARNING: In /home/jstabet/miniforge3/envs/dicom/include/ITK-5.4/itkImageSeriesReader.hxx, line WARNING: In /home/jstabet/miniforge3/envs/dicom/include/ITK-5.4/itkImageSeriesReader.hxx, line WARNING: In /home/jstabet/miniforge3/envs/dicom/include/ITK-5.4/itkImageSeriesReader.hxx, line WARNING: In /home/jstabet/miniforge3/envs/dicom/include/ITK-5.4/itkImageSeriesReader.hxx, line WARNING: In /home/jstabet/miniforge3/envs/dicom/include/ITK-5.4/itkImageSeriesReader.hxx, line WARNING: In /home/jstabet/miniforge3/envs/dicom/include/ITK-5.4/itkImageSeriesReader.hxx, line WARNING: In /home/jstabet/miniforge3/envs/dicom/include/ITK-5.4/itkImageSeriesReader.hxx, line WARNING: In /home/jstabet/miniforge3/envs/dicom/include/ITK-5.4/itkImageSeriesReader.hxx, line WARNING: In /home/jstabet/miniforge3/envs/dicom/include/ITK-5.4/itkImageSeriesReader.hxx, line WARNING: In /home/jstabet/miniforge3/envs/dicom/include/ITK-5.4/itkImageSeriesReader.hxx, line WARNING: In /home/jstabet/miniforge3/envs/dicom/include/ITK-5.4/itkImageSeriesReader.hxx, line WARNING: In /home/jstabet/miniforge3/envs/dicom/include/ITK-5.4/itkImageSeriesReader.hxx, line WARNING: In /home/jstabet/miniforge3/envs/dicom/include/ITK-5.4/itkImageSeriesReader.hxx, line WARNING: In /home/jstabet/miniforge3/envs/dicom/include/ITK-5.4/itkImageSeriesReader.hxx, line WARNING: In /home/jstabet/miniforge3/envs/dicom/include/ITK-5.4/itkImageSeriesReader.hxx, line WARNING: In /home/jstabet/miniforge3/envs/dicom/include/ITK-5.4/itkImageSeriesReader.hxx, line WARNING: In /home/jstabet/miniforge3/envs/dicom/include/ITK-5.4/itkImageSeriesReader.hxx, line WARNING: In /home/jstabet/miniforge3/envs/dicom/include/ITK-5.4/itkImageSeriesReader.hxx, line WARNING: In /home/jstabet/miniforge3/envs/dicom/include/ITK-5.4/itkImageSeriesReader.hxx, line WARNING: In /home/jstabet/miniforge3/envs/dicom/include/ITK-5.4/itkImageSeriesReader.hxx, line "
     ]
    },
    {
     "name": "stdout",
     "output_type": "stream",
     "text": [
      "Epoch 53/100\tTrain Loss: 0.0528 | Train Acc: 0.7980\n"
     ]
    },
    {
     "name": "stderr",
     "output_type": "stream",
     "text": [
      "WARNING: In /home/jstabet/miniforge3/envs/dicom/include/ITK-5.4/itkImageSeriesReader.hxx, line WARNING: In /home/jstabet/miniforge3/envs/dicom/include/ITK-5.4/itkImageSeriesReader.hxx, line WARNING: In /home/jstabet/miniforge3/envs/dicom/include/ITK-5.4/itkImageSeriesReader.hxx, line WARNING: In /home/jstabet/miniforge3/envs/dicom/include/ITK-5.4/itkImageSeriesReader.hxx, line WARNING: In /home/jstabet/miniforge3/envs/dicom/include/ITK-5.4/itkImageSeriesReader.hxx, line WARNING: In /home/jstabet/miniforge3/envs/dicom/include/ITK-5.4/itkImageSeriesReader.hxx, line WARNING: In /home/jstabet/miniforge3/envs/dicom/include/ITK-5.4/itkImageSeriesReader.hxx, line WARNING: In /home/jstabet/miniforge3/envs/dicom/include/ITK-5.4/itkImageSeriesReader.hxx, line WARNING: In /home/jstabet/miniforge3/envs/dicom/include/ITK-5.4/itkImageSeriesReader.hxx, line WARNING: In /home/jstabet/miniforge3/envs/dicom/include/ITK-5.4/itkImageSeriesReader.hxx, line WARNING: In /home/jstabet/miniforge3/envs/dicom/include/ITK-5.4/itkImageSeriesReader.hxx, line WARNING: In /home/jstabet/miniforge3/envs/dicom/include/ITK-5.4/itkImageSeriesReader.hxx, line WARNING: In /home/jstabet/miniforge3/envs/dicom/include/ITK-5.4/itkImageSeriesReader.hxx, line WARNING: In /home/jstabet/miniforge3/envs/dicom/include/ITK-5.4/itkImageSeriesReader.hxx, line WARNING: In /home/jstabet/miniforge3/envs/dicom/include/ITK-5.4/itkImageSeriesReader.hxx, line WARNING: In /home/jstabet/miniforge3/envs/dicom/include/ITK-5.4/itkImageSeriesReader.hxx, line WARNING: In /home/jstabet/miniforge3/envs/dicom/include/ITK-5.4/itkImageSeriesReader.hxx, line WARNING: In /home/jstabet/miniforge3/envs/dicom/include/ITK-5.4/itkImageSeriesReader.hxx, line WARNING: In /home/jstabet/miniforge3/envs/dicom/include/ITK-5.4/itkImageSeriesReader.hxx, line WARNING: In /home/jstabet/miniforge3/envs/dicom/include/ITK-5.4/itkImageSeriesReader.hxx, line WARNING: In /home/jstabet/miniforge3/envs/dicom/include/ITK-5.4/itkImageSeriesReader.hxx, line WARNING: In /home/jstabet/miniforge3/envs/dicom/include/ITK-5.4/itkImageSeriesReader.hxx, line WARNING: In /home/jstabet/miniforge3/envs/dicom/include/ITK-5.4/itkImageSeriesReader.hxx, line WARNING: In /home/jstabet/miniforge3/envs/dicom/include/ITK-5.4/itkImageSeriesReader.hxx, line WARNING: In /home/jstabet/miniforge3/envs/dicom/include/ITK-5.4/itkImageSeriesReader.hxx, line "
     ]
    },
    {
     "name": "stdout",
     "output_type": "stream",
     "text": [
      "Epoch 54/100\tTrain Loss: 0.0523 | Train Acc: 0.7980\n"
     ]
    },
    {
     "name": "stderr",
     "output_type": "stream",
     "text": [
      "WARNING: In /home/jstabet/miniforge3/envs/dicom/include/ITK-5.4/itkImageSeriesReader.hxx, line WARNING: In /home/jstabet/miniforge3/envs/dicom/include/ITK-5.4/itkImageSeriesReader.hxx, line WARNING: In /home/jstabet/miniforge3/envs/dicom/include/ITK-5.4/itkImageSeriesReader.hxx, line WARNING: In /home/jstabet/miniforge3/envs/dicom/include/ITK-5.4/itkImageSeriesReader.hxx, line WARNING: In /home/jstabet/miniforge3/envs/dicom/include/ITK-5.4/itkImageSeriesReader.hxx, line WARNING: In /home/jstabet/miniforge3/envs/dicom/include/ITK-5.4/itkImageSeriesReader.hxx, line WARNING: In /home/jstabet/miniforge3/envs/dicom/include/ITK-5.4/itkImageSeriesReader.hxx, line WARNING: In /home/jstabet/miniforge3/envs/dicom/include/ITK-5.4/itkImageSeriesReader.hxx, line WARNING: In /home/jstabet/miniforge3/envs/dicom/include/ITK-5.4/itkImageSeriesReader.hxx, line WARNING: In /home/jstabet/miniforge3/envs/dicom/include/ITK-5.4/itkImageSeriesReader.hxx, line WARNING: In /home/jstabet/miniforge3/envs/dicom/include/ITK-5.4/itkImageSeriesReader.hxx, line WARNING: In /home/jstabet/miniforge3/envs/dicom/include/ITK-5.4/itkImageSeriesReader.hxx, line WARNING: In /home/jstabet/miniforge3/envs/dicom/include/ITK-5.4/itkImageSeriesReader.hxx, line WARNING: In /home/jstabet/miniforge3/envs/dicom/include/ITK-5.4/itkImageSeriesReader.hxx, line WARNING: In /home/jstabet/miniforge3/envs/dicom/include/ITK-5.4/itkImageSeriesReader.hxx, line WARNING: In /home/jstabet/miniforge3/envs/dicom/include/ITK-5.4/itkImageSeriesReader.hxx, line WARNING: In /home/jstabet/miniforge3/envs/dicom/include/ITK-5.4/itkImageSeriesReader.hxx, line WARNING: In /home/jstabet/miniforge3/envs/dicom/include/ITK-5.4/itkImageSeriesReader.hxx, line WARNING: In /home/jstabet/miniforge3/envs/dicom/include/ITK-5.4/itkImageSeriesReader.hxx, line WARNING: In /home/jstabet/miniforge3/envs/dicom/include/ITK-5.4/itkImageSeriesReader.hxx, line WARNING: In /home/jstabet/miniforge3/envs/dicom/include/ITK-5.4/itkImageSeriesReader.hxx, line WARNING: In /home/jstabet/miniforge3/envs/dicom/include/ITK-5.4/itkImageSeriesReader.hxx, line WARNING: In /home/jstabet/miniforge3/envs/dicom/include/ITK-5.4/itkImageSeriesReader.hxx, line WARNING: In /home/jstabet/miniforge3/envs/dicom/include/ITK-5.4/itkImageSeriesReader.hxx, line WARNING: In /home/jstabet/miniforge3/envs/dicom/include/ITK-5.4/itkImageSeriesReader.hxx, line "
     ]
    },
    {
     "name": "stdout",
     "output_type": "stream",
     "text": [
      "Epoch 55/100\tTrain Loss: 0.0507 | Train Acc: 0.7980\n"
     ]
    },
    {
     "name": "stderr",
     "output_type": "stream",
     "text": [
      "WARNING: In /home/jstabet/miniforge3/envs/dicom/include/ITK-5.4/itkImageSeriesReader.hxx, line WARNING: In /home/jstabet/miniforge3/envs/dicom/include/ITK-5.4/itkImageSeriesReader.hxx, line WARNING: In /home/jstabet/miniforge3/envs/dicom/include/ITK-5.4/itkImageSeriesReader.hxx, line WARNING: In /home/jstabet/miniforge3/envs/dicom/include/ITK-5.4/itkImageSeriesReader.hxx, line WARNING: In /home/jstabet/miniforge3/envs/dicom/include/ITK-5.4/itkImageSeriesReader.hxx, line WARNING: In /home/jstabet/miniforge3/envs/dicom/include/ITK-5.4/itkImageSeriesReader.hxx, line WARNING: In /home/jstabet/miniforge3/envs/dicom/include/ITK-5.4/itkImageSeriesReader.hxx, line WARNING: In /home/jstabet/miniforge3/envs/dicom/include/ITK-5.4/itkImageSeriesReader.hxx, line WARNING: In /home/jstabet/miniforge3/envs/dicom/include/ITK-5.4/itkImageSeriesReader.hxx, line WARNING: In /home/jstabet/miniforge3/envs/dicom/include/ITK-5.4/itkImageSeriesReader.hxx, line WARNING: In /home/jstabet/miniforge3/envs/dicom/include/ITK-5.4/itkImageSeriesReader.hxx, line WARNING: In /home/jstabet/miniforge3/envs/dicom/include/ITK-5.4/itkImageSeriesReader.hxx, line WARNING: In /home/jstabet/miniforge3/envs/dicom/include/ITK-5.4/itkImageSeriesReader.hxx, line WARNING: In /home/jstabet/miniforge3/envs/dicom/include/ITK-5.4/itkImageSeriesReader.hxx, line WARNING: In /home/jstabet/miniforge3/envs/dicom/include/ITK-5.4/itkImageSeriesReader.hxx, line WARNING: In /home/jstabet/miniforge3/envs/dicom/include/ITK-5.4/itkImageSeriesReader.hxx, line WARNING: In /home/jstabet/miniforge3/envs/dicom/include/ITK-5.4/itkImageSeriesReader.hxx, line WARNING: In /home/jstabet/miniforge3/envs/dicom/include/ITK-5.4/itkImageSeriesReader.hxx, line WARNING: In /home/jstabet/miniforge3/envs/dicom/include/ITK-5.4/itkImageSeriesReader.hxx, line WARNING: In /home/jstabet/miniforge3/envs/dicom/include/ITK-5.4/itkImageSeriesReader.hxx, line WARNING: In /home/jstabet/miniforge3/envs/dicom/include/ITK-5.4/itkImageSeriesReader.hxx, line WARNING: In /home/jstabet/miniforge3/envs/dicom/include/ITK-5.4/itkImageSeriesReader.hxx, line WARNING: In /home/jstabet/miniforge3/envs/dicom/include/ITK-5.4/itkImageSeriesReader.hxx, line WARNING: In /home/jstabet/miniforge3/envs/dicom/include/ITK-5.4/itkImageSeriesReader.hxx, line WARNING: In /home/jstabet/miniforge3/envs/dicom/include/ITK-5.4/itkImageSeriesReader.hxx, line "
     ]
    },
    {
     "name": "stdout",
     "output_type": "stream",
     "text": [
      "Epoch 56/100\tTrain Loss: 0.0528 | Train Acc: 0.7980\n"
     ]
    },
    {
     "name": "stderr",
     "output_type": "stream",
     "text": [
      "WARNING: In /home/jstabet/miniforge3/envs/dicom/include/ITK-5.4/itkImageSeriesReader.hxx, line WARNING: In /home/jstabet/miniforge3/envs/dicom/include/ITK-5.4/itkImageSeriesReader.hxx, line WARNING: In /home/jstabet/miniforge3/envs/dicom/include/ITK-5.4/itkImageSeriesReader.hxx, line WARNING: In /home/jstabet/miniforge3/envs/dicom/include/ITK-5.4/itkImageSeriesReader.hxx, line WARNING: In /home/jstabet/miniforge3/envs/dicom/include/ITK-5.4/itkImageSeriesReader.hxx, line WARNING: In /home/jstabet/miniforge3/envs/dicom/include/ITK-5.4/itkImageSeriesReader.hxx, line WARNING: In /home/jstabet/miniforge3/envs/dicom/include/ITK-5.4/itkImageSeriesReader.hxx, line WARNING: In /home/jstabet/miniforge3/envs/dicom/include/ITK-5.4/itkImageSeriesReader.hxx, line WARNING: In /home/jstabet/miniforge3/envs/dicom/include/ITK-5.4/itkImageSeriesReader.hxx, line WARNING: In /home/jstabet/miniforge3/envs/dicom/include/ITK-5.4/itkImageSeriesReader.hxx, line WARNING: In /home/jstabet/miniforge3/envs/dicom/include/ITK-5.4/itkImageSeriesReader.hxx, line WARNING: In /home/jstabet/miniforge3/envs/dicom/include/ITK-5.4/itkImageSeriesReader.hxx, line WARNING: In /home/jstabet/miniforge3/envs/dicom/include/ITK-5.4/itkImageSeriesReader.hxx, line WARNING: In /home/jstabet/miniforge3/envs/dicom/include/ITK-5.4/itkImageSeriesReader.hxx, line WARNING: In /home/jstabet/miniforge3/envs/dicom/include/ITK-5.4/itkImageSeriesReader.hxx, line WARNING: In /home/jstabet/miniforge3/envs/dicom/include/ITK-5.4/itkImageSeriesReader.hxx, line WARNING: In /home/jstabet/miniforge3/envs/dicom/include/ITK-5.4/itkImageSeriesReader.hxx, line WARNING: In /home/jstabet/miniforge3/envs/dicom/include/ITK-5.4/itkImageSeriesReader.hxx, line WARNING: In /home/jstabet/miniforge3/envs/dicom/include/ITK-5.4/itkImageSeriesReader.hxx, line WARNING: In /home/jstabet/miniforge3/envs/dicom/include/ITK-5.4/itkImageSeriesReader.hxx, line WARNING: In /home/jstabet/miniforge3/envs/dicom/include/ITK-5.4/itkImageSeriesReader.hxx, line WARNING: In /home/jstabet/miniforge3/envs/dicom/include/ITK-5.4/itkImageSeriesReader.hxx, line WARNING: In /home/jstabet/miniforge3/envs/dicom/include/ITK-5.4/itkImageSeriesReader.hxx, line WARNING: In /home/jstabet/miniforge3/envs/dicom/include/ITK-5.4/itkImageSeriesReader.hxx, line WARNING: In /home/jstabet/miniforge3/envs/dicom/include/ITK-5.4/itkImageSeriesReader.hxx, line "
     ]
    },
    {
     "name": "stdout",
     "output_type": "stream",
     "text": [
      "Epoch 57/100\tTrain Loss: 0.0513 | Train Acc: 0.7980\n"
     ]
    },
    {
     "name": "stderr",
     "output_type": "stream",
     "text": [
      "WARNING: In /home/jstabet/miniforge3/envs/dicom/include/ITK-5.4/itkImageSeriesReader.hxx, line WARNING: In /home/jstabet/miniforge3/envs/dicom/include/ITK-5.4/itkImageSeriesReader.hxx, line WARNING: In /home/jstabet/miniforge3/envs/dicom/include/ITK-5.4/itkImageSeriesReader.hxx, line WARNING: In /home/jstabet/miniforge3/envs/dicom/include/ITK-5.4/itkImageSeriesReader.hxx, line WARNING: In /home/jstabet/miniforge3/envs/dicom/include/ITK-5.4/itkImageSeriesReader.hxx, line WARNING: In /home/jstabet/miniforge3/envs/dicom/include/ITK-5.4/itkImageSeriesReader.hxx, line WARNING: In /home/jstabet/miniforge3/envs/dicom/include/ITK-5.4/itkImageSeriesReader.hxx, line WARNING: In /home/jstabet/miniforge3/envs/dicom/include/ITK-5.4/itkImageSeriesReader.hxx, line WARNING: In /home/jstabet/miniforge3/envs/dicom/include/ITK-5.4/itkImageSeriesReader.hxx, line WARNING: In /home/jstabet/miniforge3/envs/dicom/include/ITK-5.4/itkImageSeriesReader.hxx, line WARNING: In /home/jstabet/miniforge3/envs/dicom/include/ITK-5.4/itkImageSeriesReader.hxx, line WARNING: In /home/jstabet/miniforge3/envs/dicom/include/ITK-5.4/itkImageSeriesReader.hxx, line WARNING: In /home/jstabet/miniforge3/envs/dicom/include/ITK-5.4/itkImageSeriesReader.hxx, line WARNING: In /home/jstabet/miniforge3/envs/dicom/include/ITK-5.4/itkImageSeriesReader.hxx, line WARNING: In /home/jstabet/miniforge3/envs/dicom/include/ITK-5.4/itkImageSeriesReader.hxx, line WARNING: In /home/jstabet/miniforge3/envs/dicom/include/ITK-5.4/itkImageSeriesReader.hxx, line WARNING: In /home/jstabet/miniforge3/envs/dicom/include/ITK-5.4/itkImageSeriesReader.hxx, line WARNING: In /home/jstabet/miniforge3/envs/dicom/include/ITK-5.4/itkImageSeriesReader.hxx, line WARNING: In /home/jstabet/miniforge3/envs/dicom/include/ITK-5.4/itkImageSeriesReader.hxx, line WARNING: In /home/jstabet/miniforge3/envs/dicom/include/ITK-5.4/itkImageSeriesReader.hxx, line WARNING: In /home/jstabet/miniforge3/envs/dicom/include/ITK-5.4/itkImageSeriesReader.hxx, line WARNING: In /home/jstabet/miniforge3/envs/dicom/include/ITK-5.4/itkImageSeriesReader.hxx, line WARNING: In /home/jstabet/miniforge3/envs/dicom/include/ITK-5.4/itkImageSeriesReader.hxx, line WARNING: In /home/jstabet/miniforge3/envs/dicom/include/ITK-5.4/itkImageSeriesReader.hxx, line WARNING: In /home/jstabet/miniforge3/envs/dicom/include/ITK-5.4/itkImageSeriesReader.hxx, line "
     ]
    },
    {
     "name": "stdout",
     "output_type": "stream",
     "text": [
      "Epoch 58/100\tTrain Loss: 0.0510 | Train Acc: 0.7980\n"
     ]
    },
    {
     "name": "stderr",
     "output_type": "stream",
     "text": [
      "WARNING: In /home/jstabet/miniforge3/envs/dicom/include/ITK-5.4/itkImageSeriesReader.hxx, line WARNING: In /home/jstabet/miniforge3/envs/dicom/include/ITK-5.4/itkImageSeriesReader.hxx, line WARNING: In /home/jstabet/miniforge3/envs/dicom/include/ITK-5.4/itkImageSeriesReader.hxx, line WARNING: In /home/jstabet/miniforge3/envs/dicom/include/ITK-5.4/itkImageSeriesReader.hxx, line WARNING: In /home/jstabet/miniforge3/envs/dicom/include/ITK-5.4/itkImageSeriesReader.hxx, line WARNING: In /home/jstabet/miniforge3/envs/dicom/include/ITK-5.4/itkImageSeriesReader.hxx, line WARNING: In /home/jstabet/miniforge3/envs/dicom/include/ITK-5.4/itkImageSeriesReader.hxx, line WARNING: In /home/jstabet/miniforge3/envs/dicom/include/ITK-5.4/itkImageSeriesReader.hxx, line WARNING: In /home/jstabet/miniforge3/envs/dicom/include/ITK-5.4/itkImageSeriesReader.hxx, line WARNING: In /home/jstabet/miniforge3/envs/dicom/include/ITK-5.4/itkImageSeriesReader.hxx, line WARNING: In /home/jstabet/miniforge3/envs/dicom/include/ITK-5.4/itkImageSeriesReader.hxx, line WARNING: In /home/jstabet/miniforge3/envs/dicom/include/ITK-5.4/itkImageSeriesReader.hxx, line WARNING: In /home/jstabet/miniforge3/envs/dicom/include/ITK-5.4/itkImageSeriesReader.hxx, line WARNING: In /home/jstabet/miniforge3/envs/dicom/include/ITK-5.4/itkImageSeriesReader.hxx, line WARNING: In /home/jstabet/miniforge3/envs/dicom/include/ITK-5.4/itkImageSeriesReader.hxx, line WARNING: In /home/jstabet/miniforge3/envs/dicom/include/ITK-5.4/itkImageSeriesReader.hxx, line WARNING: In /home/jstabet/miniforge3/envs/dicom/include/ITK-5.4/itkImageSeriesReader.hxx, line WARNING: In /home/jstabet/miniforge3/envs/dicom/include/ITK-5.4/itkImageSeriesReader.hxx, line WARNING: In /home/jstabet/miniforge3/envs/dicom/include/ITK-5.4/itkImageSeriesReader.hxx, line WARNING: In /home/jstabet/miniforge3/envs/dicom/include/ITK-5.4/itkImageSeriesReader.hxx, line WARNING: In /home/jstabet/miniforge3/envs/dicom/include/ITK-5.4/itkImageSeriesReader.hxx, line WARNING: In /home/jstabet/miniforge3/envs/dicom/include/ITK-5.4/itkImageSeriesReader.hxx, line WARNING: In /home/jstabet/miniforge3/envs/dicom/include/ITK-5.4/itkImageSeriesReader.hxx, line WARNING: In /home/jstabet/miniforge3/envs/dicom/include/ITK-5.4/itkImageSeriesReader.hxx, line WARNING: In /home/jstabet/miniforge3/envs/dicom/include/ITK-5.4/itkImageSeriesReader.hxx, line "
     ]
    },
    {
     "name": "stdout",
     "output_type": "stream",
     "text": [
      "Epoch 59/100\tTrain Loss: 0.0527 | Train Acc: 0.7980\n"
     ]
    },
    {
     "name": "stderr",
     "output_type": "stream",
     "text": [
      "WARNING: In /home/jstabet/miniforge3/envs/dicom/include/ITK-5.4/itkImageSeriesReader.hxx, line WARNING: In /home/jstabet/miniforge3/envs/dicom/include/ITK-5.4/itkImageSeriesReader.hxx, line WARNING: In /home/jstabet/miniforge3/envs/dicom/include/ITK-5.4/itkImageSeriesReader.hxx, line WARNING: In /home/jstabet/miniforge3/envs/dicom/include/ITK-5.4/itkImageSeriesReader.hxx, line WARNING: In /home/jstabet/miniforge3/envs/dicom/include/ITK-5.4/itkImageSeriesReader.hxx, line WARNING: In /home/jstabet/miniforge3/envs/dicom/include/ITK-5.4/itkImageSeriesReader.hxx, line WARNING: In /home/jstabet/miniforge3/envs/dicom/include/ITK-5.4/itkImageSeriesReader.hxx, line WARNING: In /home/jstabet/miniforge3/envs/dicom/include/ITK-5.4/itkImageSeriesReader.hxx, line WARNING: In /home/jstabet/miniforge3/envs/dicom/include/ITK-5.4/itkImageSeriesReader.hxx, line WARNING: In /home/jstabet/miniforge3/envs/dicom/include/ITK-5.4/itkImageSeriesReader.hxx, line WARNING: In /home/jstabet/miniforge3/envs/dicom/include/ITK-5.4/itkImageSeriesReader.hxx, line WARNING: In /home/jstabet/miniforge3/envs/dicom/include/ITK-5.4/itkImageSeriesReader.hxx, line WARNING: In /home/jstabet/miniforge3/envs/dicom/include/ITK-5.4/itkImageSeriesReader.hxx, line WARNING: In /home/jstabet/miniforge3/envs/dicom/include/ITK-5.4/itkImageSeriesReader.hxx, line WARNING: In /home/jstabet/miniforge3/envs/dicom/include/ITK-5.4/itkImageSeriesReader.hxx, line WARNING: In /home/jstabet/miniforge3/envs/dicom/include/ITK-5.4/itkImageSeriesReader.hxx, line WARNING: In /home/jstabet/miniforge3/envs/dicom/include/ITK-5.4/itkImageSeriesReader.hxx, line WARNING: In /home/jstabet/miniforge3/envs/dicom/include/ITK-5.4/itkImageSeriesReader.hxx, line WARNING: In /home/jstabet/miniforge3/envs/dicom/include/ITK-5.4/itkImageSeriesReader.hxx, line WARNING: In /home/jstabet/miniforge3/envs/dicom/include/ITK-5.4/itkImageSeriesReader.hxx, line WARNING: In /home/jstabet/miniforge3/envs/dicom/include/ITK-5.4/itkImageSeriesReader.hxx, line WARNING: In /home/jstabet/miniforge3/envs/dicom/include/ITK-5.4/itkImageSeriesReader.hxx, line WARNING: In /home/jstabet/miniforge3/envs/dicom/include/ITK-5.4/itkImageSeriesReader.hxx, line WARNING: In /home/jstabet/miniforge3/envs/dicom/include/ITK-5.4/itkImageSeriesReader.hxx, line WARNING: In /home/jstabet/miniforge3/envs/dicom/include/ITK-5.4/itkImageSeriesReader.hxx, line "
     ]
    },
    {
     "name": "stdout",
     "output_type": "stream",
     "text": [
      "Epoch 60/100\tTrain Loss: 0.0531 | Train Acc: 0.7980\n"
     ]
    },
    {
     "name": "stderr",
     "output_type": "stream",
     "text": [
      "WARNING: In /home/jstabet/miniforge3/envs/dicom/include/ITK-5.4/itkImageSeriesReader.hxx, line WARNING: In /home/jstabet/miniforge3/envs/dicom/include/ITK-5.4/itkImageSeriesReader.hxx, line WARNING: In /home/jstabet/miniforge3/envs/dicom/include/ITK-5.4/itkImageSeriesReader.hxx, line WARNING: In /home/jstabet/miniforge3/envs/dicom/include/ITK-5.4/itkImageSeriesReader.hxx, line WARNING: In /home/jstabet/miniforge3/envs/dicom/include/ITK-5.4/itkImageSeriesReader.hxx, line WARNING: In /home/jstabet/miniforge3/envs/dicom/include/ITK-5.4/itkImageSeriesReader.hxx, line WARNING: In /home/jstabet/miniforge3/envs/dicom/include/ITK-5.4/itkImageSeriesReader.hxx, line WARNING: In /home/jstabet/miniforge3/envs/dicom/include/ITK-5.4/itkImageSeriesReader.hxx, line WARNING: In /home/jstabet/miniforge3/envs/dicom/include/ITK-5.4/itkImageSeriesReader.hxx, line WARNING: In /home/jstabet/miniforge3/envs/dicom/include/ITK-5.4/itkImageSeriesReader.hxx, line WARNING: In /home/jstabet/miniforge3/envs/dicom/include/ITK-5.4/itkImageSeriesReader.hxx, line WARNING: In /home/jstabet/miniforge3/envs/dicom/include/ITK-5.4/itkImageSeriesReader.hxx, line WARNING: In /home/jstabet/miniforge3/envs/dicom/include/ITK-5.4/itkImageSeriesReader.hxx, line WARNING: In /home/jstabet/miniforge3/envs/dicom/include/ITK-5.4/itkImageSeriesReader.hxx, line WARNING: In /home/jstabet/miniforge3/envs/dicom/include/ITK-5.4/itkImageSeriesReader.hxx, line WARNING: In /home/jstabet/miniforge3/envs/dicom/include/ITK-5.4/itkImageSeriesReader.hxx, line WARNING: In /home/jstabet/miniforge3/envs/dicom/include/ITK-5.4/itkImageSeriesReader.hxx, line WARNING: In /home/jstabet/miniforge3/envs/dicom/include/ITK-5.4/itkImageSeriesReader.hxx, line WARNING: In /home/jstabet/miniforge3/envs/dicom/include/ITK-5.4/itkImageSeriesReader.hxx, line WARNING: In /home/jstabet/miniforge3/envs/dicom/include/ITK-5.4/itkImageSeriesReader.hxx, line WARNING: In /home/jstabet/miniforge3/envs/dicom/include/ITK-5.4/itkImageSeriesReader.hxx, line WARNING: In /home/jstabet/miniforge3/envs/dicom/include/ITK-5.4/itkImageSeriesReader.hxx, line WARNING: In /home/jstabet/miniforge3/envs/dicom/include/ITK-5.4/itkImageSeriesReader.hxx, line WARNING: In /home/jstabet/miniforge3/envs/dicom/include/ITK-5.4/itkImageSeriesReader.hxx, line WARNING: In /home/jstabet/miniforge3/envs/dicom/include/ITK-5.4/itkImageSeriesReader.hxx, line "
     ]
    },
    {
     "name": "stdout",
     "output_type": "stream",
     "text": [
      "Epoch 61/100\tTrain Loss: 0.0508 | Train Acc: 0.7980\n"
     ]
    },
    {
     "name": "stderr",
     "output_type": "stream",
     "text": [
      "WARNING: In /home/jstabet/miniforge3/envs/dicom/include/ITK-5.4/itkImageSeriesReader.hxx, line WARNING: In /home/jstabet/miniforge3/envs/dicom/include/ITK-5.4/itkImageSeriesReader.hxx, line WARNING: In /home/jstabet/miniforge3/envs/dicom/include/ITK-5.4/itkImageSeriesReader.hxx, line WARNING: In /home/jstabet/miniforge3/envs/dicom/include/ITK-5.4/itkImageSeriesReader.hxx, line WARNING: In /home/jstabet/miniforge3/envs/dicom/include/ITK-5.4/itkImageSeriesReader.hxx, line WARNING: In /home/jstabet/miniforge3/envs/dicom/include/ITK-5.4/itkImageSeriesReader.hxx, line WARNING: In /home/jstabet/miniforge3/envs/dicom/include/ITK-5.4/itkImageSeriesReader.hxx, line WARNING: In /home/jstabet/miniforge3/envs/dicom/include/ITK-5.4/itkImageSeriesReader.hxx, line WARNING: In /home/jstabet/miniforge3/envs/dicom/include/ITK-5.4/itkImageSeriesReader.hxx, line WARNING: In /home/jstabet/miniforge3/envs/dicom/include/ITK-5.4/itkImageSeriesReader.hxx, line WARNING: In /home/jstabet/miniforge3/envs/dicom/include/ITK-5.4/itkImageSeriesReader.hxx, line WARNING: In /home/jstabet/miniforge3/envs/dicom/include/ITK-5.4/itkImageSeriesReader.hxx, line WARNING: In /home/jstabet/miniforge3/envs/dicom/include/ITK-5.4/itkImageSeriesReader.hxx, line WARNING: In /home/jstabet/miniforge3/envs/dicom/include/ITK-5.4/itkImageSeriesReader.hxx, line WARNING: In /home/jstabet/miniforge3/envs/dicom/include/ITK-5.4/itkImageSeriesReader.hxx, line WARNING: In /home/jstabet/miniforge3/envs/dicom/include/ITK-5.4/itkImageSeriesReader.hxx, line WARNING: In /home/jstabet/miniforge3/envs/dicom/include/ITK-5.4/itkImageSeriesReader.hxx, line WARNING: In /home/jstabet/miniforge3/envs/dicom/include/ITK-5.4/itkImageSeriesReader.hxx, line WARNING: In /home/jstabet/miniforge3/envs/dicom/include/ITK-5.4/itkImageSeriesReader.hxx, line WARNING: In /home/jstabet/miniforge3/envs/dicom/include/ITK-5.4/itkImageSeriesReader.hxx, line WARNING: In /home/jstabet/miniforge3/envs/dicom/include/ITK-5.4/itkImageSeriesReader.hxx, line WARNING: In /home/jstabet/miniforge3/envs/dicom/include/ITK-5.4/itkImageSeriesReader.hxx, line WARNING: In /home/jstabet/miniforge3/envs/dicom/include/ITK-5.4/itkImageSeriesReader.hxx, line WARNING: In /home/jstabet/miniforge3/envs/dicom/include/ITK-5.4/itkImageSeriesReader.hxx, line WARNING: In /home/jstabet/miniforge3/envs/dicom/include/ITK-5.4/itkImageSeriesReader.hxx, line "
     ]
    },
    {
     "name": "stdout",
     "output_type": "stream",
     "text": [
      "Epoch 62/100\tTrain Loss: 0.0528 | Train Acc: 0.7980\n"
     ]
    },
    {
     "name": "stderr",
     "output_type": "stream",
     "text": [
      "WARNING: In /home/jstabet/miniforge3/envs/dicom/include/ITK-5.4/itkImageSeriesReader.hxx, line WARNING: In /home/jstabet/miniforge3/envs/dicom/include/ITK-5.4/itkImageSeriesReader.hxx, line WARNING: In /home/jstabet/miniforge3/envs/dicom/include/ITK-5.4/itkImageSeriesReader.hxx, line WARNING: In /home/jstabet/miniforge3/envs/dicom/include/ITK-5.4/itkImageSeriesReader.hxx, line WARNING: In /home/jstabet/miniforge3/envs/dicom/include/ITK-5.4/itkImageSeriesReader.hxx, line WARNING: In /home/jstabet/miniforge3/envs/dicom/include/ITK-5.4/itkImageSeriesReader.hxx, line WARNING: In /home/jstabet/miniforge3/envs/dicom/include/ITK-5.4/itkImageSeriesReader.hxx, line WARNING: In /home/jstabet/miniforge3/envs/dicom/include/ITK-5.4/itkImageSeriesReader.hxx, line WARNING: In /home/jstabet/miniforge3/envs/dicom/include/ITK-5.4/itkImageSeriesReader.hxx, line WARNING: In /home/jstabet/miniforge3/envs/dicom/include/ITK-5.4/itkImageSeriesReader.hxx, line WARNING: In /home/jstabet/miniforge3/envs/dicom/include/ITK-5.4/itkImageSeriesReader.hxx, line WARNING: In /home/jstabet/miniforge3/envs/dicom/include/ITK-5.4/itkImageSeriesReader.hxx, line WARNING: In /home/jstabet/miniforge3/envs/dicom/include/ITK-5.4/itkImageSeriesReader.hxx, line WARNING: In /home/jstabet/miniforge3/envs/dicom/include/ITK-5.4/itkImageSeriesReader.hxx, line WARNING: In /home/jstabet/miniforge3/envs/dicom/include/ITK-5.4/itkImageSeriesReader.hxx, line WARNING: In /home/jstabet/miniforge3/envs/dicom/include/ITK-5.4/itkImageSeriesReader.hxx, line WARNING: In /home/jstabet/miniforge3/envs/dicom/include/ITK-5.4/itkImageSeriesReader.hxx, line WARNING: In /home/jstabet/miniforge3/envs/dicom/include/ITK-5.4/itkImageSeriesReader.hxx, line WARNING: In /home/jstabet/miniforge3/envs/dicom/include/ITK-5.4/itkImageSeriesReader.hxx, line WARNING: In /home/jstabet/miniforge3/envs/dicom/include/ITK-5.4/itkImageSeriesReader.hxx, line WARNING: In /home/jstabet/miniforge3/envs/dicom/include/ITK-5.4/itkImageSeriesReader.hxx, line WARNING: In /home/jstabet/miniforge3/envs/dicom/include/ITK-5.4/itkImageSeriesReader.hxx, line WARNING: In /home/jstabet/miniforge3/envs/dicom/include/ITK-5.4/itkImageSeriesReader.hxx, line WARNING: In /home/jstabet/miniforge3/envs/dicom/include/ITK-5.4/itkImageSeriesReader.hxx, line WARNING: In /home/jstabet/miniforge3/envs/dicom/include/ITK-5.4/itkImageSeriesReader.hxx, line "
     ]
    },
    {
     "name": "stdout",
     "output_type": "stream",
     "text": [
      "Epoch 63/100\tTrain Loss: 0.0513 | Train Acc: 0.7980\n"
     ]
    },
    {
     "name": "stderr",
     "output_type": "stream",
     "text": [
      "WARNING: In /home/jstabet/miniforge3/envs/dicom/include/ITK-5.4/itkImageSeriesReader.hxx, line WARNING: In /home/jstabet/miniforge3/envs/dicom/include/ITK-5.4/itkImageSeriesReader.hxx, line WARNING: In /home/jstabet/miniforge3/envs/dicom/include/ITK-5.4/itkImageSeriesReader.hxx, line WARNING: In /home/jstabet/miniforge3/envs/dicom/include/ITK-5.4/itkImageSeriesReader.hxx, line WARNING: In /home/jstabet/miniforge3/envs/dicom/include/ITK-5.4/itkImageSeriesReader.hxx, line WARNING: In /home/jstabet/miniforge3/envs/dicom/include/ITK-5.4/itkImageSeriesReader.hxx, line WARNING: In /home/jstabet/miniforge3/envs/dicom/include/ITK-5.4/itkImageSeriesReader.hxx, line WARNING: In /home/jstabet/miniforge3/envs/dicom/include/ITK-5.4/itkImageSeriesReader.hxx, line WARNING: In /home/jstabet/miniforge3/envs/dicom/include/ITK-5.4/itkImageSeriesReader.hxx, line WARNING: In /home/jstabet/miniforge3/envs/dicom/include/ITK-5.4/itkImageSeriesReader.hxx, line WARNING: In /home/jstabet/miniforge3/envs/dicom/include/ITK-5.4/itkImageSeriesReader.hxx, line WARNING: In /home/jstabet/miniforge3/envs/dicom/include/ITK-5.4/itkImageSeriesReader.hxx, line WARNING: In /home/jstabet/miniforge3/envs/dicom/include/ITK-5.4/itkImageSeriesReader.hxx, line WARNING: In /home/jstabet/miniforge3/envs/dicom/include/ITK-5.4/itkImageSeriesReader.hxx, line WARNING: In /home/jstabet/miniforge3/envs/dicom/include/ITK-5.4/itkImageSeriesReader.hxx, line WARNING: In /home/jstabet/miniforge3/envs/dicom/include/ITK-5.4/itkImageSeriesReader.hxx, line WARNING: In /home/jstabet/miniforge3/envs/dicom/include/ITK-5.4/itkImageSeriesReader.hxx, line WARNING: In /home/jstabet/miniforge3/envs/dicom/include/ITK-5.4/itkImageSeriesReader.hxx, line WARNING: In /home/jstabet/miniforge3/envs/dicom/include/ITK-5.4/itkImageSeriesReader.hxx, line WARNING: In /home/jstabet/miniforge3/envs/dicom/include/ITK-5.4/itkImageSeriesReader.hxx, line WARNING: In /home/jstabet/miniforge3/envs/dicom/include/ITK-5.4/itkImageSeriesReader.hxx, line WARNING: In /home/jstabet/miniforge3/envs/dicom/include/ITK-5.4/itkImageSeriesReader.hxx, line WARNING: In /home/jstabet/miniforge3/envs/dicom/include/ITK-5.4/itkImageSeriesReader.hxx, line WARNING: In /home/jstabet/miniforge3/envs/dicom/include/ITK-5.4/itkImageSeriesReader.hxx, line WARNING: In /home/jstabet/miniforge3/envs/dicom/include/ITK-5.4/itkImageSeriesReader.hxx, line "
     ]
    },
    {
     "name": "stdout",
     "output_type": "stream",
     "text": [
      "Epoch 64/100\tTrain Loss: 0.0514 | Train Acc: 0.7980\n"
     ]
    },
    {
     "name": "stderr",
     "output_type": "stream",
     "text": [
      "WARNING: In /home/jstabet/miniforge3/envs/dicom/include/ITK-5.4/itkImageSeriesReader.hxx, line WARNING: In /home/jstabet/miniforge3/envs/dicom/include/ITK-5.4/itkImageSeriesReader.hxx, line WARNING: In /home/jstabet/miniforge3/envs/dicom/include/ITK-5.4/itkImageSeriesReader.hxx, line WARNING: In /home/jstabet/miniforge3/envs/dicom/include/ITK-5.4/itkImageSeriesReader.hxx, line WARNING: In /home/jstabet/miniforge3/envs/dicom/include/ITK-5.4/itkImageSeriesReader.hxx, line WARNING: In /home/jstabet/miniforge3/envs/dicom/include/ITK-5.4/itkImageSeriesReader.hxx, line WARNING: In /home/jstabet/miniforge3/envs/dicom/include/ITK-5.4/itkImageSeriesReader.hxx, line WARNING: In /home/jstabet/miniforge3/envs/dicom/include/ITK-5.4/itkImageSeriesReader.hxx, line WARNING: In /home/jstabet/miniforge3/envs/dicom/include/ITK-5.4/itkImageSeriesReader.hxx, line WARNING: In /home/jstabet/miniforge3/envs/dicom/include/ITK-5.4/itkImageSeriesReader.hxx, line WARNING: In /home/jstabet/miniforge3/envs/dicom/include/ITK-5.4/itkImageSeriesReader.hxx, line WARNING: In /home/jstabet/miniforge3/envs/dicom/include/ITK-5.4/itkImageSeriesReader.hxx, line WARNING: In /home/jstabet/miniforge3/envs/dicom/include/ITK-5.4/itkImageSeriesReader.hxx, line WARNING: In /home/jstabet/miniforge3/envs/dicom/include/ITK-5.4/itkImageSeriesReader.hxx, line WARNING: In /home/jstabet/miniforge3/envs/dicom/include/ITK-5.4/itkImageSeriesReader.hxx, line WARNING: In /home/jstabet/miniforge3/envs/dicom/include/ITK-5.4/itkImageSeriesReader.hxx, line WARNING: In /home/jstabet/miniforge3/envs/dicom/include/ITK-5.4/itkImageSeriesReader.hxx, line WARNING: In /home/jstabet/miniforge3/envs/dicom/include/ITK-5.4/itkImageSeriesReader.hxx, line WARNING: In /home/jstabet/miniforge3/envs/dicom/include/ITK-5.4/itkImageSeriesReader.hxx, line WARNING: In /home/jstabet/miniforge3/envs/dicom/include/ITK-5.4/itkImageSeriesReader.hxx, line WARNING: In /home/jstabet/miniforge3/envs/dicom/include/ITK-5.4/itkImageSeriesReader.hxx, line WARNING: In /home/jstabet/miniforge3/envs/dicom/include/ITK-5.4/itkImageSeriesReader.hxx, line WARNING: In /home/jstabet/miniforge3/envs/dicom/include/ITK-5.4/itkImageSeriesReader.hxx, line WARNING: In /home/jstabet/miniforge3/envs/dicom/include/ITK-5.4/itkImageSeriesReader.hxx, line WARNING: In /home/jstabet/miniforge3/envs/dicom/include/ITK-5.4/itkImageSeriesReader.hxx, line "
     ]
    },
    {
     "name": "stdout",
     "output_type": "stream",
     "text": [
      "Epoch 65/100\tTrain Loss: 0.0528 | Train Acc: 0.7980\n"
     ]
    },
    {
     "name": "stderr",
     "output_type": "stream",
     "text": [
      "WARNING: In /home/jstabet/miniforge3/envs/dicom/include/ITK-5.4/itkImageSeriesReader.hxx, line WARNING: In /home/jstabet/miniforge3/envs/dicom/include/ITK-5.4/itkImageSeriesReader.hxx, line WARNING: In /home/jstabet/miniforge3/envs/dicom/include/ITK-5.4/itkImageSeriesReader.hxx, line WARNING: In /home/jstabet/miniforge3/envs/dicom/include/ITK-5.4/itkImageSeriesReader.hxx, line WARNING: In /home/jstabet/miniforge3/envs/dicom/include/ITK-5.4/itkImageSeriesReader.hxx, line WARNING: In /home/jstabet/miniforge3/envs/dicom/include/ITK-5.4/itkImageSeriesReader.hxx, line WARNING: In /home/jstabet/miniforge3/envs/dicom/include/ITK-5.4/itkImageSeriesReader.hxx, line WARNING: In /home/jstabet/miniforge3/envs/dicom/include/ITK-5.4/itkImageSeriesReader.hxx, line WARNING: In /home/jstabet/miniforge3/envs/dicom/include/ITK-5.4/itkImageSeriesReader.hxx, line WARNING: In /home/jstabet/miniforge3/envs/dicom/include/ITK-5.4/itkImageSeriesReader.hxx, line WARNING: In /home/jstabet/miniforge3/envs/dicom/include/ITK-5.4/itkImageSeriesReader.hxx, line WARNING: In /home/jstabet/miniforge3/envs/dicom/include/ITK-5.4/itkImageSeriesReader.hxx, line WARNING: In /home/jstabet/miniforge3/envs/dicom/include/ITK-5.4/itkImageSeriesReader.hxx, line WARNING: In /home/jstabet/miniforge3/envs/dicom/include/ITK-5.4/itkImageSeriesReader.hxx, line WARNING: In /home/jstabet/miniforge3/envs/dicom/include/ITK-5.4/itkImageSeriesReader.hxx, line WARNING: In /home/jstabet/miniforge3/envs/dicom/include/ITK-5.4/itkImageSeriesReader.hxx, line WARNING: In /home/jstabet/miniforge3/envs/dicom/include/ITK-5.4/itkImageSeriesReader.hxx, line WARNING: In /home/jstabet/miniforge3/envs/dicom/include/ITK-5.4/itkImageSeriesReader.hxx, line WARNING: In /home/jstabet/miniforge3/envs/dicom/include/ITK-5.4/itkImageSeriesReader.hxx, line WARNING: In /home/jstabet/miniforge3/envs/dicom/include/ITK-5.4/itkImageSeriesReader.hxx, line WARNING: In /home/jstabet/miniforge3/envs/dicom/include/ITK-5.4/itkImageSeriesReader.hxx, line WARNING: In /home/jstabet/miniforge3/envs/dicom/include/ITK-5.4/itkImageSeriesReader.hxx, line WARNING: In /home/jstabet/miniforge3/envs/dicom/include/ITK-5.4/itkImageSeriesReader.hxx, line WARNING: In /home/jstabet/miniforge3/envs/dicom/include/ITK-5.4/itkImageSeriesReader.hxx, line WARNING: In /home/jstabet/miniforge3/envs/dicom/include/ITK-5.4/itkImageSeriesReader.hxx, line "
     ]
    },
    {
     "name": "stdout",
     "output_type": "stream",
     "text": [
      "Epoch 66/100\tTrain Loss: 0.0517 | Train Acc: 0.7980\n"
     ]
    },
    {
     "name": "stderr",
     "output_type": "stream",
     "text": [
      "WARNING: In /home/jstabet/miniforge3/envs/dicom/include/ITK-5.4/itkImageSeriesReader.hxx, line WARNING: In /home/jstabet/miniforge3/envs/dicom/include/ITK-5.4/itkImageSeriesReader.hxx, line WARNING: In /home/jstabet/miniforge3/envs/dicom/include/ITK-5.4/itkImageSeriesReader.hxx, line WARNING: In /home/jstabet/miniforge3/envs/dicom/include/ITK-5.4/itkImageSeriesReader.hxx, line WARNING: In /home/jstabet/miniforge3/envs/dicom/include/ITK-5.4/itkImageSeriesReader.hxx, line WARNING: In /home/jstabet/miniforge3/envs/dicom/include/ITK-5.4/itkImageSeriesReader.hxx, line WARNING: In /home/jstabet/miniforge3/envs/dicom/include/ITK-5.4/itkImageSeriesReader.hxx, line WARNING: In /home/jstabet/miniforge3/envs/dicom/include/ITK-5.4/itkImageSeriesReader.hxx, line WARNING: In /home/jstabet/miniforge3/envs/dicom/include/ITK-5.4/itkImageSeriesReader.hxx, line WARNING: In /home/jstabet/miniforge3/envs/dicom/include/ITK-5.4/itkImageSeriesReader.hxx, line WARNING: In /home/jstabet/miniforge3/envs/dicom/include/ITK-5.4/itkImageSeriesReader.hxx, line WARNING: In /home/jstabet/miniforge3/envs/dicom/include/ITK-5.4/itkImageSeriesReader.hxx, line WARNING: In /home/jstabet/miniforge3/envs/dicom/include/ITK-5.4/itkImageSeriesReader.hxx, line WARNING: In /home/jstabet/miniforge3/envs/dicom/include/ITK-5.4/itkImageSeriesReader.hxx, line WARNING: In /home/jstabet/miniforge3/envs/dicom/include/ITK-5.4/itkImageSeriesReader.hxx, line WARNING: In /home/jstabet/miniforge3/envs/dicom/include/ITK-5.4/itkImageSeriesReader.hxx, line WARNING: In /home/jstabet/miniforge3/envs/dicom/include/ITK-5.4/itkImageSeriesReader.hxx, line WARNING: In /home/jstabet/miniforge3/envs/dicom/include/ITK-5.4/itkImageSeriesReader.hxx, line WARNING: In /home/jstabet/miniforge3/envs/dicom/include/ITK-5.4/itkImageSeriesReader.hxx, line WARNING: In /home/jstabet/miniforge3/envs/dicom/include/ITK-5.4/itkImageSeriesReader.hxx, line WARNING: In /home/jstabet/miniforge3/envs/dicom/include/ITK-5.4/itkImageSeriesReader.hxx, line WARNING: In /home/jstabet/miniforge3/envs/dicom/include/ITK-5.4/itkImageSeriesReader.hxx, line WARNING: In /home/jstabet/miniforge3/envs/dicom/include/ITK-5.4/itkImageSeriesReader.hxx, line WARNING: In /home/jstabet/miniforge3/envs/dicom/include/ITK-5.4/itkImageSeriesReader.hxx, line WARNING: In /home/jstabet/miniforge3/envs/dicom/include/ITK-5.4/itkImageSeriesReader.hxx, line "
     ]
    },
    {
     "name": "stdout",
     "output_type": "stream",
     "text": [
      "Epoch 67/100\tTrain Loss: 0.0510 | Train Acc: 0.7980\n"
     ]
    },
    {
     "name": "stderr",
     "output_type": "stream",
     "text": [
      "WARNING: In /home/jstabet/miniforge3/envs/dicom/include/ITK-5.4/itkImageSeriesReader.hxx, line WARNING: In /home/jstabet/miniforge3/envs/dicom/include/ITK-5.4/itkImageSeriesReader.hxx, line WARNING: In /home/jstabet/miniforge3/envs/dicom/include/ITK-5.4/itkImageSeriesReader.hxx, line WARNING: In /home/jstabet/miniforge3/envs/dicom/include/ITK-5.4/itkImageSeriesReader.hxx, line WARNING: In /home/jstabet/miniforge3/envs/dicom/include/ITK-5.4/itkImageSeriesReader.hxx, line WARNING: In /home/jstabet/miniforge3/envs/dicom/include/ITK-5.4/itkImageSeriesReader.hxx, line WARNING: In /home/jstabet/miniforge3/envs/dicom/include/ITK-5.4/itkImageSeriesReader.hxx, line WARNING: In /home/jstabet/miniforge3/envs/dicom/include/ITK-5.4/itkImageSeriesReader.hxx, line WARNING: In /home/jstabet/miniforge3/envs/dicom/include/ITK-5.4/itkImageSeriesReader.hxx, line WARNING: In /home/jstabet/miniforge3/envs/dicom/include/ITK-5.4/itkImageSeriesReader.hxx, line WARNING: In /home/jstabet/miniforge3/envs/dicom/include/ITK-5.4/itkImageSeriesReader.hxx, line WARNING: In /home/jstabet/miniforge3/envs/dicom/include/ITK-5.4/itkImageSeriesReader.hxx, line WARNING: In /home/jstabet/miniforge3/envs/dicom/include/ITK-5.4/itkImageSeriesReader.hxx, line WARNING: In /home/jstabet/miniforge3/envs/dicom/include/ITK-5.4/itkImageSeriesReader.hxx, line WARNING: In /home/jstabet/miniforge3/envs/dicom/include/ITK-5.4/itkImageSeriesReader.hxx, line WARNING: In /home/jstabet/miniforge3/envs/dicom/include/ITK-5.4/itkImageSeriesReader.hxx, line WARNING: In /home/jstabet/miniforge3/envs/dicom/include/ITK-5.4/itkImageSeriesReader.hxx, line WARNING: In /home/jstabet/miniforge3/envs/dicom/include/ITK-5.4/itkImageSeriesReader.hxx, line WARNING: In /home/jstabet/miniforge3/envs/dicom/include/ITK-5.4/itkImageSeriesReader.hxx, line WARNING: In /home/jstabet/miniforge3/envs/dicom/include/ITK-5.4/itkImageSeriesReader.hxx, line WARNING: In /home/jstabet/miniforge3/envs/dicom/include/ITK-5.4/itkImageSeriesReader.hxx, line WARNING: In /home/jstabet/miniforge3/envs/dicom/include/ITK-5.4/itkImageSeriesReader.hxx, line WARNING: In /home/jstabet/miniforge3/envs/dicom/include/ITK-5.4/itkImageSeriesReader.hxx, line WARNING: In /home/jstabet/miniforge3/envs/dicom/include/ITK-5.4/itkImageSeriesReader.hxx, line WARNING: In /home/jstabet/miniforge3/envs/dicom/include/ITK-5.4/itkImageSeriesReader.hxx, line "
     ]
    },
    {
     "name": "stdout",
     "output_type": "stream",
     "text": [
      "Epoch 68/100\tTrain Loss: 0.0536 | Train Acc: 0.7980\n"
     ]
    },
    {
     "name": "stderr",
     "output_type": "stream",
     "text": [
      "WARNING: In /home/jstabet/miniforge3/envs/dicom/include/ITK-5.4/itkImageSeriesReader.hxx, line WARNING: In /home/jstabet/miniforge3/envs/dicom/include/ITK-5.4/itkImageSeriesReader.hxx, line WARNING: In /home/jstabet/miniforge3/envs/dicom/include/ITK-5.4/itkImageSeriesReader.hxx, line WARNING: In /home/jstabet/miniforge3/envs/dicom/include/ITK-5.4/itkImageSeriesReader.hxx, line WARNING: In /home/jstabet/miniforge3/envs/dicom/include/ITK-5.4/itkImageSeriesReader.hxx, line WARNING: In /home/jstabet/miniforge3/envs/dicom/include/ITK-5.4/itkImageSeriesReader.hxx, line WARNING: In /home/jstabet/miniforge3/envs/dicom/include/ITK-5.4/itkImageSeriesReader.hxx, line WARNING: In /home/jstabet/miniforge3/envs/dicom/include/ITK-5.4/itkImageSeriesReader.hxx, line WARNING: In /home/jstabet/miniforge3/envs/dicom/include/ITK-5.4/itkImageSeriesReader.hxx, line WARNING: In /home/jstabet/miniforge3/envs/dicom/include/ITK-5.4/itkImageSeriesReader.hxx, line WARNING: In /home/jstabet/miniforge3/envs/dicom/include/ITK-5.4/itkImageSeriesReader.hxx, line WARNING: In /home/jstabet/miniforge3/envs/dicom/include/ITK-5.4/itkImageSeriesReader.hxx, line WARNING: In /home/jstabet/miniforge3/envs/dicom/include/ITK-5.4/itkImageSeriesReader.hxx, line WARNING: In /home/jstabet/miniforge3/envs/dicom/include/ITK-5.4/itkImageSeriesReader.hxx, line WARNING: In /home/jstabet/miniforge3/envs/dicom/include/ITK-5.4/itkImageSeriesReader.hxx, line WARNING: In /home/jstabet/miniforge3/envs/dicom/include/ITK-5.4/itkImageSeriesReader.hxx, line WARNING: In /home/jstabet/miniforge3/envs/dicom/include/ITK-5.4/itkImageSeriesReader.hxx, line WARNING: In /home/jstabet/miniforge3/envs/dicom/include/ITK-5.4/itkImageSeriesReader.hxx, line WARNING: In /home/jstabet/miniforge3/envs/dicom/include/ITK-5.4/itkImageSeriesReader.hxx, line WARNING: In /home/jstabet/miniforge3/envs/dicom/include/ITK-5.4/itkImageSeriesReader.hxx, line WARNING: In /home/jstabet/miniforge3/envs/dicom/include/ITK-5.4/itkImageSeriesReader.hxx, line WARNING: In /home/jstabet/miniforge3/envs/dicom/include/ITK-5.4/itkImageSeriesReader.hxx, line WARNING: In /home/jstabet/miniforge3/envs/dicom/include/ITK-5.4/itkImageSeriesReader.hxx, line WARNING: In /home/jstabet/miniforge3/envs/dicom/include/ITK-5.4/itkImageSeriesReader.hxx, line WARNING: In /home/jstabet/miniforge3/envs/dicom/include/ITK-5.4/itkImageSeriesReader.hxx, line "
     ]
    },
    {
     "name": "stdout",
     "output_type": "stream",
     "text": [
      "Epoch 69/100\tTrain Loss: 0.0528 | Train Acc: 0.7980\n"
     ]
    },
    {
     "name": "stderr",
     "output_type": "stream",
     "text": [
      "WARNING: In /home/jstabet/miniforge3/envs/dicom/include/ITK-5.4/itkImageSeriesReader.hxx, line WARNING: In /home/jstabet/miniforge3/envs/dicom/include/ITK-5.4/itkImageSeriesReader.hxx, line WARNING: In /home/jstabet/miniforge3/envs/dicom/include/ITK-5.4/itkImageSeriesReader.hxx, line WARNING: In /home/jstabet/miniforge3/envs/dicom/include/ITK-5.4/itkImageSeriesReader.hxx, line WARNING: In /home/jstabet/miniforge3/envs/dicom/include/ITK-5.4/itkImageSeriesReader.hxx, line WARNING: In /home/jstabet/miniforge3/envs/dicom/include/ITK-5.4/itkImageSeriesReader.hxx, line WARNING: In /home/jstabet/miniforge3/envs/dicom/include/ITK-5.4/itkImageSeriesReader.hxx, line WARNING: In /home/jstabet/miniforge3/envs/dicom/include/ITK-5.4/itkImageSeriesReader.hxx, line WARNING: In /home/jstabet/miniforge3/envs/dicom/include/ITK-5.4/itkImageSeriesReader.hxx, line WARNING: In /home/jstabet/miniforge3/envs/dicom/include/ITK-5.4/itkImageSeriesReader.hxx, line WARNING: In /home/jstabet/miniforge3/envs/dicom/include/ITK-5.4/itkImageSeriesReader.hxx, line WARNING: In /home/jstabet/miniforge3/envs/dicom/include/ITK-5.4/itkImageSeriesReader.hxx, line WARNING: In /home/jstabet/miniforge3/envs/dicom/include/ITK-5.4/itkImageSeriesReader.hxx, line WARNING: In /home/jstabet/miniforge3/envs/dicom/include/ITK-5.4/itkImageSeriesReader.hxx, line WARNING: In /home/jstabet/miniforge3/envs/dicom/include/ITK-5.4/itkImageSeriesReader.hxx, line WARNING: In /home/jstabet/miniforge3/envs/dicom/include/ITK-5.4/itkImageSeriesReader.hxx, line WARNING: In /home/jstabet/miniforge3/envs/dicom/include/ITK-5.4/itkImageSeriesReader.hxx, line WARNING: In /home/jstabet/miniforge3/envs/dicom/include/ITK-5.4/itkImageSeriesReader.hxx, line WARNING: In /home/jstabet/miniforge3/envs/dicom/include/ITK-5.4/itkImageSeriesReader.hxx, line WARNING: In /home/jstabet/miniforge3/envs/dicom/include/ITK-5.4/itkImageSeriesReader.hxx, line WARNING: In /home/jstabet/miniforge3/envs/dicom/include/ITK-5.4/itkImageSeriesReader.hxx, line WARNING: In /home/jstabet/miniforge3/envs/dicom/include/ITK-5.4/itkImageSeriesReader.hxx, line WARNING: In /home/jstabet/miniforge3/envs/dicom/include/ITK-5.4/itkImageSeriesReader.hxx, line WARNING: In /home/jstabet/miniforge3/envs/dicom/include/ITK-5.4/itkImageSeriesReader.hxx, line WARNING: In /home/jstabet/miniforge3/envs/dicom/include/ITK-5.4/itkImageSeriesReader.hxx, line "
     ]
    },
    {
     "name": "stdout",
     "output_type": "stream",
     "text": [
      "Epoch 70/100\tTrain Loss: 0.0527 | Train Acc: 0.7980\n"
     ]
    },
    {
     "name": "stderr",
     "output_type": "stream",
     "text": [
      "WARNING: In /home/jstabet/miniforge3/envs/dicom/include/ITK-5.4/itkImageSeriesReader.hxx, line WARNING: In /home/jstabet/miniforge3/envs/dicom/include/ITK-5.4/itkImageSeriesReader.hxx, line WARNING: In /home/jstabet/miniforge3/envs/dicom/include/ITK-5.4/itkImageSeriesReader.hxx, line WARNING: In /home/jstabet/miniforge3/envs/dicom/include/ITK-5.4/itkImageSeriesReader.hxx, line WARNING: In /home/jstabet/miniforge3/envs/dicom/include/ITK-5.4/itkImageSeriesReader.hxx, line WARNING: In /home/jstabet/miniforge3/envs/dicom/include/ITK-5.4/itkImageSeriesReader.hxx, line WARNING: In /home/jstabet/miniforge3/envs/dicom/include/ITK-5.4/itkImageSeriesReader.hxx, line WARNING: In /home/jstabet/miniforge3/envs/dicom/include/ITK-5.4/itkImageSeriesReader.hxx, line WARNING: In /home/jstabet/miniforge3/envs/dicom/include/ITK-5.4/itkImageSeriesReader.hxx, line WARNING: In /home/jstabet/miniforge3/envs/dicom/include/ITK-5.4/itkImageSeriesReader.hxx, line WARNING: In /home/jstabet/miniforge3/envs/dicom/include/ITK-5.4/itkImageSeriesReader.hxx, line WARNING: In /home/jstabet/miniforge3/envs/dicom/include/ITK-5.4/itkImageSeriesReader.hxx, line WARNING: In /home/jstabet/miniforge3/envs/dicom/include/ITK-5.4/itkImageSeriesReader.hxx, line WARNING: In /home/jstabet/miniforge3/envs/dicom/include/ITK-5.4/itkImageSeriesReader.hxx, line WARNING: In /home/jstabet/miniforge3/envs/dicom/include/ITK-5.4/itkImageSeriesReader.hxx, line WARNING: In /home/jstabet/miniforge3/envs/dicom/include/ITK-5.4/itkImageSeriesReader.hxx, line WARNING: In /home/jstabet/miniforge3/envs/dicom/include/ITK-5.4/itkImageSeriesReader.hxx, line WARNING: In /home/jstabet/miniforge3/envs/dicom/include/ITK-5.4/itkImageSeriesReader.hxx, line WARNING: In /home/jstabet/miniforge3/envs/dicom/include/ITK-5.4/itkImageSeriesReader.hxx, line WARNING: In /home/jstabet/miniforge3/envs/dicom/include/ITK-5.4/itkImageSeriesReader.hxx, line WARNING: In /home/jstabet/miniforge3/envs/dicom/include/ITK-5.4/itkImageSeriesReader.hxx, line WARNING: In /home/jstabet/miniforge3/envs/dicom/include/ITK-5.4/itkImageSeriesReader.hxx, line WARNING: In /home/jstabet/miniforge3/envs/dicom/include/ITK-5.4/itkImageSeriesReader.hxx, line WARNING: In /home/jstabet/miniforge3/envs/dicom/include/ITK-5.4/itkImageSeriesReader.hxx, line WARNING: In /home/jstabet/miniforge3/envs/dicom/include/ITK-5.4/itkImageSeriesReader.hxx, line "
     ]
    },
    {
     "name": "stdout",
     "output_type": "stream",
     "text": [
      "Epoch 71/100\tTrain Loss: 0.0526 | Train Acc: 0.7980\n"
     ]
    },
    {
     "name": "stderr",
     "output_type": "stream",
     "text": [
      "WARNING: In /home/jstabet/miniforge3/envs/dicom/include/ITK-5.4/itkImageSeriesReader.hxx, line WARNING: In /home/jstabet/miniforge3/envs/dicom/include/ITK-5.4/itkImageSeriesReader.hxx, line WARNING: In /home/jstabet/miniforge3/envs/dicom/include/ITK-5.4/itkImageSeriesReader.hxx, line WARNING: In /home/jstabet/miniforge3/envs/dicom/include/ITK-5.4/itkImageSeriesReader.hxx, line WARNING: In /home/jstabet/miniforge3/envs/dicom/include/ITK-5.4/itkImageSeriesReader.hxx, line WARNING: In /home/jstabet/miniforge3/envs/dicom/include/ITK-5.4/itkImageSeriesReader.hxx, line WARNING: In /home/jstabet/miniforge3/envs/dicom/include/ITK-5.4/itkImageSeriesReader.hxx, line WARNING: In /home/jstabet/miniforge3/envs/dicom/include/ITK-5.4/itkImageSeriesReader.hxx, line WARNING: In /home/jstabet/miniforge3/envs/dicom/include/ITK-5.4/itkImageSeriesReader.hxx, line WARNING: In /home/jstabet/miniforge3/envs/dicom/include/ITK-5.4/itkImageSeriesReader.hxx, line WARNING: In /home/jstabet/miniforge3/envs/dicom/include/ITK-5.4/itkImageSeriesReader.hxx, line WARNING: In /home/jstabet/miniforge3/envs/dicom/include/ITK-5.4/itkImageSeriesReader.hxx, line WARNING: In /home/jstabet/miniforge3/envs/dicom/include/ITK-5.4/itkImageSeriesReader.hxx, line WARNING: In /home/jstabet/miniforge3/envs/dicom/include/ITK-5.4/itkImageSeriesReader.hxx, line WARNING: In /home/jstabet/miniforge3/envs/dicom/include/ITK-5.4/itkImageSeriesReader.hxx, line WARNING: In /home/jstabet/miniforge3/envs/dicom/include/ITK-5.4/itkImageSeriesReader.hxx, line WARNING: In /home/jstabet/miniforge3/envs/dicom/include/ITK-5.4/itkImageSeriesReader.hxx, line WARNING: In /home/jstabet/miniforge3/envs/dicom/include/ITK-5.4/itkImageSeriesReader.hxx, line WARNING: In /home/jstabet/miniforge3/envs/dicom/include/ITK-5.4/itkImageSeriesReader.hxx, line WARNING: In /home/jstabet/miniforge3/envs/dicom/include/ITK-5.4/itkImageSeriesReader.hxx, line WARNING: In /home/jstabet/miniforge3/envs/dicom/include/ITK-5.4/itkImageSeriesReader.hxx, line WARNING: In /home/jstabet/miniforge3/envs/dicom/include/ITK-5.4/itkImageSeriesReader.hxx, line WARNING: In /home/jstabet/miniforge3/envs/dicom/include/ITK-5.4/itkImageSeriesReader.hxx, line WARNING: In /home/jstabet/miniforge3/envs/dicom/include/ITK-5.4/itkImageSeriesReader.hxx, line WARNING: In /home/jstabet/miniforge3/envs/dicom/include/ITK-5.4/itkImageSeriesReader.hxx, line "
     ]
    },
    {
     "name": "stdout",
     "output_type": "stream",
     "text": [
      "Epoch 72/100\tTrain Loss: 0.0512 | Train Acc: 0.7980\n"
     ]
    },
    {
     "name": "stderr",
     "output_type": "stream",
     "text": [
      "WARNING: In /home/jstabet/miniforge3/envs/dicom/include/ITK-5.4/itkImageSeriesReader.hxx, line WARNING: In /home/jstabet/miniforge3/envs/dicom/include/ITK-5.4/itkImageSeriesReader.hxx, line WARNING: In /home/jstabet/miniforge3/envs/dicom/include/ITK-5.4/itkImageSeriesReader.hxx, line WARNING: In /home/jstabet/miniforge3/envs/dicom/include/ITK-5.4/itkImageSeriesReader.hxx, line WARNING: In /home/jstabet/miniforge3/envs/dicom/include/ITK-5.4/itkImageSeriesReader.hxx, line WARNING: In /home/jstabet/miniforge3/envs/dicom/include/ITK-5.4/itkImageSeriesReader.hxx, line WARNING: In /home/jstabet/miniforge3/envs/dicom/include/ITK-5.4/itkImageSeriesReader.hxx, line WARNING: In /home/jstabet/miniforge3/envs/dicom/include/ITK-5.4/itkImageSeriesReader.hxx, line WARNING: In /home/jstabet/miniforge3/envs/dicom/include/ITK-5.4/itkImageSeriesReader.hxx, line WARNING: In /home/jstabet/miniforge3/envs/dicom/include/ITK-5.4/itkImageSeriesReader.hxx, line WARNING: In /home/jstabet/miniforge3/envs/dicom/include/ITK-5.4/itkImageSeriesReader.hxx, line WARNING: In /home/jstabet/miniforge3/envs/dicom/include/ITK-5.4/itkImageSeriesReader.hxx, line WARNING: In /home/jstabet/miniforge3/envs/dicom/include/ITK-5.4/itkImageSeriesReader.hxx, line WARNING: In /home/jstabet/miniforge3/envs/dicom/include/ITK-5.4/itkImageSeriesReader.hxx, line WARNING: In /home/jstabet/miniforge3/envs/dicom/include/ITK-5.4/itkImageSeriesReader.hxx, line WARNING: In /home/jstabet/miniforge3/envs/dicom/include/ITK-5.4/itkImageSeriesReader.hxx, line WARNING: In /home/jstabet/miniforge3/envs/dicom/include/ITK-5.4/itkImageSeriesReader.hxx, line WARNING: In /home/jstabet/miniforge3/envs/dicom/include/ITK-5.4/itkImageSeriesReader.hxx, line WARNING: In /home/jstabet/miniforge3/envs/dicom/include/ITK-5.4/itkImageSeriesReader.hxx, line WARNING: In /home/jstabet/miniforge3/envs/dicom/include/ITK-5.4/itkImageSeriesReader.hxx, line WARNING: In /home/jstabet/miniforge3/envs/dicom/include/ITK-5.4/itkImageSeriesReader.hxx, line WARNING: In /home/jstabet/miniforge3/envs/dicom/include/ITK-5.4/itkImageSeriesReader.hxx, line WARNING: In /home/jstabet/miniforge3/envs/dicom/include/ITK-5.4/itkImageSeriesReader.hxx, line WARNING: In /home/jstabet/miniforge3/envs/dicom/include/ITK-5.4/itkImageSeriesReader.hxx, line WARNING: In /home/jstabet/miniforge3/envs/dicom/include/ITK-5.4/itkImageSeriesReader.hxx, line "
     ]
    },
    {
     "name": "stdout",
     "output_type": "stream",
     "text": [
      "Epoch 73/100\tTrain Loss: 0.0515 | Train Acc: 0.7980\n"
     ]
    },
    {
     "name": "stderr",
     "output_type": "stream",
     "text": [
      "WARNING: In /home/jstabet/miniforge3/envs/dicom/include/ITK-5.4/itkImageSeriesReader.hxx, line WARNING: In /home/jstabet/miniforge3/envs/dicom/include/ITK-5.4/itkImageSeriesReader.hxx, line WARNING: In /home/jstabet/miniforge3/envs/dicom/include/ITK-5.4/itkImageSeriesReader.hxx, line WARNING: In /home/jstabet/miniforge3/envs/dicom/include/ITK-5.4/itkImageSeriesReader.hxx, line WARNING: In /home/jstabet/miniforge3/envs/dicom/include/ITK-5.4/itkImageSeriesReader.hxx, line WARNING: In /home/jstabet/miniforge3/envs/dicom/include/ITK-5.4/itkImageSeriesReader.hxx, line WARNING: In /home/jstabet/miniforge3/envs/dicom/include/ITK-5.4/itkImageSeriesReader.hxx, line WARNING: In /home/jstabet/miniforge3/envs/dicom/include/ITK-5.4/itkImageSeriesReader.hxx, line WARNING: In /home/jstabet/miniforge3/envs/dicom/include/ITK-5.4/itkImageSeriesReader.hxx, line WARNING: In /home/jstabet/miniforge3/envs/dicom/include/ITK-5.4/itkImageSeriesReader.hxx, line WARNING: In /home/jstabet/miniforge3/envs/dicom/include/ITK-5.4/itkImageSeriesReader.hxx, line WARNING: In /home/jstabet/miniforge3/envs/dicom/include/ITK-5.4/itkImageSeriesReader.hxx, line WARNING: In /home/jstabet/miniforge3/envs/dicom/include/ITK-5.4/itkImageSeriesReader.hxx, line WARNING: In /home/jstabet/miniforge3/envs/dicom/include/ITK-5.4/itkImageSeriesReader.hxx, line WARNING: In /home/jstabet/miniforge3/envs/dicom/include/ITK-5.4/itkImageSeriesReader.hxx, line WARNING: In /home/jstabet/miniforge3/envs/dicom/include/ITK-5.4/itkImageSeriesReader.hxx, line WARNING: In /home/jstabet/miniforge3/envs/dicom/include/ITK-5.4/itkImageSeriesReader.hxx, line WARNING: In /home/jstabet/miniforge3/envs/dicom/include/ITK-5.4/itkImageSeriesReader.hxx, line WARNING: In /home/jstabet/miniforge3/envs/dicom/include/ITK-5.4/itkImageSeriesReader.hxx, line WARNING: In /home/jstabet/miniforge3/envs/dicom/include/ITK-5.4/itkImageSeriesReader.hxx, line WARNING: In /home/jstabet/miniforge3/envs/dicom/include/ITK-5.4/itkImageSeriesReader.hxx, line WARNING: In /home/jstabet/miniforge3/envs/dicom/include/ITK-5.4/itkImageSeriesReader.hxx, line WARNING: In /home/jstabet/miniforge3/envs/dicom/include/ITK-5.4/itkImageSeriesReader.hxx, line WARNING: In /home/jstabet/miniforge3/envs/dicom/include/ITK-5.4/itkImageSeriesReader.hxx, line WARNING: In /home/jstabet/miniforge3/envs/dicom/include/ITK-5.4/itkImageSeriesReader.hxx, line "
     ]
    },
    {
     "name": "stdout",
     "output_type": "stream",
     "text": [
      "Epoch 74/100\tTrain Loss: 0.0547 | Train Acc: 0.7980\n"
     ]
    },
    {
     "name": "stderr",
     "output_type": "stream",
     "text": [
      "WARNING: In /home/jstabet/miniforge3/envs/dicom/include/ITK-5.4/itkImageSeriesReader.hxx, line WARNING: In /home/jstabet/miniforge3/envs/dicom/include/ITK-5.4/itkImageSeriesReader.hxx, line WARNING: In /home/jstabet/miniforge3/envs/dicom/include/ITK-5.4/itkImageSeriesReader.hxx, line WARNING: In /home/jstabet/miniforge3/envs/dicom/include/ITK-5.4/itkImageSeriesReader.hxx, line WARNING: In /home/jstabet/miniforge3/envs/dicom/include/ITK-5.4/itkImageSeriesReader.hxx, line WARNING: In /home/jstabet/miniforge3/envs/dicom/include/ITK-5.4/itkImageSeriesReader.hxx, line WARNING: In /home/jstabet/miniforge3/envs/dicom/include/ITK-5.4/itkImageSeriesReader.hxx, line WARNING: In /home/jstabet/miniforge3/envs/dicom/include/ITK-5.4/itkImageSeriesReader.hxx, line WARNING: In /home/jstabet/miniforge3/envs/dicom/include/ITK-5.4/itkImageSeriesReader.hxx, line WARNING: In /home/jstabet/miniforge3/envs/dicom/include/ITK-5.4/itkImageSeriesReader.hxx, line WARNING: In /home/jstabet/miniforge3/envs/dicom/include/ITK-5.4/itkImageSeriesReader.hxx, line WARNING: In /home/jstabet/miniforge3/envs/dicom/include/ITK-5.4/itkImageSeriesReader.hxx, line WARNING: In /home/jstabet/miniforge3/envs/dicom/include/ITK-5.4/itkImageSeriesReader.hxx, line WARNING: In /home/jstabet/miniforge3/envs/dicom/include/ITK-5.4/itkImageSeriesReader.hxx, line WARNING: In /home/jstabet/miniforge3/envs/dicom/include/ITK-5.4/itkImageSeriesReader.hxx, line WARNING: In /home/jstabet/miniforge3/envs/dicom/include/ITK-5.4/itkImageSeriesReader.hxx, line WARNING: In /home/jstabet/miniforge3/envs/dicom/include/ITK-5.4/itkImageSeriesReader.hxx, line WARNING: In /home/jstabet/miniforge3/envs/dicom/include/ITK-5.4/itkImageSeriesReader.hxx, line WARNING: In /home/jstabet/miniforge3/envs/dicom/include/ITK-5.4/itkImageSeriesReader.hxx, line WARNING: In /home/jstabet/miniforge3/envs/dicom/include/ITK-5.4/itkImageSeriesReader.hxx, line WARNING: In /home/jstabet/miniforge3/envs/dicom/include/ITK-5.4/itkImageSeriesReader.hxx, line WARNING: In /home/jstabet/miniforge3/envs/dicom/include/ITK-5.4/itkImageSeriesReader.hxx, line WARNING: In /home/jstabet/miniforge3/envs/dicom/include/ITK-5.4/itkImageSeriesReader.hxx, line WARNING: In /home/jstabet/miniforge3/envs/dicom/include/ITK-5.4/itkImageSeriesReader.hxx, line WARNING: In /home/jstabet/miniforge3/envs/dicom/include/ITK-5.4/itkImageSeriesReader.hxx, line "
     ]
    },
    {
     "name": "stdout",
     "output_type": "stream",
     "text": [
      "Epoch 75/100\tTrain Loss: 0.0513 | Train Acc: 0.7980\n"
     ]
    },
    {
     "name": "stderr",
     "output_type": "stream",
     "text": [
      "WARNING: In /home/jstabet/miniforge3/envs/dicom/include/ITK-5.4/itkImageSeriesReader.hxx, line WARNING: In /home/jstabet/miniforge3/envs/dicom/include/ITK-5.4/itkImageSeriesReader.hxx, line WARNING: In /home/jstabet/miniforge3/envs/dicom/include/ITK-5.4/itkImageSeriesReader.hxx, line WARNING: In /home/jstabet/miniforge3/envs/dicom/include/ITK-5.4/itkImageSeriesReader.hxx, line WARNING: In /home/jstabet/miniforge3/envs/dicom/include/ITK-5.4/itkImageSeriesReader.hxx, line WARNING: In /home/jstabet/miniforge3/envs/dicom/include/ITK-5.4/itkImageSeriesReader.hxx, line WARNING: In /home/jstabet/miniforge3/envs/dicom/include/ITK-5.4/itkImageSeriesReader.hxx, line WARNING: In /home/jstabet/miniforge3/envs/dicom/include/ITK-5.4/itkImageSeriesReader.hxx, line WARNING: In /home/jstabet/miniforge3/envs/dicom/include/ITK-5.4/itkImageSeriesReader.hxx, line WARNING: In /home/jstabet/miniforge3/envs/dicom/include/ITK-5.4/itkImageSeriesReader.hxx, line WARNING: In /home/jstabet/miniforge3/envs/dicom/include/ITK-5.4/itkImageSeriesReader.hxx, line WARNING: In /home/jstabet/miniforge3/envs/dicom/include/ITK-5.4/itkImageSeriesReader.hxx, line WARNING: In /home/jstabet/miniforge3/envs/dicom/include/ITK-5.4/itkImageSeriesReader.hxx, line WARNING: In /home/jstabet/miniforge3/envs/dicom/include/ITK-5.4/itkImageSeriesReader.hxx, line WARNING: In /home/jstabet/miniforge3/envs/dicom/include/ITK-5.4/itkImageSeriesReader.hxx, line WARNING: In /home/jstabet/miniforge3/envs/dicom/include/ITK-5.4/itkImageSeriesReader.hxx, line WARNING: In /home/jstabet/miniforge3/envs/dicom/include/ITK-5.4/itkImageSeriesReader.hxx, line WARNING: In /home/jstabet/miniforge3/envs/dicom/include/ITK-5.4/itkImageSeriesReader.hxx, line WARNING: In /home/jstabet/miniforge3/envs/dicom/include/ITK-5.4/itkImageSeriesReader.hxx, line WARNING: In /home/jstabet/miniforge3/envs/dicom/include/ITK-5.4/itkImageSeriesReader.hxx, line WARNING: In /home/jstabet/miniforge3/envs/dicom/include/ITK-5.4/itkImageSeriesReader.hxx, line WARNING: In /home/jstabet/miniforge3/envs/dicom/include/ITK-5.4/itkImageSeriesReader.hxx, line WARNING: In /home/jstabet/miniforge3/envs/dicom/include/ITK-5.4/itkImageSeriesReader.hxx, line WARNING: In /home/jstabet/miniforge3/envs/dicom/include/ITK-5.4/itkImageSeriesReader.hxx, line WARNING: In /home/jstabet/miniforge3/envs/dicom/include/ITK-5.4/itkImageSeriesReader.hxx, line "
     ]
    },
    {
     "name": "stdout",
     "output_type": "stream",
     "text": [
      "Epoch 76/100\tTrain Loss: 0.0531 | Train Acc: 0.7980\n"
     ]
    },
    {
     "name": "stderr",
     "output_type": "stream",
     "text": [
      "WARNING: In /home/jstabet/miniforge3/envs/dicom/include/ITK-5.4/itkImageSeriesReader.hxx, line WARNING: In /home/jstabet/miniforge3/envs/dicom/include/ITK-5.4/itkImageSeriesReader.hxx, line WARNING: In /home/jstabet/miniforge3/envs/dicom/include/ITK-5.4/itkImageSeriesReader.hxx, line WARNING: In /home/jstabet/miniforge3/envs/dicom/include/ITK-5.4/itkImageSeriesReader.hxx, line WARNING: In /home/jstabet/miniforge3/envs/dicom/include/ITK-5.4/itkImageSeriesReader.hxx, line WARNING: In /home/jstabet/miniforge3/envs/dicom/include/ITK-5.4/itkImageSeriesReader.hxx, line WARNING: In /home/jstabet/miniforge3/envs/dicom/include/ITK-5.4/itkImageSeriesReader.hxx, line WARNING: In /home/jstabet/miniforge3/envs/dicom/include/ITK-5.4/itkImageSeriesReader.hxx, line WARNING: In /home/jstabet/miniforge3/envs/dicom/include/ITK-5.4/itkImageSeriesReader.hxx, line WARNING: In /home/jstabet/miniforge3/envs/dicom/include/ITK-5.4/itkImageSeriesReader.hxx, line WARNING: In /home/jstabet/miniforge3/envs/dicom/include/ITK-5.4/itkImageSeriesReader.hxx, line WARNING: In /home/jstabet/miniforge3/envs/dicom/include/ITK-5.4/itkImageSeriesReader.hxx, line WARNING: In /home/jstabet/miniforge3/envs/dicom/include/ITK-5.4/itkImageSeriesReader.hxx, line WARNING: In /home/jstabet/miniforge3/envs/dicom/include/ITK-5.4/itkImageSeriesReader.hxx, line WARNING: In /home/jstabet/miniforge3/envs/dicom/include/ITK-5.4/itkImageSeriesReader.hxx, line WARNING: In /home/jstabet/miniforge3/envs/dicom/include/ITK-5.4/itkImageSeriesReader.hxx, line WARNING: In /home/jstabet/miniforge3/envs/dicom/include/ITK-5.4/itkImageSeriesReader.hxx, line WARNING: In /home/jstabet/miniforge3/envs/dicom/include/ITK-5.4/itkImageSeriesReader.hxx, line WARNING: In /home/jstabet/miniforge3/envs/dicom/include/ITK-5.4/itkImageSeriesReader.hxx, line WARNING: In /home/jstabet/miniforge3/envs/dicom/include/ITK-5.4/itkImageSeriesReader.hxx, line WARNING: In /home/jstabet/miniforge3/envs/dicom/include/ITK-5.4/itkImageSeriesReader.hxx, line WARNING: In /home/jstabet/miniforge3/envs/dicom/include/ITK-5.4/itkImageSeriesReader.hxx, line WARNING: In /home/jstabet/miniforge3/envs/dicom/include/ITK-5.4/itkImageSeriesReader.hxx, line WARNING: In /home/jstabet/miniforge3/envs/dicom/include/ITK-5.4/itkImageSeriesReader.hxx, line WARNING: In /home/jstabet/miniforge3/envs/dicom/include/ITK-5.4/itkImageSeriesReader.hxx, line "
     ]
    },
    {
     "name": "stdout",
     "output_type": "stream",
     "text": [
      "Epoch 77/100\tTrain Loss: 0.0512 | Train Acc: 0.7980\n"
     ]
    },
    {
     "name": "stderr",
     "output_type": "stream",
     "text": [
      "WARNING: In /home/jstabet/miniforge3/envs/dicom/include/ITK-5.4/itkImageSeriesReader.hxx, line WARNING: In /home/jstabet/miniforge3/envs/dicom/include/ITK-5.4/itkImageSeriesReader.hxx, line WARNING: In /home/jstabet/miniforge3/envs/dicom/include/ITK-5.4/itkImageSeriesReader.hxx, line WARNING: In /home/jstabet/miniforge3/envs/dicom/include/ITK-5.4/itkImageSeriesReader.hxx, line WARNING: In /home/jstabet/miniforge3/envs/dicom/include/ITK-5.4/itkImageSeriesReader.hxx, line WARNING: In /home/jstabet/miniforge3/envs/dicom/include/ITK-5.4/itkImageSeriesReader.hxx, line WARNING: In /home/jstabet/miniforge3/envs/dicom/include/ITK-5.4/itkImageSeriesReader.hxx, line WARNING: In /home/jstabet/miniforge3/envs/dicom/include/ITK-5.4/itkImageSeriesReader.hxx, line WARNING: In /home/jstabet/miniforge3/envs/dicom/include/ITK-5.4/itkImageSeriesReader.hxx, line WARNING: In /home/jstabet/miniforge3/envs/dicom/include/ITK-5.4/itkImageSeriesReader.hxx, line WARNING: In /home/jstabet/miniforge3/envs/dicom/include/ITK-5.4/itkImageSeriesReader.hxx, line WARNING: In /home/jstabet/miniforge3/envs/dicom/include/ITK-5.4/itkImageSeriesReader.hxx, line WARNING: In /home/jstabet/miniforge3/envs/dicom/include/ITK-5.4/itkImageSeriesReader.hxx, line WARNING: In /home/jstabet/miniforge3/envs/dicom/include/ITK-5.4/itkImageSeriesReader.hxx, line WARNING: In /home/jstabet/miniforge3/envs/dicom/include/ITK-5.4/itkImageSeriesReader.hxx, line WARNING: In /home/jstabet/miniforge3/envs/dicom/include/ITK-5.4/itkImageSeriesReader.hxx, line WARNING: In /home/jstabet/miniforge3/envs/dicom/include/ITK-5.4/itkImageSeriesReader.hxx, line WARNING: In /home/jstabet/miniforge3/envs/dicom/include/ITK-5.4/itkImageSeriesReader.hxx, line WARNING: In /home/jstabet/miniforge3/envs/dicom/include/ITK-5.4/itkImageSeriesReader.hxx, line WARNING: In /home/jstabet/miniforge3/envs/dicom/include/ITK-5.4/itkImageSeriesReader.hxx, line WARNING: In /home/jstabet/miniforge3/envs/dicom/include/ITK-5.4/itkImageSeriesReader.hxx, line WARNING: In /home/jstabet/miniforge3/envs/dicom/include/ITK-5.4/itkImageSeriesReader.hxx, line WARNING: In /home/jstabet/miniforge3/envs/dicom/include/ITK-5.4/itkImageSeriesReader.hxx, line WARNING: In /home/jstabet/miniforge3/envs/dicom/include/ITK-5.4/itkImageSeriesReader.hxx, line WARNING: In /home/jstabet/miniforge3/envs/dicom/include/ITK-5.4/itkImageSeriesReader.hxx, line "
     ]
    },
    {
     "name": "stdout",
     "output_type": "stream",
     "text": [
      "Epoch 78/100\tTrain Loss: 0.0512 | Train Acc: 0.7980\n"
     ]
    },
    {
     "name": "stderr",
     "output_type": "stream",
     "text": [
      "WARNING: In /home/jstabet/miniforge3/envs/dicom/include/ITK-5.4/itkImageSeriesReader.hxx, line WARNING: In /home/jstabet/miniforge3/envs/dicom/include/ITK-5.4/itkImageSeriesReader.hxx, line WARNING: In /home/jstabet/miniforge3/envs/dicom/include/ITK-5.4/itkImageSeriesReader.hxx, line WARNING: In /home/jstabet/miniforge3/envs/dicom/include/ITK-5.4/itkImageSeriesReader.hxx, line WARNING: In /home/jstabet/miniforge3/envs/dicom/include/ITK-5.4/itkImageSeriesReader.hxx, line WARNING: In /home/jstabet/miniforge3/envs/dicom/include/ITK-5.4/itkImageSeriesReader.hxx, line WARNING: In /home/jstabet/miniforge3/envs/dicom/include/ITK-5.4/itkImageSeriesReader.hxx, line WARNING: In /home/jstabet/miniforge3/envs/dicom/include/ITK-5.4/itkImageSeriesReader.hxx, line WARNING: In /home/jstabet/miniforge3/envs/dicom/include/ITK-5.4/itkImageSeriesReader.hxx, line WARNING: In /home/jstabet/miniforge3/envs/dicom/include/ITK-5.4/itkImageSeriesReader.hxx, line WARNING: In /home/jstabet/miniforge3/envs/dicom/include/ITK-5.4/itkImageSeriesReader.hxx, line WARNING: In /home/jstabet/miniforge3/envs/dicom/include/ITK-5.4/itkImageSeriesReader.hxx, line WARNING: In /home/jstabet/miniforge3/envs/dicom/include/ITK-5.4/itkImageSeriesReader.hxx, line WARNING: In /home/jstabet/miniforge3/envs/dicom/include/ITK-5.4/itkImageSeriesReader.hxx, line WARNING: In /home/jstabet/miniforge3/envs/dicom/include/ITK-5.4/itkImageSeriesReader.hxx, line WARNING: In /home/jstabet/miniforge3/envs/dicom/include/ITK-5.4/itkImageSeriesReader.hxx, line WARNING: In /home/jstabet/miniforge3/envs/dicom/include/ITK-5.4/itkImageSeriesReader.hxx, line WARNING: In /home/jstabet/miniforge3/envs/dicom/include/ITK-5.4/itkImageSeriesReader.hxx, line WARNING: In /home/jstabet/miniforge3/envs/dicom/include/ITK-5.4/itkImageSeriesReader.hxx, line WARNING: In /home/jstabet/miniforge3/envs/dicom/include/ITK-5.4/itkImageSeriesReader.hxx, line WARNING: In /home/jstabet/miniforge3/envs/dicom/include/ITK-5.4/itkImageSeriesReader.hxx, line WARNING: In /home/jstabet/miniforge3/envs/dicom/include/ITK-5.4/itkImageSeriesReader.hxx, line WARNING: In /home/jstabet/miniforge3/envs/dicom/include/ITK-5.4/itkImageSeriesReader.hxx, line WARNING: In /home/jstabet/miniforge3/envs/dicom/include/ITK-5.4/itkImageSeriesReader.hxx, line WARNING: In /home/jstabet/miniforge3/envs/dicom/include/ITK-5.4/itkImageSeriesReader.hxx, line "
     ]
    },
    {
     "name": "stdout",
     "output_type": "stream",
     "text": [
      "Epoch 79/100\tTrain Loss: 0.0527 | Train Acc: 0.7980\n"
     ]
    },
    {
     "name": "stderr",
     "output_type": "stream",
     "text": [
      "WARNING: In /home/jstabet/miniforge3/envs/dicom/include/ITK-5.4/itkImageSeriesReader.hxx, line WARNING: In /home/jstabet/miniforge3/envs/dicom/include/ITK-5.4/itkImageSeriesReader.hxx, line WARNING: In /home/jstabet/miniforge3/envs/dicom/include/ITK-5.4/itkImageSeriesReader.hxx, line WARNING: In /home/jstabet/miniforge3/envs/dicom/include/ITK-5.4/itkImageSeriesReader.hxx, line WARNING: In /home/jstabet/miniforge3/envs/dicom/include/ITK-5.4/itkImageSeriesReader.hxx, line WARNING: In /home/jstabet/miniforge3/envs/dicom/include/ITK-5.4/itkImageSeriesReader.hxx, line WARNING: In /home/jstabet/miniforge3/envs/dicom/include/ITK-5.4/itkImageSeriesReader.hxx, line WARNING: In /home/jstabet/miniforge3/envs/dicom/include/ITK-5.4/itkImageSeriesReader.hxx, line WARNING: In /home/jstabet/miniforge3/envs/dicom/include/ITK-5.4/itkImageSeriesReader.hxx, line WARNING: In /home/jstabet/miniforge3/envs/dicom/include/ITK-5.4/itkImageSeriesReader.hxx, line WARNING: In /home/jstabet/miniforge3/envs/dicom/include/ITK-5.4/itkImageSeriesReader.hxx, line WARNING: In /home/jstabet/miniforge3/envs/dicom/include/ITK-5.4/itkImageSeriesReader.hxx, line WARNING: In /home/jstabet/miniforge3/envs/dicom/include/ITK-5.4/itkImageSeriesReader.hxx, line WARNING: In /home/jstabet/miniforge3/envs/dicom/include/ITK-5.4/itkImageSeriesReader.hxx, line WARNING: In /home/jstabet/miniforge3/envs/dicom/include/ITK-5.4/itkImageSeriesReader.hxx, line WARNING: In /home/jstabet/miniforge3/envs/dicom/include/ITK-5.4/itkImageSeriesReader.hxx, line WARNING: In /home/jstabet/miniforge3/envs/dicom/include/ITK-5.4/itkImageSeriesReader.hxx, line WARNING: In /home/jstabet/miniforge3/envs/dicom/include/ITK-5.4/itkImageSeriesReader.hxx, line WARNING: In /home/jstabet/miniforge3/envs/dicom/include/ITK-5.4/itkImageSeriesReader.hxx, line WARNING: In /home/jstabet/miniforge3/envs/dicom/include/ITK-5.4/itkImageSeriesReader.hxx, line WARNING: In /home/jstabet/miniforge3/envs/dicom/include/ITK-5.4/itkImageSeriesReader.hxx, line WARNING: In /home/jstabet/miniforge3/envs/dicom/include/ITK-5.4/itkImageSeriesReader.hxx, line WARNING: In /home/jstabet/miniforge3/envs/dicom/include/ITK-5.4/itkImageSeriesReader.hxx, line WARNING: In /home/jstabet/miniforge3/envs/dicom/include/ITK-5.4/itkImageSeriesReader.hxx, line WARNING: In /home/jstabet/miniforge3/envs/dicom/include/ITK-5.4/itkImageSeriesReader.hxx, line "
     ]
    },
    {
     "name": "stdout",
     "output_type": "stream",
     "text": [
      "Epoch 80/100\tTrain Loss: 0.0515 | Train Acc: 0.7980\n"
     ]
    },
    {
     "name": "stderr",
     "output_type": "stream",
     "text": [
      "WARNING: In /home/jstabet/miniforge3/envs/dicom/include/ITK-5.4/itkImageSeriesReader.hxx, line WARNING: In /home/jstabet/miniforge3/envs/dicom/include/ITK-5.4/itkImageSeriesReader.hxx, line WARNING: In /home/jstabet/miniforge3/envs/dicom/include/ITK-5.4/itkImageSeriesReader.hxx, line WARNING: In /home/jstabet/miniforge3/envs/dicom/include/ITK-5.4/itkImageSeriesReader.hxx, line WARNING: In /home/jstabet/miniforge3/envs/dicom/include/ITK-5.4/itkImageSeriesReader.hxx, line WARNING: In /home/jstabet/miniforge3/envs/dicom/include/ITK-5.4/itkImageSeriesReader.hxx, line WARNING: In /home/jstabet/miniforge3/envs/dicom/include/ITK-5.4/itkImageSeriesReader.hxx, line WARNING: In /home/jstabet/miniforge3/envs/dicom/include/ITK-5.4/itkImageSeriesReader.hxx, line WARNING: In /home/jstabet/miniforge3/envs/dicom/include/ITK-5.4/itkImageSeriesReader.hxx, line WARNING: In /home/jstabet/miniforge3/envs/dicom/include/ITK-5.4/itkImageSeriesReader.hxx, line WARNING: In /home/jstabet/miniforge3/envs/dicom/include/ITK-5.4/itkImageSeriesReader.hxx, line WARNING: In /home/jstabet/miniforge3/envs/dicom/include/ITK-5.4/itkImageSeriesReader.hxx, line WARNING: In /home/jstabet/miniforge3/envs/dicom/include/ITK-5.4/itkImageSeriesReader.hxx, line WARNING: In /home/jstabet/miniforge3/envs/dicom/include/ITK-5.4/itkImageSeriesReader.hxx, line WARNING: In /home/jstabet/miniforge3/envs/dicom/include/ITK-5.4/itkImageSeriesReader.hxx, line WARNING: In /home/jstabet/miniforge3/envs/dicom/include/ITK-5.4/itkImageSeriesReader.hxx, line WARNING: In /home/jstabet/miniforge3/envs/dicom/include/ITK-5.4/itkImageSeriesReader.hxx, line WARNING: In /home/jstabet/miniforge3/envs/dicom/include/ITK-5.4/itkImageSeriesReader.hxx, line WARNING: In /home/jstabet/miniforge3/envs/dicom/include/ITK-5.4/itkImageSeriesReader.hxx, line WARNING: In /home/jstabet/miniforge3/envs/dicom/include/ITK-5.4/itkImageSeriesReader.hxx, line WARNING: In /home/jstabet/miniforge3/envs/dicom/include/ITK-5.4/itkImageSeriesReader.hxx, line WARNING: In /home/jstabet/miniforge3/envs/dicom/include/ITK-5.4/itkImageSeriesReader.hxx, line WARNING: In /home/jstabet/miniforge3/envs/dicom/include/ITK-5.4/itkImageSeriesReader.hxx, line WARNING: In /home/jstabet/miniforge3/envs/dicom/include/ITK-5.4/itkImageSeriesReader.hxx, line WARNING: In /home/jstabet/miniforge3/envs/dicom/include/ITK-5.4/itkImageSeriesReader.hxx, line "
     ]
    },
    {
     "name": "stdout",
     "output_type": "stream",
     "text": [
      "Epoch 81/100\tTrain Loss: 0.0523 | Train Acc: 0.7980\n"
     ]
    },
    {
     "name": "stderr",
     "output_type": "stream",
     "text": [
      "WARNING: In /home/jstabet/miniforge3/envs/dicom/include/ITK-5.4/itkImageSeriesReader.hxx, line WARNING: In /home/jstabet/miniforge3/envs/dicom/include/ITK-5.4/itkImageSeriesReader.hxx, line WARNING: In /home/jstabet/miniforge3/envs/dicom/include/ITK-5.4/itkImageSeriesReader.hxx, line WARNING: In /home/jstabet/miniforge3/envs/dicom/include/ITK-5.4/itkImageSeriesReader.hxx, line WARNING: In /home/jstabet/miniforge3/envs/dicom/include/ITK-5.4/itkImageSeriesReader.hxx, line WARNING: In /home/jstabet/miniforge3/envs/dicom/include/ITK-5.4/itkImageSeriesReader.hxx, line WARNING: In /home/jstabet/miniforge3/envs/dicom/include/ITK-5.4/itkImageSeriesReader.hxx, line WARNING: In /home/jstabet/miniforge3/envs/dicom/include/ITK-5.4/itkImageSeriesReader.hxx, line WARNING: In /home/jstabet/miniforge3/envs/dicom/include/ITK-5.4/itkImageSeriesReader.hxx, line WARNING: In /home/jstabet/miniforge3/envs/dicom/include/ITK-5.4/itkImageSeriesReader.hxx, line WARNING: In /home/jstabet/miniforge3/envs/dicom/include/ITK-5.4/itkImageSeriesReader.hxx, line WARNING: In /home/jstabet/miniforge3/envs/dicom/include/ITK-5.4/itkImageSeriesReader.hxx, line WARNING: In /home/jstabet/miniforge3/envs/dicom/include/ITK-5.4/itkImageSeriesReader.hxx, line WARNING: In /home/jstabet/miniforge3/envs/dicom/include/ITK-5.4/itkImageSeriesReader.hxx, line WARNING: In /home/jstabet/miniforge3/envs/dicom/include/ITK-5.4/itkImageSeriesReader.hxx, line WARNING: In /home/jstabet/miniforge3/envs/dicom/include/ITK-5.4/itkImageSeriesReader.hxx, line WARNING: In /home/jstabet/miniforge3/envs/dicom/include/ITK-5.4/itkImageSeriesReader.hxx, line WARNING: In /home/jstabet/miniforge3/envs/dicom/include/ITK-5.4/itkImageSeriesReader.hxx, line WARNING: In /home/jstabet/miniforge3/envs/dicom/include/ITK-5.4/itkImageSeriesReader.hxx, line WARNING: In /home/jstabet/miniforge3/envs/dicom/include/ITK-5.4/itkImageSeriesReader.hxx, line WARNING: In /home/jstabet/miniforge3/envs/dicom/include/ITK-5.4/itkImageSeriesReader.hxx, line WARNING: In /home/jstabet/miniforge3/envs/dicom/include/ITK-5.4/itkImageSeriesReader.hxx, line WARNING: In /home/jstabet/miniforge3/envs/dicom/include/ITK-5.4/itkImageSeriesReader.hxx, line WARNING: In /home/jstabet/miniforge3/envs/dicom/include/ITK-5.4/itkImageSeriesReader.hxx, line WARNING: In /home/jstabet/miniforge3/envs/dicom/include/ITK-5.4/itkImageSeriesReader.hxx, line "
     ]
    },
    {
     "name": "stdout",
     "output_type": "stream",
     "text": [
      "Epoch 82/100\tTrain Loss: 0.0511 | Train Acc: 0.7980\n"
     ]
    },
    {
     "name": "stderr",
     "output_type": "stream",
     "text": [
      "WARNING: In /home/jstabet/miniforge3/envs/dicom/include/ITK-5.4/itkImageSeriesReader.hxx, line WARNING: In /home/jstabet/miniforge3/envs/dicom/include/ITK-5.4/itkImageSeriesReader.hxx, line WARNING: In /home/jstabet/miniforge3/envs/dicom/include/ITK-5.4/itkImageSeriesReader.hxx, line WARNING: In /home/jstabet/miniforge3/envs/dicom/include/ITK-5.4/itkImageSeriesReader.hxx, line WARNING: In /home/jstabet/miniforge3/envs/dicom/include/ITK-5.4/itkImageSeriesReader.hxx, line WARNING: In /home/jstabet/miniforge3/envs/dicom/include/ITK-5.4/itkImageSeriesReader.hxx, line WARNING: In /home/jstabet/miniforge3/envs/dicom/include/ITK-5.4/itkImageSeriesReader.hxx, line WARNING: In /home/jstabet/miniforge3/envs/dicom/include/ITK-5.4/itkImageSeriesReader.hxx, line WARNING: In /home/jstabet/miniforge3/envs/dicom/include/ITK-5.4/itkImageSeriesReader.hxx, line WARNING: In /home/jstabet/miniforge3/envs/dicom/include/ITK-5.4/itkImageSeriesReader.hxx, line WARNING: In /home/jstabet/miniforge3/envs/dicom/include/ITK-5.4/itkImageSeriesReader.hxx, line WARNING: In /home/jstabet/miniforge3/envs/dicom/include/ITK-5.4/itkImageSeriesReader.hxx, line WARNING: In /home/jstabet/miniforge3/envs/dicom/include/ITK-5.4/itkImageSeriesReader.hxx, line WARNING: In /home/jstabet/miniforge3/envs/dicom/include/ITK-5.4/itkImageSeriesReader.hxx, line WARNING: In /home/jstabet/miniforge3/envs/dicom/include/ITK-5.4/itkImageSeriesReader.hxx, line WARNING: In /home/jstabet/miniforge3/envs/dicom/include/ITK-5.4/itkImageSeriesReader.hxx, line WARNING: In /home/jstabet/miniforge3/envs/dicom/include/ITK-5.4/itkImageSeriesReader.hxx, line WARNING: In /home/jstabet/miniforge3/envs/dicom/include/ITK-5.4/itkImageSeriesReader.hxx, line WARNING: In /home/jstabet/miniforge3/envs/dicom/include/ITK-5.4/itkImageSeriesReader.hxx, line WARNING: In /home/jstabet/miniforge3/envs/dicom/include/ITK-5.4/itkImageSeriesReader.hxx, line WARNING: In /home/jstabet/miniforge3/envs/dicom/include/ITK-5.4/itkImageSeriesReader.hxx, line WARNING: In /home/jstabet/miniforge3/envs/dicom/include/ITK-5.4/itkImageSeriesReader.hxx, line WARNING: In /home/jstabet/miniforge3/envs/dicom/include/ITK-5.4/itkImageSeriesReader.hxx, line WARNING: In /home/jstabet/miniforge3/envs/dicom/include/ITK-5.4/itkImageSeriesReader.hxx, line WARNING: In /home/jstabet/miniforge3/envs/dicom/include/ITK-5.4/itkImageSeriesReader.hxx, line "
     ]
    },
    {
     "name": "stdout",
     "output_type": "stream",
     "text": [
      "Epoch 83/100\tTrain Loss: 0.0514 | Train Acc: 0.7980\n"
     ]
    },
    {
     "name": "stderr",
     "output_type": "stream",
     "text": [
      "WARNING: In /home/jstabet/miniforge3/envs/dicom/include/ITK-5.4/itkImageSeriesReader.hxx, line WARNING: In /home/jstabet/miniforge3/envs/dicom/include/ITK-5.4/itkImageSeriesReader.hxx, line WARNING: In /home/jstabet/miniforge3/envs/dicom/include/ITK-5.4/itkImageSeriesReader.hxx, line WARNING: In /home/jstabet/miniforge3/envs/dicom/include/ITK-5.4/itkImageSeriesReader.hxx, line WARNING: In /home/jstabet/miniforge3/envs/dicom/include/ITK-5.4/itkImageSeriesReader.hxx, line WARNING: In /home/jstabet/miniforge3/envs/dicom/include/ITK-5.4/itkImageSeriesReader.hxx, line WARNING: In /home/jstabet/miniforge3/envs/dicom/include/ITK-5.4/itkImageSeriesReader.hxx, line WARNING: In /home/jstabet/miniforge3/envs/dicom/include/ITK-5.4/itkImageSeriesReader.hxx, line WARNING: In /home/jstabet/miniforge3/envs/dicom/include/ITK-5.4/itkImageSeriesReader.hxx, line WARNING: In /home/jstabet/miniforge3/envs/dicom/include/ITK-5.4/itkImageSeriesReader.hxx, line WARNING: In /home/jstabet/miniforge3/envs/dicom/include/ITK-5.4/itkImageSeriesReader.hxx, line WARNING: In /home/jstabet/miniforge3/envs/dicom/include/ITK-5.4/itkImageSeriesReader.hxx, line WARNING: In /home/jstabet/miniforge3/envs/dicom/include/ITK-5.4/itkImageSeriesReader.hxx, line WARNING: In /home/jstabet/miniforge3/envs/dicom/include/ITK-5.4/itkImageSeriesReader.hxx, line WARNING: In /home/jstabet/miniforge3/envs/dicom/include/ITK-5.4/itkImageSeriesReader.hxx, line WARNING: In /home/jstabet/miniforge3/envs/dicom/include/ITK-5.4/itkImageSeriesReader.hxx, line WARNING: In /home/jstabet/miniforge3/envs/dicom/include/ITK-5.4/itkImageSeriesReader.hxx, line WARNING: In /home/jstabet/miniforge3/envs/dicom/include/ITK-5.4/itkImageSeriesReader.hxx, line WARNING: In /home/jstabet/miniforge3/envs/dicom/include/ITK-5.4/itkImageSeriesReader.hxx, line WARNING: In /home/jstabet/miniforge3/envs/dicom/include/ITK-5.4/itkImageSeriesReader.hxx, line WARNING: In /home/jstabet/miniforge3/envs/dicom/include/ITK-5.4/itkImageSeriesReader.hxx, line WARNING: In /home/jstabet/miniforge3/envs/dicom/include/ITK-5.4/itkImageSeriesReader.hxx, line WARNING: In /home/jstabet/miniforge3/envs/dicom/include/ITK-5.4/itkImageSeriesReader.hxx, line WARNING: In /home/jstabet/miniforge3/envs/dicom/include/ITK-5.4/itkImageSeriesReader.hxx, line WARNING: In /home/jstabet/miniforge3/envs/dicom/include/ITK-5.4/itkImageSeriesReader.hxx, line "
     ]
    },
    {
     "name": "stdout",
     "output_type": "stream",
     "text": [
      "Epoch 84/100\tTrain Loss: 0.0549 | Train Acc: 0.7980\n"
     ]
    },
    {
     "name": "stderr",
     "output_type": "stream",
     "text": [
      "WARNING: In /home/jstabet/miniforge3/envs/dicom/include/ITK-5.4/itkImageSeriesReader.hxx, line WARNING: In /home/jstabet/miniforge3/envs/dicom/include/ITK-5.4/itkImageSeriesReader.hxx, line WARNING: In /home/jstabet/miniforge3/envs/dicom/include/ITK-5.4/itkImageSeriesReader.hxx, line WARNING: In /home/jstabet/miniforge3/envs/dicom/include/ITK-5.4/itkImageSeriesReader.hxx, line WARNING: In /home/jstabet/miniforge3/envs/dicom/include/ITK-5.4/itkImageSeriesReader.hxx, line WARNING: In /home/jstabet/miniforge3/envs/dicom/include/ITK-5.4/itkImageSeriesReader.hxx, line WARNING: In /home/jstabet/miniforge3/envs/dicom/include/ITK-5.4/itkImageSeriesReader.hxx, line WARNING: In /home/jstabet/miniforge3/envs/dicom/include/ITK-5.4/itkImageSeriesReader.hxx, line WARNING: In /home/jstabet/miniforge3/envs/dicom/include/ITK-5.4/itkImageSeriesReader.hxx, line WARNING: In /home/jstabet/miniforge3/envs/dicom/include/ITK-5.4/itkImageSeriesReader.hxx, line WARNING: In /home/jstabet/miniforge3/envs/dicom/include/ITK-5.4/itkImageSeriesReader.hxx, line WARNING: In /home/jstabet/miniforge3/envs/dicom/include/ITK-5.4/itkImageSeriesReader.hxx, line WARNING: In /home/jstabet/miniforge3/envs/dicom/include/ITK-5.4/itkImageSeriesReader.hxx, line WARNING: In /home/jstabet/miniforge3/envs/dicom/include/ITK-5.4/itkImageSeriesReader.hxx, line WARNING: In /home/jstabet/miniforge3/envs/dicom/include/ITK-5.4/itkImageSeriesReader.hxx, line WARNING: In /home/jstabet/miniforge3/envs/dicom/include/ITK-5.4/itkImageSeriesReader.hxx, line WARNING: In /home/jstabet/miniforge3/envs/dicom/include/ITK-5.4/itkImageSeriesReader.hxx, line WARNING: In /home/jstabet/miniforge3/envs/dicom/include/ITK-5.4/itkImageSeriesReader.hxx, line WARNING: In /home/jstabet/miniforge3/envs/dicom/include/ITK-5.4/itkImageSeriesReader.hxx, line WARNING: In /home/jstabet/miniforge3/envs/dicom/include/ITK-5.4/itkImageSeriesReader.hxx, line WARNING: In /home/jstabet/miniforge3/envs/dicom/include/ITK-5.4/itkImageSeriesReader.hxx, line WARNING: In /home/jstabet/miniforge3/envs/dicom/include/ITK-5.4/itkImageSeriesReader.hxx, line WARNING: In /home/jstabet/miniforge3/envs/dicom/include/ITK-5.4/itkImageSeriesReader.hxx, line WARNING: In /home/jstabet/miniforge3/envs/dicom/include/ITK-5.4/itkImageSeriesReader.hxx, line WARNING: In /home/jstabet/miniforge3/envs/dicom/include/ITK-5.4/itkImageSeriesReader.hxx, line "
     ]
    },
    {
     "name": "stdout",
     "output_type": "stream",
     "text": [
      "Epoch 85/100\tTrain Loss: 0.0528 | Train Acc: 0.7980\n"
     ]
    },
    {
     "name": "stderr",
     "output_type": "stream",
     "text": [
      "WARNING: In /home/jstabet/miniforge3/envs/dicom/include/ITK-5.4/itkImageSeriesReader.hxx, line WARNING: In /home/jstabet/miniforge3/envs/dicom/include/ITK-5.4/itkImageSeriesReader.hxx, line WARNING: In /home/jstabet/miniforge3/envs/dicom/include/ITK-5.4/itkImageSeriesReader.hxx, line WARNING: In /home/jstabet/miniforge3/envs/dicom/include/ITK-5.4/itkImageSeriesReader.hxx, line WARNING: In /home/jstabet/miniforge3/envs/dicom/include/ITK-5.4/itkImageSeriesReader.hxx, line WARNING: In /home/jstabet/miniforge3/envs/dicom/include/ITK-5.4/itkImageSeriesReader.hxx, line WARNING: In /home/jstabet/miniforge3/envs/dicom/include/ITK-5.4/itkImageSeriesReader.hxx, line WARNING: In /home/jstabet/miniforge3/envs/dicom/include/ITK-5.4/itkImageSeriesReader.hxx, line WARNING: In /home/jstabet/miniforge3/envs/dicom/include/ITK-5.4/itkImageSeriesReader.hxx, line WARNING: In /home/jstabet/miniforge3/envs/dicom/include/ITK-5.4/itkImageSeriesReader.hxx, line WARNING: In /home/jstabet/miniforge3/envs/dicom/include/ITK-5.4/itkImageSeriesReader.hxx, line WARNING: In /home/jstabet/miniforge3/envs/dicom/include/ITK-5.4/itkImageSeriesReader.hxx, line WARNING: In /home/jstabet/miniforge3/envs/dicom/include/ITK-5.4/itkImageSeriesReader.hxx, line WARNING: In /home/jstabet/miniforge3/envs/dicom/include/ITK-5.4/itkImageSeriesReader.hxx, line WARNING: In /home/jstabet/miniforge3/envs/dicom/include/ITK-5.4/itkImageSeriesReader.hxx, line WARNING: In /home/jstabet/miniforge3/envs/dicom/include/ITK-5.4/itkImageSeriesReader.hxx, line WARNING: In /home/jstabet/miniforge3/envs/dicom/include/ITK-5.4/itkImageSeriesReader.hxx, line WARNING: In /home/jstabet/miniforge3/envs/dicom/include/ITK-5.4/itkImageSeriesReader.hxx, line WARNING: In /home/jstabet/miniforge3/envs/dicom/include/ITK-5.4/itkImageSeriesReader.hxx, line WARNING: In /home/jstabet/miniforge3/envs/dicom/include/ITK-5.4/itkImageSeriesReader.hxx, line WARNING: In /home/jstabet/miniforge3/envs/dicom/include/ITK-5.4/itkImageSeriesReader.hxx, line WARNING: In /home/jstabet/miniforge3/envs/dicom/include/ITK-5.4/itkImageSeriesReader.hxx, line WARNING: In /home/jstabet/miniforge3/envs/dicom/include/ITK-5.4/itkImageSeriesReader.hxx, line WARNING: In /home/jstabet/miniforge3/envs/dicom/include/ITK-5.4/itkImageSeriesReader.hxx, line WARNING: In /home/jstabet/miniforge3/envs/dicom/include/ITK-5.4/itkImageSeriesReader.hxx, line "
     ]
    },
    {
     "name": "stdout",
     "output_type": "stream",
     "text": [
      "Epoch 86/100\tTrain Loss: 0.0530 | Train Acc: 0.7980\n"
     ]
    },
    {
     "name": "stderr",
     "output_type": "stream",
     "text": [
      "WARNING: In /home/jstabet/miniforge3/envs/dicom/include/ITK-5.4/itkImageSeriesReader.hxx, line WARNING: In /home/jstabet/miniforge3/envs/dicom/include/ITK-5.4/itkImageSeriesReader.hxx, line WARNING: In /home/jstabet/miniforge3/envs/dicom/include/ITK-5.4/itkImageSeriesReader.hxx, line WARNING: In /home/jstabet/miniforge3/envs/dicom/include/ITK-5.4/itkImageSeriesReader.hxx, line WARNING: In /home/jstabet/miniforge3/envs/dicom/include/ITK-5.4/itkImageSeriesReader.hxx, line WARNING: In /home/jstabet/miniforge3/envs/dicom/include/ITK-5.4/itkImageSeriesReader.hxx, line WARNING: In /home/jstabet/miniforge3/envs/dicom/include/ITK-5.4/itkImageSeriesReader.hxx, line WARNING: In /home/jstabet/miniforge3/envs/dicom/include/ITK-5.4/itkImageSeriesReader.hxx, line WARNING: In /home/jstabet/miniforge3/envs/dicom/include/ITK-5.4/itkImageSeriesReader.hxx, line WARNING: In /home/jstabet/miniforge3/envs/dicom/include/ITK-5.4/itkImageSeriesReader.hxx, line WARNING: In /home/jstabet/miniforge3/envs/dicom/include/ITK-5.4/itkImageSeriesReader.hxx, line WARNING: In /home/jstabet/miniforge3/envs/dicom/include/ITK-5.4/itkImageSeriesReader.hxx, line WARNING: In /home/jstabet/miniforge3/envs/dicom/include/ITK-5.4/itkImageSeriesReader.hxx, line WARNING: In /home/jstabet/miniforge3/envs/dicom/include/ITK-5.4/itkImageSeriesReader.hxx, line WARNING: In /home/jstabet/miniforge3/envs/dicom/include/ITK-5.4/itkImageSeriesReader.hxx, line WARNING: In /home/jstabet/miniforge3/envs/dicom/include/ITK-5.4/itkImageSeriesReader.hxx, line WARNING: In /home/jstabet/miniforge3/envs/dicom/include/ITK-5.4/itkImageSeriesReader.hxx, line WARNING: In /home/jstabet/miniforge3/envs/dicom/include/ITK-5.4/itkImageSeriesReader.hxx, line WARNING: In /home/jstabet/miniforge3/envs/dicom/include/ITK-5.4/itkImageSeriesReader.hxx, line WARNING: In /home/jstabet/miniforge3/envs/dicom/include/ITK-5.4/itkImageSeriesReader.hxx, line WARNING: In /home/jstabet/miniforge3/envs/dicom/include/ITK-5.4/itkImageSeriesReader.hxx, line WARNING: In /home/jstabet/miniforge3/envs/dicom/include/ITK-5.4/itkImageSeriesReader.hxx, line WARNING: In /home/jstabet/miniforge3/envs/dicom/include/ITK-5.4/itkImageSeriesReader.hxx, line WARNING: In /home/jstabet/miniforge3/envs/dicom/include/ITK-5.4/itkImageSeriesReader.hxx, line WARNING: In /home/jstabet/miniforge3/envs/dicom/include/ITK-5.4/itkImageSeriesReader.hxx, line "
     ]
    },
    {
     "name": "stdout",
     "output_type": "stream",
     "text": [
      "Epoch 87/100\tTrain Loss: 0.0530 | Train Acc: 0.7980\n"
     ]
    },
    {
     "name": "stderr",
     "output_type": "stream",
     "text": [
      "WARNING: In /home/jstabet/miniforge3/envs/dicom/include/ITK-5.4/itkImageSeriesReader.hxx, line WARNING: In /home/jstabet/miniforge3/envs/dicom/include/ITK-5.4/itkImageSeriesReader.hxx, line WARNING: In /home/jstabet/miniforge3/envs/dicom/include/ITK-5.4/itkImageSeriesReader.hxx, line WARNING: In /home/jstabet/miniforge3/envs/dicom/include/ITK-5.4/itkImageSeriesReader.hxx, line WARNING: In /home/jstabet/miniforge3/envs/dicom/include/ITK-5.4/itkImageSeriesReader.hxx, line WARNING: In /home/jstabet/miniforge3/envs/dicom/include/ITK-5.4/itkImageSeriesReader.hxx, line WARNING: In /home/jstabet/miniforge3/envs/dicom/include/ITK-5.4/itkImageSeriesReader.hxx, line WARNING: In /home/jstabet/miniforge3/envs/dicom/include/ITK-5.4/itkImageSeriesReader.hxx, line WARNING: In /home/jstabet/miniforge3/envs/dicom/include/ITK-5.4/itkImageSeriesReader.hxx, line WARNING: In /home/jstabet/miniforge3/envs/dicom/include/ITK-5.4/itkImageSeriesReader.hxx, line WARNING: In /home/jstabet/miniforge3/envs/dicom/include/ITK-5.4/itkImageSeriesReader.hxx, line WARNING: In /home/jstabet/miniforge3/envs/dicom/include/ITK-5.4/itkImageSeriesReader.hxx, line WARNING: In /home/jstabet/miniforge3/envs/dicom/include/ITK-5.4/itkImageSeriesReader.hxx, line WARNING: In /home/jstabet/miniforge3/envs/dicom/include/ITK-5.4/itkImageSeriesReader.hxx, line WARNING: In /home/jstabet/miniforge3/envs/dicom/include/ITK-5.4/itkImageSeriesReader.hxx, line WARNING: In /home/jstabet/miniforge3/envs/dicom/include/ITK-5.4/itkImageSeriesReader.hxx, line WARNING: In /home/jstabet/miniforge3/envs/dicom/include/ITK-5.4/itkImageSeriesReader.hxx, line WARNING: In /home/jstabet/miniforge3/envs/dicom/include/ITK-5.4/itkImageSeriesReader.hxx, line WARNING: In /home/jstabet/miniforge3/envs/dicom/include/ITK-5.4/itkImageSeriesReader.hxx, line WARNING: In /home/jstabet/miniforge3/envs/dicom/include/ITK-5.4/itkImageSeriesReader.hxx, line WARNING: In /home/jstabet/miniforge3/envs/dicom/include/ITK-5.4/itkImageSeriesReader.hxx, line WARNING: In /home/jstabet/miniforge3/envs/dicom/include/ITK-5.4/itkImageSeriesReader.hxx, line WARNING: In /home/jstabet/miniforge3/envs/dicom/include/ITK-5.4/itkImageSeriesReader.hxx, line WARNING: In /home/jstabet/miniforge3/envs/dicom/include/ITK-5.4/itkImageSeriesReader.hxx, line WARNING: In /home/jstabet/miniforge3/envs/dicom/include/ITK-5.4/itkImageSeriesReader.hxx, line "
     ]
    },
    {
     "name": "stdout",
     "output_type": "stream",
     "text": [
      "Epoch 88/100\tTrain Loss: 0.0533 | Train Acc: 0.7980\n"
     ]
    },
    {
     "name": "stderr",
     "output_type": "stream",
     "text": [
      "WARNING: In /home/jstabet/miniforge3/envs/dicom/include/ITK-5.4/itkImageSeriesReader.hxx, line WARNING: In /home/jstabet/miniforge3/envs/dicom/include/ITK-5.4/itkImageSeriesReader.hxx, line WARNING: In /home/jstabet/miniforge3/envs/dicom/include/ITK-5.4/itkImageSeriesReader.hxx, line WARNING: In /home/jstabet/miniforge3/envs/dicom/include/ITK-5.4/itkImageSeriesReader.hxx, line WARNING: In /home/jstabet/miniforge3/envs/dicom/include/ITK-5.4/itkImageSeriesReader.hxx, line WARNING: In /home/jstabet/miniforge3/envs/dicom/include/ITK-5.4/itkImageSeriesReader.hxx, line WARNING: In /home/jstabet/miniforge3/envs/dicom/include/ITK-5.4/itkImageSeriesReader.hxx, line WARNING: In /home/jstabet/miniforge3/envs/dicom/include/ITK-5.4/itkImageSeriesReader.hxx, line WARNING: In /home/jstabet/miniforge3/envs/dicom/include/ITK-5.4/itkImageSeriesReader.hxx, line WARNING: In /home/jstabet/miniforge3/envs/dicom/include/ITK-5.4/itkImageSeriesReader.hxx, line WARNING: In /home/jstabet/miniforge3/envs/dicom/include/ITK-5.4/itkImageSeriesReader.hxx, line WARNING: In /home/jstabet/miniforge3/envs/dicom/include/ITK-5.4/itkImageSeriesReader.hxx, line WARNING: In /home/jstabet/miniforge3/envs/dicom/include/ITK-5.4/itkImageSeriesReader.hxx, line WARNING: In /home/jstabet/miniforge3/envs/dicom/include/ITK-5.4/itkImageSeriesReader.hxx, line WARNING: In /home/jstabet/miniforge3/envs/dicom/include/ITK-5.4/itkImageSeriesReader.hxx, line WARNING: In /home/jstabet/miniforge3/envs/dicom/include/ITK-5.4/itkImageSeriesReader.hxx, line WARNING: In /home/jstabet/miniforge3/envs/dicom/include/ITK-5.4/itkImageSeriesReader.hxx, line WARNING: In /home/jstabet/miniforge3/envs/dicom/include/ITK-5.4/itkImageSeriesReader.hxx, line WARNING: In /home/jstabet/miniforge3/envs/dicom/include/ITK-5.4/itkImageSeriesReader.hxx, line WARNING: In /home/jstabet/miniforge3/envs/dicom/include/ITK-5.4/itkImageSeriesReader.hxx, line WARNING: In /home/jstabet/miniforge3/envs/dicom/include/ITK-5.4/itkImageSeriesReader.hxx, line WARNING: In /home/jstabet/miniforge3/envs/dicom/include/ITK-5.4/itkImageSeriesReader.hxx, line WARNING: In /home/jstabet/miniforge3/envs/dicom/include/ITK-5.4/itkImageSeriesReader.hxx, line WARNING: In /home/jstabet/miniforge3/envs/dicom/include/ITK-5.4/itkImageSeriesReader.hxx, line WARNING: In /home/jstabet/miniforge3/envs/dicom/include/ITK-5.4/itkImageSeriesReader.hxx, line "
     ]
    },
    {
     "name": "stdout",
     "output_type": "stream",
     "text": [
      "Epoch 89/100\tTrain Loss: 0.0543 | Train Acc: 0.7980\n"
     ]
    },
    {
     "name": "stderr",
     "output_type": "stream",
     "text": [
      "WARNING: In /home/jstabet/miniforge3/envs/dicom/include/ITK-5.4/itkImageSeriesReader.hxx, line WARNING: In /home/jstabet/miniforge3/envs/dicom/include/ITK-5.4/itkImageSeriesReader.hxx, line WARNING: In /home/jstabet/miniforge3/envs/dicom/include/ITK-5.4/itkImageSeriesReader.hxx, line WARNING: In /home/jstabet/miniforge3/envs/dicom/include/ITK-5.4/itkImageSeriesReader.hxx, line WARNING: In /home/jstabet/miniforge3/envs/dicom/include/ITK-5.4/itkImageSeriesReader.hxx, line WARNING: In /home/jstabet/miniforge3/envs/dicom/include/ITK-5.4/itkImageSeriesReader.hxx, line WARNING: In /home/jstabet/miniforge3/envs/dicom/include/ITK-5.4/itkImageSeriesReader.hxx, line WARNING: In /home/jstabet/miniforge3/envs/dicom/include/ITK-5.4/itkImageSeriesReader.hxx, line WARNING: In /home/jstabet/miniforge3/envs/dicom/include/ITK-5.4/itkImageSeriesReader.hxx, line WARNING: In /home/jstabet/miniforge3/envs/dicom/include/ITK-5.4/itkImageSeriesReader.hxx, line WARNING: In /home/jstabet/miniforge3/envs/dicom/include/ITK-5.4/itkImageSeriesReader.hxx, line WARNING: In /home/jstabet/miniforge3/envs/dicom/include/ITK-5.4/itkImageSeriesReader.hxx, line WARNING: In /home/jstabet/miniforge3/envs/dicom/include/ITK-5.4/itkImageSeriesReader.hxx, line WARNING: In /home/jstabet/miniforge3/envs/dicom/include/ITK-5.4/itkImageSeriesReader.hxx, line WARNING: In /home/jstabet/miniforge3/envs/dicom/include/ITK-5.4/itkImageSeriesReader.hxx, line WARNING: In /home/jstabet/miniforge3/envs/dicom/include/ITK-5.4/itkImageSeriesReader.hxx, line WARNING: In /home/jstabet/miniforge3/envs/dicom/include/ITK-5.4/itkImageSeriesReader.hxx, line WARNING: In /home/jstabet/miniforge3/envs/dicom/include/ITK-5.4/itkImageSeriesReader.hxx, line WARNING: In /home/jstabet/miniforge3/envs/dicom/include/ITK-5.4/itkImageSeriesReader.hxx, line WARNING: In /home/jstabet/miniforge3/envs/dicom/include/ITK-5.4/itkImageSeriesReader.hxx, line WARNING: In /home/jstabet/miniforge3/envs/dicom/include/ITK-5.4/itkImageSeriesReader.hxx, line WARNING: In /home/jstabet/miniforge3/envs/dicom/include/ITK-5.4/itkImageSeriesReader.hxx, line WARNING: In /home/jstabet/miniforge3/envs/dicom/include/ITK-5.4/itkImageSeriesReader.hxx, line WARNING: In /home/jstabet/miniforge3/envs/dicom/include/ITK-5.4/itkImageSeriesReader.hxx, line WARNING: In /home/jstabet/miniforge3/envs/dicom/include/ITK-5.4/itkImageSeriesReader.hxx, line "
     ]
    },
    {
     "name": "stdout",
     "output_type": "stream",
     "text": [
      "Epoch 90/100\tTrain Loss: 0.0510 | Train Acc: 0.7980\n"
     ]
    },
    {
     "name": "stderr",
     "output_type": "stream",
     "text": [
      "WARNING: In /home/jstabet/miniforge3/envs/dicom/include/ITK-5.4/itkImageSeriesReader.hxx, line WARNING: In /home/jstabet/miniforge3/envs/dicom/include/ITK-5.4/itkImageSeriesReader.hxx, line WARNING: In /home/jstabet/miniforge3/envs/dicom/include/ITK-5.4/itkImageSeriesReader.hxx, line WARNING: In /home/jstabet/miniforge3/envs/dicom/include/ITK-5.4/itkImageSeriesReader.hxx, line WARNING: In /home/jstabet/miniforge3/envs/dicom/include/ITK-5.4/itkImageSeriesReader.hxx, line WARNING: In /home/jstabet/miniforge3/envs/dicom/include/ITK-5.4/itkImageSeriesReader.hxx, line WARNING: In /home/jstabet/miniforge3/envs/dicom/include/ITK-5.4/itkImageSeriesReader.hxx, line WARNING: In /home/jstabet/miniforge3/envs/dicom/include/ITK-5.4/itkImageSeriesReader.hxx, line WARNING: In /home/jstabet/miniforge3/envs/dicom/include/ITK-5.4/itkImageSeriesReader.hxx, line WARNING: In /home/jstabet/miniforge3/envs/dicom/include/ITK-5.4/itkImageSeriesReader.hxx, line WARNING: In /home/jstabet/miniforge3/envs/dicom/include/ITK-5.4/itkImageSeriesReader.hxx, line WARNING: In /home/jstabet/miniforge3/envs/dicom/include/ITK-5.4/itkImageSeriesReader.hxx, line WARNING: In /home/jstabet/miniforge3/envs/dicom/include/ITK-5.4/itkImageSeriesReader.hxx, line WARNING: In /home/jstabet/miniforge3/envs/dicom/include/ITK-5.4/itkImageSeriesReader.hxx, line WARNING: In /home/jstabet/miniforge3/envs/dicom/include/ITK-5.4/itkImageSeriesReader.hxx, line WARNING: In /home/jstabet/miniforge3/envs/dicom/include/ITK-5.4/itkImageSeriesReader.hxx, line WARNING: In /home/jstabet/miniforge3/envs/dicom/include/ITK-5.4/itkImageSeriesReader.hxx, line WARNING: In /home/jstabet/miniforge3/envs/dicom/include/ITK-5.4/itkImageSeriesReader.hxx, line WARNING: In /home/jstabet/miniforge3/envs/dicom/include/ITK-5.4/itkImageSeriesReader.hxx, line WARNING: In /home/jstabet/miniforge3/envs/dicom/include/ITK-5.4/itkImageSeriesReader.hxx, line WARNING: In /home/jstabet/miniforge3/envs/dicom/include/ITK-5.4/itkImageSeriesReader.hxx, line WARNING: In /home/jstabet/miniforge3/envs/dicom/include/ITK-5.4/itkImageSeriesReader.hxx, line WARNING: In /home/jstabet/miniforge3/envs/dicom/include/ITK-5.4/itkImageSeriesReader.hxx, line WARNING: In /home/jstabet/miniforge3/envs/dicom/include/ITK-5.4/itkImageSeriesReader.hxx, line WARNING: In /home/jstabet/miniforge3/envs/dicom/include/ITK-5.4/itkImageSeriesReader.hxx, line "
     ]
    },
    {
     "name": "stdout",
     "output_type": "stream",
     "text": [
      "Epoch 91/100\tTrain Loss: 0.0510 | Train Acc: 0.7980\n"
     ]
    },
    {
     "name": "stderr",
     "output_type": "stream",
     "text": [
      "WARNING: In /home/jstabet/miniforge3/envs/dicom/include/ITK-5.4/itkImageSeriesReader.hxx, line WARNING: In /home/jstabet/miniforge3/envs/dicom/include/ITK-5.4/itkImageSeriesReader.hxx, line WARNING: In /home/jstabet/miniforge3/envs/dicom/include/ITK-5.4/itkImageSeriesReader.hxx, line WARNING: In /home/jstabet/miniforge3/envs/dicom/include/ITK-5.4/itkImageSeriesReader.hxx, line WARNING: In /home/jstabet/miniforge3/envs/dicom/include/ITK-5.4/itkImageSeriesReader.hxx, line WARNING: In /home/jstabet/miniforge3/envs/dicom/include/ITK-5.4/itkImageSeriesReader.hxx, line WARNING: In /home/jstabet/miniforge3/envs/dicom/include/ITK-5.4/itkImageSeriesReader.hxx, line WARNING: In /home/jstabet/miniforge3/envs/dicom/include/ITK-5.4/itkImageSeriesReader.hxx, line WARNING: In /home/jstabet/miniforge3/envs/dicom/include/ITK-5.4/itkImageSeriesReader.hxx, line WARNING: In /home/jstabet/miniforge3/envs/dicom/include/ITK-5.4/itkImageSeriesReader.hxx, line WARNING: In /home/jstabet/miniforge3/envs/dicom/include/ITK-5.4/itkImageSeriesReader.hxx, line WARNING: In /home/jstabet/miniforge3/envs/dicom/include/ITK-5.4/itkImageSeriesReader.hxx, line WARNING: In /home/jstabet/miniforge3/envs/dicom/include/ITK-5.4/itkImageSeriesReader.hxx, line WARNING: In /home/jstabet/miniforge3/envs/dicom/include/ITK-5.4/itkImageSeriesReader.hxx, line WARNING: In /home/jstabet/miniforge3/envs/dicom/include/ITK-5.4/itkImageSeriesReader.hxx, line WARNING: In /home/jstabet/miniforge3/envs/dicom/include/ITK-5.4/itkImageSeriesReader.hxx, line WARNING: In /home/jstabet/miniforge3/envs/dicom/include/ITK-5.4/itkImageSeriesReader.hxx, line WARNING: In /home/jstabet/miniforge3/envs/dicom/include/ITK-5.4/itkImageSeriesReader.hxx, line WARNING: In /home/jstabet/miniforge3/envs/dicom/include/ITK-5.4/itkImageSeriesReader.hxx, line WARNING: In /home/jstabet/miniforge3/envs/dicom/include/ITK-5.4/itkImageSeriesReader.hxx, line WARNING: In /home/jstabet/miniforge3/envs/dicom/include/ITK-5.4/itkImageSeriesReader.hxx, line WARNING: In /home/jstabet/miniforge3/envs/dicom/include/ITK-5.4/itkImageSeriesReader.hxx, line WARNING: In /home/jstabet/miniforge3/envs/dicom/include/ITK-5.4/itkImageSeriesReader.hxx, line WARNING: In /home/jstabet/miniforge3/envs/dicom/include/ITK-5.4/itkImageSeriesReader.hxx, line WARNING: In /home/jstabet/miniforge3/envs/dicom/include/ITK-5.4/itkImageSeriesReader.hxx, line "
     ]
    },
    {
     "name": "stdout",
     "output_type": "stream",
     "text": [
      "Epoch 92/100\tTrain Loss: 0.0512 | Train Acc: 0.7980\n"
     ]
    },
    {
     "name": "stderr",
     "output_type": "stream",
     "text": [
      "WARNING: In /home/jstabet/miniforge3/envs/dicom/include/ITK-5.4/itkImageSeriesReader.hxx, line WARNING: In /home/jstabet/miniforge3/envs/dicom/include/ITK-5.4/itkImageSeriesReader.hxx, line WARNING: In /home/jstabet/miniforge3/envs/dicom/include/ITK-5.4/itkImageSeriesReader.hxx, line WARNING: In /home/jstabet/miniforge3/envs/dicom/include/ITK-5.4/itkImageSeriesReader.hxx, line WARNING: In /home/jstabet/miniforge3/envs/dicom/include/ITK-5.4/itkImageSeriesReader.hxx, line WARNING: In /home/jstabet/miniforge3/envs/dicom/include/ITK-5.4/itkImageSeriesReader.hxx, line WARNING: In /home/jstabet/miniforge3/envs/dicom/include/ITK-5.4/itkImageSeriesReader.hxx, line WARNING: In /home/jstabet/miniforge3/envs/dicom/include/ITK-5.4/itkImageSeriesReader.hxx, line WARNING: In /home/jstabet/miniforge3/envs/dicom/include/ITK-5.4/itkImageSeriesReader.hxx, line WARNING: In /home/jstabet/miniforge3/envs/dicom/include/ITK-5.4/itkImageSeriesReader.hxx, line WARNING: In /home/jstabet/miniforge3/envs/dicom/include/ITK-5.4/itkImageSeriesReader.hxx, line WARNING: In /home/jstabet/miniforge3/envs/dicom/include/ITK-5.4/itkImageSeriesReader.hxx, line WARNING: In /home/jstabet/miniforge3/envs/dicom/include/ITK-5.4/itkImageSeriesReader.hxx, line WARNING: In /home/jstabet/miniforge3/envs/dicom/include/ITK-5.4/itkImageSeriesReader.hxx, line WARNING: In /home/jstabet/miniforge3/envs/dicom/include/ITK-5.4/itkImageSeriesReader.hxx, line WARNING: In /home/jstabet/miniforge3/envs/dicom/include/ITK-5.4/itkImageSeriesReader.hxx, line WARNING: In /home/jstabet/miniforge3/envs/dicom/include/ITK-5.4/itkImageSeriesReader.hxx, line WARNING: In /home/jstabet/miniforge3/envs/dicom/include/ITK-5.4/itkImageSeriesReader.hxx, line WARNING: In /home/jstabet/miniforge3/envs/dicom/include/ITK-5.4/itkImageSeriesReader.hxx, line WARNING: In /home/jstabet/miniforge3/envs/dicom/include/ITK-5.4/itkImageSeriesReader.hxx, line WARNING: In /home/jstabet/miniforge3/envs/dicom/include/ITK-5.4/itkImageSeriesReader.hxx, line WARNING: In /home/jstabet/miniforge3/envs/dicom/include/ITK-5.4/itkImageSeriesReader.hxx, line WARNING: In /home/jstabet/miniforge3/envs/dicom/include/ITK-5.4/itkImageSeriesReader.hxx, line WARNING: In /home/jstabet/miniforge3/envs/dicom/include/ITK-5.4/itkImageSeriesReader.hxx, line WARNING: In /home/jstabet/miniforge3/envs/dicom/include/ITK-5.4/itkImageSeriesReader.hxx, line "
     ]
    },
    {
     "name": "stdout",
     "output_type": "stream",
     "text": [
      "Epoch 93/100\tTrain Loss: 0.0527 | Train Acc: 0.7980\n"
     ]
    },
    {
     "name": "stderr",
     "output_type": "stream",
     "text": [
      "WARNING: In /home/jstabet/miniforge3/envs/dicom/include/ITK-5.4/itkImageSeriesReader.hxx, line WARNING: In /home/jstabet/miniforge3/envs/dicom/include/ITK-5.4/itkImageSeriesReader.hxx, line WARNING: In /home/jstabet/miniforge3/envs/dicom/include/ITK-5.4/itkImageSeriesReader.hxx, line WARNING: In /home/jstabet/miniforge3/envs/dicom/include/ITK-5.4/itkImageSeriesReader.hxx, line WARNING: In /home/jstabet/miniforge3/envs/dicom/include/ITK-5.4/itkImageSeriesReader.hxx, line WARNING: In /home/jstabet/miniforge3/envs/dicom/include/ITK-5.4/itkImageSeriesReader.hxx, line WARNING: In /home/jstabet/miniforge3/envs/dicom/include/ITK-5.4/itkImageSeriesReader.hxx, line WARNING: In /home/jstabet/miniforge3/envs/dicom/include/ITK-5.4/itkImageSeriesReader.hxx, line WARNING: In /home/jstabet/miniforge3/envs/dicom/include/ITK-5.4/itkImageSeriesReader.hxx, line WARNING: In /home/jstabet/miniforge3/envs/dicom/include/ITK-5.4/itkImageSeriesReader.hxx, line WARNING: In /home/jstabet/miniforge3/envs/dicom/include/ITK-5.4/itkImageSeriesReader.hxx, line WARNING: In /home/jstabet/miniforge3/envs/dicom/include/ITK-5.4/itkImageSeriesReader.hxx, line WARNING: In /home/jstabet/miniforge3/envs/dicom/include/ITK-5.4/itkImageSeriesReader.hxx, line WARNING: In /home/jstabet/miniforge3/envs/dicom/include/ITK-5.4/itkImageSeriesReader.hxx, line WARNING: In /home/jstabet/miniforge3/envs/dicom/include/ITK-5.4/itkImageSeriesReader.hxx, line WARNING: In /home/jstabet/miniforge3/envs/dicom/include/ITK-5.4/itkImageSeriesReader.hxx, line WARNING: In /home/jstabet/miniforge3/envs/dicom/include/ITK-5.4/itkImageSeriesReader.hxx, line WARNING: In /home/jstabet/miniforge3/envs/dicom/include/ITK-5.4/itkImageSeriesReader.hxx, line WARNING: In /home/jstabet/miniforge3/envs/dicom/include/ITK-5.4/itkImageSeriesReader.hxx, line WARNING: In /home/jstabet/miniforge3/envs/dicom/include/ITK-5.4/itkImageSeriesReader.hxx, line WARNING: In /home/jstabet/miniforge3/envs/dicom/include/ITK-5.4/itkImageSeriesReader.hxx, line WARNING: In /home/jstabet/miniforge3/envs/dicom/include/ITK-5.4/itkImageSeriesReader.hxx, line WARNING: In /home/jstabet/miniforge3/envs/dicom/include/ITK-5.4/itkImageSeriesReader.hxx, line WARNING: In /home/jstabet/miniforge3/envs/dicom/include/ITK-5.4/itkImageSeriesReader.hxx, line WARNING: In /home/jstabet/miniforge3/envs/dicom/include/ITK-5.4/itkImageSeriesReader.hxx, line "
     ]
    },
    {
     "name": "stdout",
     "output_type": "stream",
     "text": [
      "Epoch 94/100\tTrain Loss: 0.0520 | Train Acc: 0.7980\n"
     ]
    },
    {
     "name": "stderr",
     "output_type": "stream",
     "text": [
      "WARNING: In /home/jstabet/miniforge3/envs/dicom/include/ITK-5.4/itkImageSeriesReader.hxx, line WARNING: In /home/jstabet/miniforge3/envs/dicom/include/ITK-5.4/itkImageSeriesReader.hxx, line WARNING: In /home/jstabet/miniforge3/envs/dicom/include/ITK-5.4/itkImageSeriesReader.hxx, line WARNING: In /home/jstabet/miniforge3/envs/dicom/include/ITK-5.4/itkImageSeriesReader.hxx, line WARNING: In /home/jstabet/miniforge3/envs/dicom/include/ITK-5.4/itkImageSeriesReader.hxx, line WARNING: In /home/jstabet/miniforge3/envs/dicom/include/ITK-5.4/itkImageSeriesReader.hxx, line WARNING: In /home/jstabet/miniforge3/envs/dicom/include/ITK-5.4/itkImageSeriesReader.hxx, line WARNING: In /home/jstabet/miniforge3/envs/dicom/include/ITK-5.4/itkImageSeriesReader.hxx, line WARNING: In /home/jstabet/miniforge3/envs/dicom/include/ITK-5.4/itkImageSeriesReader.hxx, line WARNING: In /home/jstabet/miniforge3/envs/dicom/include/ITK-5.4/itkImageSeriesReader.hxx, line WARNING: In /home/jstabet/miniforge3/envs/dicom/include/ITK-5.4/itkImageSeriesReader.hxx, line WARNING: In /home/jstabet/miniforge3/envs/dicom/include/ITK-5.4/itkImageSeriesReader.hxx, line WARNING: In /home/jstabet/miniforge3/envs/dicom/include/ITK-5.4/itkImageSeriesReader.hxx, line WARNING: In /home/jstabet/miniforge3/envs/dicom/include/ITK-5.4/itkImageSeriesReader.hxx, line WARNING: In /home/jstabet/miniforge3/envs/dicom/include/ITK-5.4/itkImageSeriesReader.hxx, line WARNING: In /home/jstabet/miniforge3/envs/dicom/include/ITK-5.4/itkImageSeriesReader.hxx, line WARNING: In /home/jstabet/miniforge3/envs/dicom/include/ITK-5.4/itkImageSeriesReader.hxx, line WARNING: In /home/jstabet/miniforge3/envs/dicom/include/ITK-5.4/itkImageSeriesReader.hxx, line WARNING: In /home/jstabet/miniforge3/envs/dicom/include/ITK-5.4/itkImageSeriesReader.hxx, line WARNING: In /home/jstabet/miniforge3/envs/dicom/include/ITK-5.4/itkImageSeriesReader.hxx, line WARNING: In /home/jstabet/miniforge3/envs/dicom/include/ITK-5.4/itkImageSeriesReader.hxx, line WARNING: In /home/jstabet/miniforge3/envs/dicom/include/ITK-5.4/itkImageSeriesReader.hxx, line WARNING: In /home/jstabet/miniforge3/envs/dicom/include/ITK-5.4/itkImageSeriesReader.hxx, line WARNING: In /home/jstabet/miniforge3/envs/dicom/include/ITK-5.4/itkImageSeriesReader.hxx, line WARNING: In /home/jstabet/miniforge3/envs/dicom/include/ITK-5.4/itkImageSeriesReader.hxx, line "
     ]
    },
    {
     "name": "stdout",
     "output_type": "stream",
     "text": [
      "Epoch 95/100\tTrain Loss: 0.0524 | Train Acc: 0.7980\n"
     ]
    },
    {
     "name": "stderr",
     "output_type": "stream",
     "text": [
      "WARNING: In /home/jstabet/miniforge3/envs/dicom/include/ITK-5.4/itkImageSeriesReader.hxx, line WARNING: In /home/jstabet/miniforge3/envs/dicom/include/ITK-5.4/itkImageSeriesReader.hxx, line WARNING: In /home/jstabet/miniforge3/envs/dicom/include/ITK-5.4/itkImageSeriesReader.hxx, line WARNING: In /home/jstabet/miniforge3/envs/dicom/include/ITK-5.4/itkImageSeriesReader.hxx, line WARNING: In /home/jstabet/miniforge3/envs/dicom/include/ITK-5.4/itkImageSeriesReader.hxx, line WARNING: In /home/jstabet/miniforge3/envs/dicom/include/ITK-5.4/itkImageSeriesReader.hxx, line WARNING: In /home/jstabet/miniforge3/envs/dicom/include/ITK-5.4/itkImageSeriesReader.hxx, line WARNING: In /home/jstabet/miniforge3/envs/dicom/include/ITK-5.4/itkImageSeriesReader.hxx, line WARNING: In /home/jstabet/miniforge3/envs/dicom/include/ITK-5.4/itkImageSeriesReader.hxx, line WARNING: In /home/jstabet/miniforge3/envs/dicom/include/ITK-5.4/itkImageSeriesReader.hxx, line WARNING: In /home/jstabet/miniforge3/envs/dicom/include/ITK-5.4/itkImageSeriesReader.hxx, line WARNING: In /home/jstabet/miniforge3/envs/dicom/include/ITK-5.4/itkImageSeriesReader.hxx, line WARNING: In /home/jstabet/miniforge3/envs/dicom/include/ITK-5.4/itkImageSeriesReader.hxx, line WARNING: In /home/jstabet/miniforge3/envs/dicom/include/ITK-5.4/itkImageSeriesReader.hxx, line WARNING: In /home/jstabet/miniforge3/envs/dicom/include/ITK-5.4/itkImageSeriesReader.hxx, line WARNING: In /home/jstabet/miniforge3/envs/dicom/include/ITK-5.4/itkImageSeriesReader.hxx, line WARNING: In /home/jstabet/miniforge3/envs/dicom/include/ITK-5.4/itkImageSeriesReader.hxx, line WARNING: In /home/jstabet/miniforge3/envs/dicom/include/ITK-5.4/itkImageSeriesReader.hxx, line WARNING: In /home/jstabet/miniforge3/envs/dicom/include/ITK-5.4/itkImageSeriesReader.hxx, line WARNING: In /home/jstabet/miniforge3/envs/dicom/include/ITK-5.4/itkImageSeriesReader.hxx, line WARNING: In /home/jstabet/miniforge3/envs/dicom/include/ITK-5.4/itkImageSeriesReader.hxx, line WARNING: In /home/jstabet/miniforge3/envs/dicom/include/ITK-5.4/itkImageSeriesReader.hxx, line WARNING: In /home/jstabet/miniforge3/envs/dicom/include/ITK-5.4/itkImageSeriesReader.hxx, line WARNING: In /home/jstabet/miniforge3/envs/dicom/include/ITK-5.4/itkImageSeriesReader.hxx, line WARNING: In /home/jstabet/miniforge3/envs/dicom/include/ITK-5.4/itkImageSeriesReader.hxx, line "
     ]
    },
    {
     "name": "stdout",
     "output_type": "stream",
     "text": [
      "Epoch 96/100\tTrain Loss: 0.0527 | Train Acc: 0.7980\n"
     ]
    },
    {
     "name": "stderr",
     "output_type": "stream",
     "text": [
      "WARNING: In /home/jstabet/miniforge3/envs/dicom/include/ITK-5.4/itkImageSeriesReader.hxx, line WARNING: In /home/jstabet/miniforge3/envs/dicom/include/ITK-5.4/itkImageSeriesReader.hxx, line WARNING: In /home/jstabet/miniforge3/envs/dicom/include/ITK-5.4/itkImageSeriesReader.hxx, line WARNING: In /home/jstabet/miniforge3/envs/dicom/include/ITK-5.4/itkImageSeriesReader.hxx, line WARNING: In /home/jstabet/miniforge3/envs/dicom/include/ITK-5.4/itkImageSeriesReader.hxx, line WARNING: In /home/jstabet/miniforge3/envs/dicom/include/ITK-5.4/itkImageSeriesReader.hxx, line WARNING: In /home/jstabet/miniforge3/envs/dicom/include/ITK-5.4/itkImageSeriesReader.hxx, line WARNING: In /home/jstabet/miniforge3/envs/dicom/include/ITK-5.4/itkImageSeriesReader.hxx, line WARNING: In /home/jstabet/miniforge3/envs/dicom/include/ITK-5.4/itkImageSeriesReader.hxx, line WARNING: In /home/jstabet/miniforge3/envs/dicom/include/ITK-5.4/itkImageSeriesReader.hxx, line WARNING: In /home/jstabet/miniforge3/envs/dicom/include/ITK-5.4/itkImageSeriesReader.hxx, line WARNING: In /home/jstabet/miniforge3/envs/dicom/include/ITK-5.4/itkImageSeriesReader.hxx, line WARNING: In /home/jstabet/miniforge3/envs/dicom/include/ITK-5.4/itkImageSeriesReader.hxx, line WARNING: In /home/jstabet/miniforge3/envs/dicom/include/ITK-5.4/itkImageSeriesReader.hxx, line WARNING: In /home/jstabet/miniforge3/envs/dicom/include/ITK-5.4/itkImageSeriesReader.hxx, line WARNING: In /home/jstabet/miniforge3/envs/dicom/include/ITK-5.4/itkImageSeriesReader.hxx, line WARNING: In /home/jstabet/miniforge3/envs/dicom/include/ITK-5.4/itkImageSeriesReader.hxx, line WARNING: In /home/jstabet/miniforge3/envs/dicom/include/ITK-5.4/itkImageSeriesReader.hxx, line WARNING: In /home/jstabet/miniforge3/envs/dicom/include/ITK-5.4/itkImageSeriesReader.hxx, line WARNING: In /home/jstabet/miniforge3/envs/dicom/include/ITK-5.4/itkImageSeriesReader.hxx, line WARNING: In /home/jstabet/miniforge3/envs/dicom/include/ITK-5.4/itkImageSeriesReader.hxx, line WARNING: In /home/jstabet/miniforge3/envs/dicom/include/ITK-5.4/itkImageSeriesReader.hxx, line WARNING: In /home/jstabet/miniforge3/envs/dicom/include/ITK-5.4/itkImageSeriesReader.hxx, line WARNING: In /home/jstabet/miniforge3/envs/dicom/include/ITK-5.4/itkImageSeriesReader.hxx, line WARNING: In /home/jstabet/miniforge3/envs/dicom/include/ITK-5.4/itkImageSeriesReader.hxx, line "
     ]
    },
    {
     "name": "stdout",
     "output_type": "stream",
     "text": [
      "Epoch 97/100\tTrain Loss: 0.0546 | Train Acc: 0.7980\n"
     ]
    },
    {
     "name": "stderr",
     "output_type": "stream",
     "text": [
      "WARNING: In /home/jstabet/miniforge3/envs/dicom/include/ITK-5.4/itkImageSeriesReader.hxx, line WARNING: In /home/jstabet/miniforge3/envs/dicom/include/ITK-5.4/itkImageSeriesReader.hxx, line WARNING: In /home/jstabet/miniforge3/envs/dicom/include/ITK-5.4/itkImageSeriesReader.hxx, line WARNING: In /home/jstabet/miniforge3/envs/dicom/include/ITK-5.4/itkImageSeriesReader.hxx, line WARNING: In /home/jstabet/miniforge3/envs/dicom/include/ITK-5.4/itkImageSeriesReader.hxx, line WARNING: In /home/jstabet/miniforge3/envs/dicom/include/ITK-5.4/itkImageSeriesReader.hxx, line WARNING: In /home/jstabet/miniforge3/envs/dicom/include/ITK-5.4/itkImageSeriesReader.hxx, line WARNING: In /home/jstabet/miniforge3/envs/dicom/include/ITK-5.4/itkImageSeriesReader.hxx, line WARNING: In /home/jstabet/miniforge3/envs/dicom/include/ITK-5.4/itkImageSeriesReader.hxx, line WARNING: In /home/jstabet/miniforge3/envs/dicom/include/ITK-5.4/itkImageSeriesReader.hxx, line WARNING: In /home/jstabet/miniforge3/envs/dicom/include/ITK-5.4/itkImageSeriesReader.hxx, line WARNING: In /home/jstabet/miniforge3/envs/dicom/include/ITK-5.4/itkImageSeriesReader.hxx, line WARNING: In /home/jstabet/miniforge3/envs/dicom/include/ITK-5.4/itkImageSeriesReader.hxx, line WARNING: In /home/jstabet/miniforge3/envs/dicom/include/ITK-5.4/itkImageSeriesReader.hxx, line WARNING: In /home/jstabet/miniforge3/envs/dicom/include/ITK-5.4/itkImageSeriesReader.hxx, line WARNING: In /home/jstabet/miniforge3/envs/dicom/include/ITK-5.4/itkImageSeriesReader.hxx, line WARNING: In /home/jstabet/miniforge3/envs/dicom/include/ITK-5.4/itkImageSeriesReader.hxx, line WARNING: In /home/jstabet/miniforge3/envs/dicom/include/ITK-5.4/itkImageSeriesReader.hxx, line WARNING: In /home/jstabet/miniforge3/envs/dicom/include/ITK-5.4/itkImageSeriesReader.hxx, line WARNING: In /home/jstabet/miniforge3/envs/dicom/include/ITK-5.4/itkImageSeriesReader.hxx, line WARNING: In /home/jstabet/miniforge3/envs/dicom/include/ITK-5.4/itkImageSeriesReader.hxx, line WARNING: In /home/jstabet/miniforge3/envs/dicom/include/ITK-5.4/itkImageSeriesReader.hxx, line WARNING: In /home/jstabet/miniforge3/envs/dicom/include/ITK-5.4/itkImageSeriesReader.hxx, line WARNING: In /home/jstabet/miniforge3/envs/dicom/include/ITK-5.4/itkImageSeriesReader.hxx, line WARNING: In /home/jstabet/miniforge3/envs/dicom/include/ITK-5.4/itkImageSeriesReader.hxx, line "
     ]
    },
    {
     "name": "stdout",
     "output_type": "stream",
     "text": [
      "Epoch 98/100\tTrain Loss: 0.0513 | Train Acc: 0.7980\n"
     ]
    },
    {
     "name": "stderr",
     "output_type": "stream",
     "text": [
      "WARNING: In /home/jstabet/miniforge3/envs/dicom/include/ITK-5.4/itkImageSeriesReader.hxx, line WARNING: In /home/jstabet/miniforge3/envs/dicom/include/ITK-5.4/itkImageSeriesReader.hxx, line WARNING: In /home/jstabet/miniforge3/envs/dicom/include/ITK-5.4/itkImageSeriesReader.hxx, line WARNING: In /home/jstabet/miniforge3/envs/dicom/include/ITK-5.4/itkImageSeriesReader.hxx, line WARNING: In /home/jstabet/miniforge3/envs/dicom/include/ITK-5.4/itkImageSeriesReader.hxx, line WARNING: In /home/jstabet/miniforge3/envs/dicom/include/ITK-5.4/itkImageSeriesReader.hxx, line WARNING: In /home/jstabet/miniforge3/envs/dicom/include/ITK-5.4/itkImageSeriesReader.hxx, line WARNING: In /home/jstabet/miniforge3/envs/dicom/include/ITK-5.4/itkImageSeriesReader.hxx, line WARNING: In /home/jstabet/miniforge3/envs/dicom/include/ITK-5.4/itkImageSeriesReader.hxx, line WARNING: In /home/jstabet/miniforge3/envs/dicom/include/ITK-5.4/itkImageSeriesReader.hxx, line WARNING: In /home/jstabet/miniforge3/envs/dicom/include/ITK-5.4/itkImageSeriesReader.hxx, line WARNING: In /home/jstabet/miniforge3/envs/dicom/include/ITK-5.4/itkImageSeriesReader.hxx, line WARNING: In /home/jstabet/miniforge3/envs/dicom/include/ITK-5.4/itkImageSeriesReader.hxx, line WARNING: In /home/jstabet/miniforge3/envs/dicom/include/ITK-5.4/itkImageSeriesReader.hxx, line WARNING: In /home/jstabet/miniforge3/envs/dicom/include/ITK-5.4/itkImageSeriesReader.hxx, line WARNING: In /home/jstabet/miniforge3/envs/dicom/include/ITK-5.4/itkImageSeriesReader.hxx, line WARNING: In /home/jstabet/miniforge3/envs/dicom/include/ITK-5.4/itkImageSeriesReader.hxx, line WARNING: In /home/jstabet/miniforge3/envs/dicom/include/ITK-5.4/itkImageSeriesReader.hxx, line WARNING: In /home/jstabet/miniforge3/envs/dicom/include/ITK-5.4/itkImageSeriesReader.hxx, line WARNING: In /home/jstabet/miniforge3/envs/dicom/include/ITK-5.4/itkImageSeriesReader.hxx, line WARNING: In /home/jstabet/miniforge3/envs/dicom/include/ITK-5.4/itkImageSeriesReader.hxx, line WARNING: In /home/jstabet/miniforge3/envs/dicom/include/ITK-5.4/itkImageSeriesReader.hxx, line WARNING: In /home/jstabet/miniforge3/envs/dicom/include/ITK-5.4/itkImageSeriesReader.hxx, line WARNING: In /home/jstabet/miniforge3/envs/dicom/include/ITK-5.4/itkImageSeriesReader.hxx, line WARNING: In /home/jstabet/miniforge3/envs/dicom/include/ITK-5.4/itkImageSeriesReader.hxx, line "
     ]
    },
    {
     "name": "stdout",
     "output_type": "stream",
     "text": [
      "Epoch 99/100\tTrain Loss: 0.0525 | Train Acc: 0.7980\n"
     ]
    },
    {
     "name": "stderr",
     "output_type": "stream",
     "text": [
      "WARNING: In /home/jstabet/miniforge3/envs/dicom/include/ITK-5.4/itkImageSeriesReader.hxx, line WARNING: In /home/jstabet/miniforge3/envs/dicom/include/ITK-5.4/itkImageSeriesReader.hxx, line WARNING: In /home/jstabet/miniforge3/envs/dicom/include/ITK-5.4/itkImageSeriesReader.hxx, line WARNING: In /home/jstabet/miniforge3/envs/dicom/include/ITK-5.4/itkImageSeriesReader.hxx, line WARNING: In /home/jstabet/miniforge3/envs/dicom/include/ITK-5.4/itkImageSeriesReader.hxx, line WARNING: In /home/jstabet/miniforge3/envs/dicom/include/ITK-5.4/itkImageSeriesReader.hxx, line WARNING: In /home/jstabet/miniforge3/envs/dicom/include/ITK-5.4/itkImageSeriesReader.hxx, line WARNING: In /home/jstabet/miniforge3/envs/dicom/include/ITK-5.4/itkImageSeriesReader.hxx, line WARNING: In /home/jstabet/miniforge3/envs/dicom/include/ITK-5.4/itkImageSeriesReader.hxx, line WARNING: In /home/jstabet/miniforge3/envs/dicom/include/ITK-5.4/itkImageSeriesReader.hxx, line WARNING: In /home/jstabet/miniforge3/envs/dicom/include/ITK-5.4/itkImageSeriesReader.hxx, line WARNING: In /home/jstabet/miniforge3/envs/dicom/include/ITK-5.4/itkImageSeriesReader.hxx, line WARNING: In /home/jstabet/miniforge3/envs/dicom/include/ITK-5.4/itkImageSeriesReader.hxx, line WARNING: In /home/jstabet/miniforge3/envs/dicom/include/ITK-5.4/itkImageSeriesReader.hxx, line WARNING: In /home/jstabet/miniforge3/envs/dicom/include/ITK-5.4/itkImageSeriesReader.hxx, line WARNING: In /home/jstabet/miniforge3/envs/dicom/include/ITK-5.4/itkImageSeriesReader.hxx, line WARNING: In /home/jstabet/miniforge3/envs/dicom/include/ITK-5.4/itkImageSeriesReader.hxx, line WARNING: In /home/jstabet/miniforge3/envs/dicom/include/ITK-5.4/itkImageSeriesReader.hxx, line WARNING: In /home/jstabet/miniforge3/envs/dicom/include/ITK-5.4/itkImageSeriesReader.hxx, line WARNING: In /home/jstabet/miniforge3/envs/dicom/include/ITK-5.4/itkImageSeriesReader.hxx, line WARNING: In /home/jstabet/miniforge3/envs/dicom/include/ITK-5.4/itkImageSeriesReader.hxx, line WARNING: In /home/jstabet/miniforge3/envs/dicom/include/ITK-5.4/itkImageSeriesReader.hxx, line WARNING: In /home/jstabet/miniforge3/envs/dicom/include/ITK-5.4/itkImageSeriesReader.hxx, line WARNING: In /home/jstabet/miniforge3/envs/dicom/include/ITK-5.4/itkImageSeriesReader.hxx, line WARNING: In /home/jstabet/miniforge3/envs/dicom/include/ITK-5.4/itkImageSeriesReader.hxx, line "
     ]
    },
    {
     "name": "stdout",
     "output_type": "stream",
     "text": [
      "Epoch 100/100\tTrain Loss: 0.0525 | Train Acc: 0.7980\n"
     ]
    },
    {
     "name": "stderr",
     "output_type": "stream",
     "text": [
      "WARNING: In /home/jstabet/miniforge3/envs/dicom/include/ITK-5.4/itkImageSeriesReader.hxx, line "
     ]
    },
    {
     "ename": "AttributeError",
     "evalue": "'str' object has no attribute 'to'",
     "output_type": "error",
     "traceback": [
      "\u001b[31m---------------------------------------------------------------------------\u001b[39m",
      "\u001b[31mAttributeError\u001b[39m                            Traceback (most recent call last)",
      "\u001b[36mCell\u001b[39m\u001b[36m \u001b[39m\u001b[32mIn[3]\u001b[39m\u001b[32m, line 56\u001b[39m\n\u001b[32m     54\u001b[39m \u001b[38;5;28;01mwith\u001b[39;00m torch.no_grad():\n\u001b[32m     55\u001b[39m     \u001b[38;5;28;01mfor\u001b[39;00m i, (inputs, labels) \u001b[38;5;129;01min\u001b[39;00m \u001b[38;5;28menumerate\u001b[39m(test_loader):\n\u001b[32m---> \u001b[39m\u001b[32m56\u001b[39m         inputs, labels = \u001b[43minputs\u001b[49m\u001b[43m.\u001b[49m\u001b[43mto\u001b[49m(DEVICE), labels.to(DEVICE)\n\u001b[32m     57\u001b[39m         outputs = model(inputs)\n\u001b[32m     58\u001b[39m         correct += (torch.softmax(outputs, dim=\u001b[32m1\u001b[39m).argmax(dim=\u001b[32m1\u001b[39m) == labels).sum().item()\n",
      "\u001b[31mAttributeError\u001b[39m: 'str' object has no attribute 'to'"
     ]
    }
   ],
   "source": [
    "# compile model\n",
    "DEVICE = torch.device('cuda' if torch.cuda.is_available() else 'cpu')\n",
    "model = MRIClassifier()\n",
    "model = nn.DataParallel(model)\n",
    "model.to(DEVICE)\n",
    "\n",
    "# # weighted loss\n",
    "# import numpy as np\n",
    "# from sklearn.utils.class_weight import compute_class_weight\n",
    "# train_labels = np.array([dataset[i][1] for i in train_data.indices])\n",
    "# classes = np.arange(train_loader.dataset.dataset.num_classes)\n",
    "# class_weights = compute_class_weight(class_weight='balanced', classes=classes, y=train_labels)\n",
    "# loss_fn = torch.nn.CrossEntropyLoss(weight=torch.tensor(class_weights, dtype=torch.float32)).to(DEVICE) # expects logits\n",
    "\n",
    "loss_fn = torch.nn.CrossEntropyLoss() # expects logits\n",
    "optimizer = torch.optim.Adam(model.parameters())\n",
    "\n",
    "# train\n",
    "EPOCHS = 100\n",
    "train_losses = []\n",
    "val_losses = []\n",
    "train_accs = []\n",
    "val_accs = []\n",
    "best_val_loss = torch.inf\n",
    "for epoch in range(EPOCHS):\n",
    "    # train\n",
    "    model.train()\n",
    "    running_loss = 0.0\n",
    "    running_correct = 0\n",
    "    for i, batch in enumerate(train_loader):\n",
    "        inputs = batch['mri'][tio.DATA] # shape: (B, 1, D, H, W)\n",
    "        labels = batch['label']\n",
    "        inputs, labels = inputs.to(DEVICE), labels.to(DEVICE)\n",
    "        optimizer.zero_grad()\n",
    "        outputs = model(inputs)\n",
    "        loss = loss_fn(outputs, labels)\n",
    "        loss.backward()\n",
    "        optimizer.step()\n",
    "        running_loss += loss.item()\n",
    "        running_correct += (torch.softmax(outputs, dim=1).argmax(dim=1) == labels).sum().item()\n",
    "\n",
    "    print(f\"Epoch {epoch+1}/{EPOCHS}\\tTrain Loss: {running_loss/train_N:.4f} | Train Acc: {running_correct/train_N:.4f}\")\n",
    "    train_losses.append(running_loss/train_N)\n",
    "    train_accs.append(running_correct/train_N)\n",
    "\n",
    "    # save model\n",
    "    torch.save(model, f'../results/model.pt')"
   ]
  },
  {
   "cell_type": "markdown",
   "id": "4a42c534",
   "metadata": {},
   "source": [
    "# test"
   ]
  },
  {
   "cell_type": "code",
   "execution_count": null,
   "id": "c2ebc261",
   "metadata": {},
   "outputs": [],
   "source": [
    "import numpy as np\n",
    "\n",
    "# load best model\n",
    "model = torch.load(f'../results/model.pt', weights_only=False).to(DEVICE)\n",
    "\n",
    "model.eval()\n",
    "\n",
    "y_true = []\n",
    "y_logits = []\n",
    "y_scores = []\n",
    "y_pred = []\n",
    "\n",
    "correct = 0\n",
    "\n",
    "with torch.no_grad():\n",
    "    for i, batch in enumerate(test_loader):\n",
    "        inputs = batch['mri'][tio.DATA] # shape: (B, 1, D, H, W)\n",
    "        labels = batch['label']\n",
    "        inputs, labels = inputs.to(DEVICE), labels.to(DEVICE)\n",
    "        outputs = model(inputs)\n",
    "\n",
    "        y_true.extend(labels.cpu().numpy())\n",
    "        y_logits.extend(outputs.cpu().numpy())\n",
    "        y_scores.extend(torch.softmax(outputs, dim=1).cpu().numpy())\n",
    "        y_pred.extend(torch.softmax(outputs, dim=1).argmax(dim=1).cpu().numpy())\n",
    "\n",
    "        correct += (torch.softmax(outputs, dim=1).argmax(dim=1) == labels).sum().item()\n",
    "\n",
    "y_true = np.array(y_true)\n",
    "y_logits = np.array(y_logits)\n",
    "y_scores = np.array(y_scores)\n",
    "y_pred = np.array(y_pred)\n",
    "\n",
    "print()\n",
    "print(f'Test Accuracy: {correct/test_N:.4f}')"
   ]
  },
  {
   "cell_type": "markdown",
   "id": "ec9f1f15",
   "metadata": {},
   "source": [
    "# save"
   ]
  },
  {
   "cell_type": "code",
   "execution_count": null,
   "id": "b6a978e0",
   "metadata": {},
   "outputs": [],
   "source": [
    "import pandas as pd\n",
    "\n",
    "# save datasets, optimizer state, and metrics to metadata file\n",
    "torch.save({'train_loader': train_loader,#train_data,\n",
    "            'test_loader': test_loader,#test_data,\n",
    "            'optimizer_state': optimizer.state_dict(),\n",
    "            'y_true': y_true,\n",
    "            'y_logits': y_logits,\n",
    "            'y_scores': y_scores,\n",
    "            'y_pred': y_pred,\n",
    "            'metrics': pd.DataFrame({'train_loss': train_losses,\n",
    "                                     'train_acc': train_accs,})},\n",
    "            \n",
    "            f'../results/metadata.pt')"
   ]
  }
 ],
 "metadata": {
  "kernelspec": {
   "display_name": "dicom",
   "language": "python",
   "name": "python3"
  },
  "language_info": {
   "codemirror_mode": {
    "name": "ipython",
    "version": 3
   },
   "file_extension": ".py",
   "mimetype": "text/x-python",
   "name": "python",
   "nbconvert_exporter": "python",
   "pygments_lexer": "ipython3",
   "version": "3.13.3"
  }
 },
 "nbformat": 4,
 "nbformat_minor": 5
}
